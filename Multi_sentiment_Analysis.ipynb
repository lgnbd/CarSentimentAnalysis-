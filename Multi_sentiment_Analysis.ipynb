{
  "cells": [
    {
      "cell_type": "code",
      "execution_count": null,
      "metadata": {
        "colab": {
          "base_uri": "https://localhost:8080/"
        },
        "id": "KQeRLxpb-HOW",
        "outputId": "c758df4a-376f-43fd-86e4-f97fcf0f197c"
      },
      "outputs": [
        {
          "name": "stdout",
          "output_type": "stream",
          "text": [
            "NVIDIA-SMI has failed because it couldn't communicate with the NVIDIA driver. Make sure that the latest NVIDIA driver is installed and running.\n",
            "\n",
            "Architecture:        x86_64\n",
            "CPU op-mode(s):      32-bit, 64-bit\n",
            "Byte Order:          Little Endian\n",
            "CPU(s):              2\n",
            "On-line CPU(s) list: 0,1\n",
            "Thread(s) per core:  2\n",
            "Core(s) per socket:  1\n",
            "Socket(s):           1\n",
            "NUMA node(s):        1\n",
            "Vendor ID:           GenuineIntel\n",
            "CPU family:          6\n",
            "Model:               79\n",
            "Model name:          Intel(R) Xeon(R) CPU @ 2.20GHz\n",
            "Stepping:            0\n",
            "CPU MHz:             2200.198\n",
            "BogoMIPS:            4400.39\n",
            "Hypervisor vendor:   KVM\n",
            "Virtualization type: full\n",
            "L1d cache:           32K\n",
            "L1i cache:           32K\n",
            "L2 cache:            256K\n",
            "L3 cache:            56320K\n",
            "NUMA node0 CPU(s):   0,1\n",
            "Flags:               fpu vme de pse tsc msr pae mce cx8 apic sep mtrr pge mca cmov pat pse36 clflush mmx fxsr sse sse2 ss ht syscall nx pdpe1gb rdtscp lm constant_tsc rep_good nopl xtopology nonstop_tsc cpuid tsc_known_freq pni pclmulqdq ssse3 fma cx16 pcid sse4_1 sse4_2 x2apic movbe popcnt aes xsave avx f16c rdrand hypervisor lahf_lm abm 3dnowprefetch invpcid_single ssbd ibrs ibpb stibp fsgsbase tsc_adjust bmi1 hle avx2 smep bmi2 erms invpcid rtm rdseed adx smap xsaveopt arat md_clear arch_capabilities\n"
          ]
        }
      ],
      "source": [
        "!nvidia-smi\n",
        "!lscpu"
      ]
    },
    {
      "cell_type": "code",
      "execution_count": null,
      "metadata": {
        "colab": {
          "base_uri": "https://localhost:8080/"
        },
        "id": "PNodO6cX-TAx",
        "outputId": "433c83fd-f545-482c-a6fe-7d7dada2e021"
      },
      "outputs": [
        {
          "name": "stdout",
          "output_type": "stream",
          "text": [
            "Looking in indexes: https://pypi.org/simple, https://us-python.pkg.dev/colab-wheels/public/simple/\n",
            "Collecting hazm==0.7.0\n",
            "  Downloading hazm-0.7.0-py3-none-any.whl (316 kB)\n",
            "\u001b[K     |████████████████████████████████| 316 kB 7.9 MB/s \n",
            "\u001b[?25hCollecting libwapiti>=0.2.1\n",
            "  Downloading libwapiti-0.2.1.tar.gz (233 kB)\n",
            "\u001b[K     |████████████████████████████████| 233 kB 48.1 MB/s \n",
            "\u001b[?25hCollecting nltk==3.3\n",
            "  Downloading nltk-3.3.0.zip (1.4 MB)\n",
            "\u001b[K     |████████████████████████████████| 1.4 MB 44.4 MB/s \n",
            "\u001b[?25hRequirement already satisfied: six in /usr/local/lib/python3.7/dist-packages (from nltk==3.3->hazm==0.7.0) (1.15.0)\n",
            "Building wheels for collected packages: nltk, libwapiti\n",
            "  Building wheel for nltk (setup.py) ... \u001b[?25l\u001b[?25hdone\n",
            "  Created wheel for nltk: filename=nltk-3.3-py3-none-any.whl size=1394486 sha256=2e424e0b74d359bf420357b97e36ce5aa633ec9dbb6312d27053c5244d18c7f4\n",
            "  Stored in directory: /root/.cache/pip/wheels/9b/fd/0c/d92302c876e5de87ebd7fc0979d82edb93e2d8d768bf71fac4\n",
            "  Building wheel for libwapiti (setup.py) ... \u001b[?25l\u001b[?25hdone\n",
            "  Created wheel for libwapiti: filename=libwapiti-0.2.1-cp37-cp37m-linux_x86_64.whl size=154728 sha256=0069e1bc21c896eb884dd0a3fce755f858d05b64dbb6ad78ba0da5f1c3da1c11\n",
            "  Stored in directory: /root/.cache/pip/wheels/ab/b2/5b/0fe4b8f5c0e65341e8ea7bb3f4a6ebabfe8b1ac31322392dbf\n",
            "Successfully built nltk libwapiti\n",
            "Installing collected packages: nltk, libwapiti, hazm\n",
            "  Attempting uninstall: nltk\n",
            "    Found existing installation: nltk 3.7\n",
            "    Uninstalling nltk-3.7:\n",
            "      Successfully uninstalled nltk-3.7\n",
            "Successfully installed hazm-0.7.0 libwapiti-0.2.1 nltk-3.3\n",
            "Looking in indexes: https://pypi.org/simple, https://us-python.pkg.dev/colab-wheels/public/simple/\n",
            "Collecting seqeval==1.2.2\n",
            "  Downloading seqeval-1.2.2.tar.gz (43 kB)\n",
            "\u001b[K     |████████████████████████████████| 43 kB 1.7 MB/s \n",
            "\u001b[?25hRequirement already satisfied: numpy>=1.14.0 in /usr/local/lib/python3.7/dist-packages (from seqeval==1.2.2) (1.21.6)\n",
            "Requirement already satisfied: scikit-learn>=0.21.3 in /usr/local/lib/python3.7/dist-packages (from seqeval==1.2.2) (1.0.2)\n",
            "Requirement already satisfied: scipy>=1.1.0 in /usr/local/lib/python3.7/dist-packages (from scikit-learn>=0.21.3->seqeval==1.2.2) (1.7.3)\n",
            "Requirement already satisfied: joblib>=0.11 in /usr/local/lib/python3.7/dist-packages (from scikit-learn>=0.21.3->seqeval==1.2.2) (1.1.0)\n",
            "Requirement already satisfied: threadpoolctl>=2.0.0 in /usr/local/lib/python3.7/dist-packages (from scikit-learn>=0.21.3->seqeval==1.2.2) (3.1.0)\n",
            "Building wheels for collected packages: seqeval\n",
            "  Building wheel for seqeval (setup.py) ... \u001b[?25l\u001b[?25hdone\n",
            "  Created wheel for seqeval: filename=seqeval-1.2.2-py3-none-any.whl size=16180 sha256=0507e566efa98f0cf064a5c888a64b952065d20d4e4d6ecc2c0117cd2a180578\n",
            "  Stored in directory: /root/.cache/pip/wheels/05/96/ee/7cac4e74f3b19e3158dce26a20a1c86b3533c43ec72a549fd7\n",
            "Successfully built seqeval\n",
            "Installing collected packages: seqeval\n",
            "Successfully installed seqeval-1.2.2\n",
            "Looking in indexes: https://pypi.org/simple, https://us-python.pkg.dev/colab-wheels/public/simple/\n",
            "Collecting sentencepiece==0.1.96\n",
            "  Downloading sentencepiece-0.1.96-cp37-cp37m-manylinux_2_17_x86_64.manylinux2014_x86_64.whl (1.2 MB)\n",
            "\u001b[K     |████████████████████████████████| 1.2 MB 7.0 MB/s \n",
            "\u001b[?25hInstalling collected packages: sentencepiece\n",
            "Successfully installed sentencepiece-0.1.96\n",
            "Looking in indexes: https://pypi.org/simple, https://us-python.pkg.dev/colab-wheels/public/simple/\n",
            "Collecting transformers==4.7.0\n",
            "  Downloading transformers-4.7.0-py3-none-any.whl (2.5 MB)\n",
            "\u001b[K     |████████████████████████████████| 2.5 MB 7.7 MB/s \n",
            "\u001b[?25hRequirement already satisfied: packaging in /usr/local/lib/python3.7/dist-packages (from transformers==4.7.0) (21.3)\n",
            "Requirement already satisfied: requests in /usr/local/lib/python3.7/dist-packages (from transformers==4.7.0) (2.23.0)\n",
            "Requirement already satisfied: importlib-metadata in /usr/local/lib/python3.7/dist-packages (from transformers==4.7.0) (4.12.0)\n",
            "Collecting sacremoses\n",
            "  Downloading sacremoses-0.0.53.tar.gz (880 kB)\n",
            "\u001b[K     |████████████████████████████████| 880 kB 49.7 MB/s \n",
            "\u001b[?25hRequirement already satisfied: pyyaml in /usr/local/lib/python3.7/dist-packages (from transformers==4.7.0) (6.0)\n",
            "Requirement already satisfied: filelock in /usr/local/lib/python3.7/dist-packages (from transformers==4.7.0) (3.8.0)\n",
            "Collecting tokenizers<0.11,>=0.10.1\n",
            "  Downloading tokenizers-0.10.3-cp37-cp37m-manylinux_2_5_x86_64.manylinux1_x86_64.manylinux_2_12_x86_64.manylinux2010_x86_64.whl (3.3 MB)\n",
            "\u001b[K     |████████████████████████████████| 3.3 MB 44.1 MB/s \n",
            "\u001b[?25hRequirement already satisfied: tqdm>=4.27 in /usr/local/lib/python3.7/dist-packages (from transformers==4.7.0) (4.64.1)\n",
            "Collecting huggingface-hub==0.0.8\n",
            "  Downloading huggingface_hub-0.0.8-py3-none-any.whl (34 kB)\n",
            "Requirement already satisfied: regex!=2019.12.17 in /usr/local/lib/python3.7/dist-packages (from transformers==4.7.0) (2022.6.2)\n",
            "Requirement already satisfied: numpy>=1.17 in /usr/local/lib/python3.7/dist-packages (from transformers==4.7.0) (1.21.6)\n",
            "Requirement already satisfied: typing-extensions>=3.6.4 in /usr/local/lib/python3.7/dist-packages (from importlib-metadata->transformers==4.7.0) (4.1.1)\n",
            "Requirement already satisfied: zipp>=0.5 in /usr/local/lib/python3.7/dist-packages (from importlib-metadata->transformers==4.7.0) (3.8.1)\n",
            "Requirement already satisfied: pyparsing!=3.0.5,>=2.0.2 in /usr/local/lib/python3.7/dist-packages (from packaging->transformers==4.7.0) (3.0.9)\n",
            "Requirement already satisfied: urllib3!=1.25.0,!=1.25.1,<1.26,>=1.21.1 in /usr/local/lib/python3.7/dist-packages (from requests->transformers==4.7.0) (1.24.3)\n",
            "Requirement already satisfied: chardet<4,>=3.0.2 in /usr/local/lib/python3.7/dist-packages (from requests->transformers==4.7.0) (3.0.4)\n",
            "Requirement already satisfied: idna<3,>=2.5 in /usr/local/lib/python3.7/dist-packages (from requests->transformers==4.7.0) (2.10)\n",
            "Requirement already satisfied: certifi>=2017.4.17 in /usr/local/lib/python3.7/dist-packages (from requests->transformers==4.7.0) (2022.6.15)\n",
            "Requirement already satisfied: six in /usr/local/lib/python3.7/dist-packages (from sacremoses->transformers==4.7.0) (1.15.0)\n",
            "Requirement already satisfied: click in /usr/local/lib/python3.7/dist-packages (from sacremoses->transformers==4.7.0) (7.1.2)\n",
            "Requirement already satisfied: joblib in /usr/local/lib/python3.7/dist-packages (from sacremoses->transformers==4.7.0) (1.1.0)\n",
            "Building wheels for collected packages: sacremoses\n",
            "  Building wheel for sacremoses (setup.py) ... \u001b[?25l\u001b[?25hdone\n",
            "  Created wheel for sacremoses: filename=sacremoses-0.0.53-py3-none-any.whl size=895260 sha256=0ffe04e2bb283757be43aabcae3a8471030bb70a098f36da16269f177d63ae97\n",
            "  Stored in directory: /root/.cache/pip/wheels/87/39/dd/a83eeef36d0bf98e7a4d1933a4ad2d660295a40613079bafc9\n",
            "Successfully built sacremoses\n",
            "Installing collected packages: tokenizers, sacremoses, huggingface-hub, transformers\n",
            "Successfully installed huggingface-hub-0.0.8 sacremoses-0.0.53 tokenizers-0.10.3 transformers-4.7.0\n",
            "Looking in indexes: https://pypi.org/simple, https://us-python.pkg.dev/colab-wheels/public/simple/\n",
            "Collecting clean-text[gpl]==0.4.0\n",
            "  Downloading clean_text-0.4.0-py3-none-any.whl (9.8 kB)\n",
            "Collecting ftfy<7.0,>=6.0\n",
            "  Downloading ftfy-6.1.1-py3-none-any.whl (53 kB)\n",
            "\u001b[K     |████████████████████████████████| 53 kB 1.6 MB/s \n",
            "\u001b[?25hCollecting emoji\n",
            "  Downloading emoji-2.1.0.tar.gz (216 kB)\n",
            "\u001b[K     |████████████████████████████████| 216 kB 15.8 MB/s \n",
            "\u001b[?25hCollecting unidecode<2.0.0,>=1.1.1\n",
            "  Downloading Unidecode-1.3.6-py3-none-any.whl (235 kB)\n",
            "\u001b[K     |████████████████████████████████| 235 kB 45.6 MB/s \n",
            "\u001b[?25hRequirement already satisfied: wcwidth>=0.2.5 in /usr/local/lib/python3.7/dist-packages (from ftfy<7.0,>=6.0->clean-text[gpl]==0.4.0) (0.2.5)\n",
            "Building wheels for collected packages: emoji\n",
            "  Building wheel for emoji (setup.py) ... \u001b[?25l\u001b[?25hdone\n",
            "  Created wheel for emoji: filename=emoji-2.1.0-py3-none-any.whl size=212392 sha256=06bc6966a76ed46e5c74ba852956d1a664df9ba872fde02bde7397741438d011\n",
            "  Stored in directory: /root/.cache/pip/wheels/77/75/99/51c2a119f4cfd3af7b49cc57e4f737bed7e40b348a85d82804\n",
            "Successfully built emoji\n",
            "Installing collected packages: ftfy, emoji, unidecode, clean-text\n",
            "Successfully installed clean-text-0.4.0 emoji-2.1.0 ftfy-6.1.1 unidecode-1.3.6\n"
          ]
        }
      ],
      "source": [
        "!pip install hazm==0.7.0\n",
        "!pip install seqeval==1.2.2\n",
        "!pip install sentencepiece==0.1.96\n",
        "!pip install transformers==4.7.0\n",
        "!pip install clean-text[gpl]==0.4.0"
      ]
    },
    {
      "cell_type": "code",
      "execution_count": null,
      "metadata": {
        "colab": {
          "base_uri": "https://localhost:8080/"
        },
        "id": "5bUW8WZ1-Vwk",
        "outputId": "de7ba3c3-db80-406f-fe37-22c043f25371"
      },
      "outputs": [
        {
          "name": "stdout",
          "output_type": "stream",
          "text": [
            "Looking in indexes: https://pypi.org/simple, https://us-python.pkg.dev/colab-wheels/public/simple/\n",
            "Requirement already satisfied: transformers in /usr/local/lib/python3.7/dist-packages (4.7.0)\n",
            "Collecting transformers\n",
            "  Downloading transformers-4.22.2-py3-none-any.whl (4.9 MB)\n",
            "\u001b[K     |████████████████████████████████| 4.9 MB 7.5 MB/s \n",
            "\u001b[?25hRequirement already satisfied: packaging>=20.0 in /usr/local/lib/python3.7/dist-packages (from transformers) (21.3)\n",
            "Requirement already satisfied: pyyaml>=5.1 in /usr/local/lib/python3.7/dist-packages (from transformers) (6.0)\n",
            "Collecting tokenizers!=0.11.3,<0.13,>=0.11.1\n",
            "  Downloading tokenizers-0.12.1-cp37-cp37m-manylinux_2_12_x86_64.manylinux2010_x86_64.whl (6.6 MB)\n",
            "\u001b[K     |████████████████████████████████| 6.6 MB 54.1 MB/s \n",
            "\u001b[?25hRequirement already satisfied: importlib-metadata in /usr/local/lib/python3.7/dist-packages (from transformers) (4.12.0)\n",
            "Requirement already satisfied: regex!=2019.12.17 in /usr/local/lib/python3.7/dist-packages (from transformers) (2022.6.2)\n",
            "Requirement already satisfied: requests in /usr/local/lib/python3.7/dist-packages (from transformers) (2.23.0)\n",
            "Requirement already satisfied: numpy>=1.17 in /usr/local/lib/python3.7/dist-packages (from transformers) (1.21.6)\n",
            "Collecting huggingface-hub<1.0,>=0.9.0\n",
            "  Downloading huggingface_hub-0.10.0-py3-none-any.whl (163 kB)\n",
            "\u001b[K     |████████████████████████████████| 163 kB 59.0 MB/s \n",
            "\u001b[?25hRequirement already satisfied: tqdm>=4.27 in /usr/local/lib/python3.7/dist-packages (from transformers) (4.64.1)\n",
            "Requirement already satisfied: filelock in /usr/local/lib/python3.7/dist-packages (from transformers) (3.8.0)\n",
            "Requirement already satisfied: typing-extensions>=3.7.4.3 in /usr/local/lib/python3.7/dist-packages (from huggingface-hub<1.0,>=0.9.0->transformers) (4.1.1)\n",
            "Requirement already satisfied: pyparsing!=3.0.5,>=2.0.2 in /usr/local/lib/python3.7/dist-packages (from packaging>=20.0->transformers) (3.0.9)\n",
            "Requirement already satisfied: zipp>=0.5 in /usr/local/lib/python3.7/dist-packages (from importlib-metadata->transformers) (3.8.1)\n",
            "Requirement already satisfied: urllib3!=1.25.0,!=1.25.1,<1.26,>=1.21.1 in /usr/local/lib/python3.7/dist-packages (from requests->transformers) (1.24.3)\n",
            "Requirement already satisfied: certifi>=2017.4.17 in /usr/local/lib/python3.7/dist-packages (from requests->transformers) (2022.6.15)\n",
            "Requirement already satisfied: idna<3,>=2.5 in /usr/local/lib/python3.7/dist-packages (from requests->transformers) (2.10)\n",
            "Requirement already satisfied: chardet<4,>=3.0.2 in /usr/local/lib/python3.7/dist-packages (from requests->transformers) (3.0.4)\n",
            "Installing collected packages: tokenizers, huggingface-hub, transformers\n",
            "  Attempting uninstall: tokenizers\n",
            "    Found existing installation: tokenizers 0.10.3\n",
            "    Uninstalling tokenizers-0.10.3:\n",
            "      Successfully uninstalled tokenizers-0.10.3\n",
            "  Attempting uninstall: huggingface-hub\n",
            "    Found existing installation: huggingface-hub 0.0.8\n",
            "    Uninstalling huggingface-hub-0.0.8:\n",
            "      Successfully uninstalled huggingface-hub-0.0.8\n",
            "  Attempting uninstall: transformers\n",
            "    Found existing installation: transformers 4.7.0\n",
            "    Uninstalling transformers-4.7.0:\n",
            "      Successfully uninstalled transformers-4.7.0\n",
            "Successfully installed huggingface-hub-0.10.0 tokenizers-0.12.1 transformers-4.22.2\n"
          ]
        }
      ],
      "source": [
        "!pip install transformers -U"
      ]
    },
    {
      "cell_type": "code",
      "execution_count": null,
      "metadata": {
        "colab": {
          "base_uri": "https://localhost:8080/"
        },
        "id": "90-w_w2x-Vy6",
        "outputId": "03f4c4b8-27ea-437f-b58e-09faad5ce1da"
      },
      "outputs": [
        {
          "name": "stdout",
          "output_type": "stream",
          "text": [
            "Looking in indexes: https://pypi.org/simple, https://us-python.pkg.dev/colab-wheels/public/simple/\n",
            "Collecting transformers==4.7.0\n",
            "  Using cached transformers-4.7.0-py3-none-any.whl (2.5 MB)\n",
            "Requirement already satisfied: pyyaml in /usr/local/lib/python3.7/dist-packages (from transformers==4.7.0) (6.0)\n",
            "Requirement already satisfied: importlib-metadata in /usr/local/lib/python3.7/dist-packages (from transformers==4.7.0) (4.12.0)\n",
            "Requirement already satisfied: filelock in /usr/local/lib/python3.7/dist-packages (from transformers==4.7.0) (3.8.0)\n",
            "Requirement already satisfied: requests in /usr/local/lib/python3.7/dist-packages (from transformers==4.7.0) (2.23.0)\n",
            "Requirement already satisfied: sacremoses in /usr/local/lib/python3.7/dist-packages (from transformers==4.7.0) (0.0.53)\n",
            "Requirement already satisfied: tqdm>=4.27 in /usr/local/lib/python3.7/dist-packages (from transformers==4.7.0) (4.64.1)\n",
            "Requirement already satisfied: packaging in /usr/local/lib/python3.7/dist-packages (from transformers==4.7.0) (21.3)\n",
            "Requirement already satisfied: regex!=2019.12.17 in /usr/local/lib/python3.7/dist-packages (from transformers==4.7.0) (2022.6.2)\n",
            "Requirement already satisfied: numpy>=1.17 in /usr/local/lib/python3.7/dist-packages (from transformers==4.7.0) (1.21.6)\n",
            "Collecting huggingface-hub==0.0.8\n",
            "  Using cached huggingface_hub-0.0.8-py3-none-any.whl (34 kB)\n",
            "Collecting tokenizers<0.11,>=0.10.1\n",
            "  Using cached tokenizers-0.10.3-cp37-cp37m-manylinux_2_5_x86_64.manylinux1_x86_64.manylinux_2_12_x86_64.manylinux2010_x86_64.whl (3.3 MB)\n",
            "Requirement already satisfied: typing-extensions>=3.6.4 in /usr/local/lib/python3.7/dist-packages (from importlib-metadata->transformers==4.7.0) (4.1.1)\n",
            "Requirement already satisfied: zipp>=0.5 in /usr/local/lib/python3.7/dist-packages (from importlib-metadata->transformers==4.7.0) (3.8.1)\n",
            "Requirement already satisfied: pyparsing!=3.0.5,>=2.0.2 in /usr/local/lib/python3.7/dist-packages (from packaging->transformers==4.7.0) (3.0.9)\n",
            "Requirement already satisfied: certifi>=2017.4.17 in /usr/local/lib/python3.7/dist-packages (from requests->transformers==4.7.0) (2022.6.15)\n",
            "Requirement already satisfied: urllib3!=1.25.0,!=1.25.1,<1.26,>=1.21.1 in /usr/local/lib/python3.7/dist-packages (from requests->transformers==4.7.0) (1.24.3)\n",
            "Requirement already satisfied: chardet<4,>=3.0.2 in /usr/local/lib/python3.7/dist-packages (from requests->transformers==4.7.0) (3.0.4)\n",
            "Requirement already satisfied: idna<3,>=2.5 in /usr/local/lib/python3.7/dist-packages (from requests->transformers==4.7.0) (2.10)\n",
            "Requirement already satisfied: joblib in /usr/local/lib/python3.7/dist-packages (from sacremoses->transformers==4.7.0) (1.1.0)\n",
            "Requirement already satisfied: click in /usr/local/lib/python3.7/dist-packages (from sacremoses->transformers==4.7.0) (7.1.2)\n",
            "Requirement already satisfied: six in /usr/local/lib/python3.7/dist-packages (from sacremoses->transformers==4.7.0) (1.15.0)\n",
            "Installing collected packages: tokenizers, huggingface-hub, transformers\n",
            "  Attempting uninstall: tokenizers\n",
            "    Found existing installation: tokenizers 0.12.1\n",
            "    Uninstalling tokenizers-0.12.1:\n",
            "      Successfully uninstalled tokenizers-0.12.1\n",
            "  Attempting uninstall: huggingface-hub\n",
            "    Found existing installation: huggingface-hub 0.10.0\n",
            "    Uninstalling huggingface-hub-0.10.0:\n",
            "      Successfully uninstalled huggingface-hub-0.10.0\n",
            "  Attempting uninstall: transformers\n",
            "    Found existing installation: transformers 4.22.2\n",
            "    Uninstalling transformers-4.22.2:\n",
            "      Successfully uninstalled transformers-4.22.2\n",
            "Successfully installed huggingface-hub-0.0.8 tokenizers-0.10.3 transformers-4.7.0\n"
          ]
        }
      ],
      "source": [
        "!pip install transformers==4.7.0"
      ]
    },
    {
      "cell_type": "code",
      "execution_count": null,
      "metadata": {
        "colab": {
          "base_uri": "https://localhost:8080/"
        },
        "id": "O3H9qkY9-V1N",
        "outputId": "b8430079-1e66-41d8-f6be-9d9410bdad88"
      },
      "outputs": [
        {
          "name": "stdout",
          "output_type": "stream",
          "text": [
            "Looking in indexes: https://pypi.org/simple, https://us-python.pkg.dev/colab-wheels/public/simple/\n",
            "Requirement already satisfied: hazm in /usr/local/lib/python3.7/dist-packages (0.7.0)\n",
            "Requirement already satisfied: nltk==3.3 in /usr/local/lib/python3.7/dist-packages (from hazm) (3.3)\n",
            "Requirement already satisfied: libwapiti>=0.2.1 in /usr/local/lib/python3.7/dist-packages (from hazm) (0.2.1)\n",
            "Requirement already satisfied: six in /usr/local/lib/python3.7/dist-packages (from nltk==3.3->hazm) (1.15.0)\n"
          ]
        }
      ],
      "source": [
        "!pip install hazm"
      ]
    },
    {
      "cell_type": "code",
      "execution_count": null,
      "metadata": {
        "colab": {
          "base_uri": "https://localhost:8080/"
        },
        "id": "QMmPg7PP-V3e",
        "outputId": "4566f068-db89-4f1a-fcc8-67f20163f07e"
      },
      "outputs": [
        {
          "name": "stdout",
          "output_type": "stream",
          "text": [
            "Looking in indexes: https://pypi.org/simple, https://us-python.pkg.dev/colab-wheels/public/simple/\n",
            "Requirement already satisfied: sentencepiece==0.1.96 in /usr/local/lib/python3.7/dist-packages (0.1.96)\n"
          ]
        }
      ],
      "source": [
        "!pip install sentencepiece==0.1.96"
      ]
    },
    {
      "cell_type": "code",
      "execution_count": null,
      "metadata": {
        "colab": {
          "base_uri": "https://localhost:8080/"
        },
        "id": "Bn904s67-V54",
        "outputId": "f199b689-0fe3-47b5-a47a-6e019ecf8f4c"
      },
      "outputs": [
        {
          "name": "stdout",
          "output_type": "stream",
          "text": [
            "Looking in indexes: https://pypi.org/simple, https://us-python.pkg.dev/colab-wheels/public/simple/\n",
            "Collecting sentence-transformers==2.0.0\n",
            "  Downloading sentence-transformers-2.0.0.tar.gz (85 kB)\n",
            "\u001b[K     |████████████████████████████████| 85 kB 3.4 MB/s \n",
            "\u001b[?25hRequirement already satisfied: transformers<5.0.0,>=4.6.0 in /usr/local/lib/python3.7/dist-packages (from sentence-transformers==2.0.0) (4.7.0)\n",
            "Requirement already satisfied: tqdm in /usr/local/lib/python3.7/dist-packages (from sentence-transformers==2.0.0) (4.64.1)\n",
            "Requirement already satisfied: torch>=1.6.0 in /usr/local/lib/python3.7/dist-packages (from sentence-transformers==2.0.0) (1.12.1+cu113)\n",
            "Requirement already satisfied: torchvision in /usr/local/lib/python3.7/dist-packages (from sentence-transformers==2.0.0) (0.13.1+cu113)\n",
            "Requirement already satisfied: numpy in /usr/local/lib/python3.7/dist-packages (from sentence-transformers==2.0.0) (1.21.6)\n",
            "Requirement already satisfied: scikit-learn in /usr/local/lib/python3.7/dist-packages (from sentence-transformers==2.0.0) (1.0.2)\n",
            "Requirement already satisfied: scipy in /usr/local/lib/python3.7/dist-packages (from sentence-transformers==2.0.0) (1.7.3)\n",
            "Requirement already satisfied: nltk in /usr/local/lib/python3.7/dist-packages (from sentence-transformers==2.0.0) (3.3)\n",
            "Requirement already satisfied: sentencepiece in /usr/local/lib/python3.7/dist-packages (from sentence-transformers==2.0.0) (0.1.96)\n",
            "Requirement already satisfied: huggingface-hub in /usr/local/lib/python3.7/dist-packages (from sentence-transformers==2.0.0) (0.0.8)\n",
            "Requirement already satisfied: typing-extensions in /usr/local/lib/python3.7/dist-packages (from torch>=1.6.0->sentence-transformers==2.0.0) (4.1.1)\n",
            "Requirement already satisfied: pyyaml in /usr/local/lib/python3.7/dist-packages (from transformers<5.0.0,>=4.6.0->sentence-transformers==2.0.0) (6.0)\n",
            "Requirement already satisfied: regex!=2019.12.17 in /usr/local/lib/python3.7/dist-packages (from transformers<5.0.0,>=4.6.0->sentence-transformers==2.0.0) (2022.6.2)\n",
            "Requirement already satisfied: sacremoses in /usr/local/lib/python3.7/dist-packages (from transformers<5.0.0,>=4.6.0->sentence-transformers==2.0.0) (0.0.53)\n",
            "Requirement already satisfied: importlib-metadata in /usr/local/lib/python3.7/dist-packages (from transformers<5.0.0,>=4.6.0->sentence-transformers==2.0.0) (4.12.0)\n",
            "Requirement already satisfied: requests in /usr/local/lib/python3.7/dist-packages (from transformers<5.0.0,>=4.6.0->sentence-transformers==2.0.0) (2.23.0)\n",
            "Requirement already satisfied: tokenizers<0.11,>=0.10.1 in /usr/local/lib/python3.7/dist-packages (from transformers<5.0.0,>=4.6.0->sentence-transformers==2.0.0) (0.10.3)\n",
            "Requirement already satisfied: packaging in /usr/local/lib/python3.7/dist-packages (from transformers<5.0.0,>=4.6.0->sentence-transformers==2.0.0) (21.3)\n",
            "Requirement already satisfied: filelock in /usr/local/lib/python3.7/dist-packages (from transformers<5.0.0,>=4.6.0->sentence-transformers==2.0.0) (3.8.0)\n",
            "Requirement already satisfied: zipp>=0.5 in /usr/local/lib/python3.7/dist-packages (from importlib-metadata->transformers<5.0.0,>=4.6.0->sentence-transformers==2.0.0) (3.8.1)\n",
            "Requirement already satisfied: six in /usr/local/lib/python3.7/dist-packages (from nltk->sentence-transformers==2.0.0) (1.15.0)\n",
            "Requirement already satisfied: pyparsing!=3.0.5,>=2.0.2 in /usr/local/lib/python3.7/dist-packages (from packaging->transformers<5.0.0,>=4.6.0->sentence-transformers==2.0.0) (3.0.9)\n",
            "Requirement already satisfied: urllib3!=1.25.0,!=1.25.1,<1.26,>=1.21.1 in /usr/local/lib/python3.7/dist-packages (from requests->transformers<5.0.0,>=4.6.0->sentence-transformers==2.0.0) (1.24.3)\n",
            "Requirement already satisfied: idna<3,>=2.5 in /usr/local/lib/python3.7/dist-packages (from requests->transformers<5.0.0,>=4.6.0->sentence-transformers==2.0.0) (2.10)\n",
            "Requirement already satisfied: chardet<4,>=3.0.2 in /usr/local/lib/python3.7/dist-packages (from requests->transformers<5.0.0,>=4.6.0->sentence-transformers==2.0.0) (3.0.4)\n",
            "Requirement already satisfied: certifi>=2017.4.17 in /usr/local/lib/python3.7/dist-packages (from requests->transformers<5.0.0,>=4.6.0->sentence-transformers==2.0.0) (2022.6.15)\n",
            "Requirement already satisfied: click in /usr/local/lib/python3.7/dist-packages (from sacremoses->transformers<5.0.0,>=4.6.0->sentence-transformers==2.0.0) (7.1.2)\n",
            "Requirement already satisfied: joblib in /usr/local/lib/python3.7/dist-packages (from sacremoses->transformers<5.0.0,>=4.6.0->sentence-transformers==2.0.0) (1.1.0)\n",
            "Requirement already satisfied: threadpoolctl>=2.0.0 in /usr/local/lib/python3.7/dist-packages (from scikit-learn->sentence-transformers==2.0.0) (3.1.0)\n",
            "Requirement already satisfied: pillow!=8.3.*,>=5.3.0 in /usr/local/lib/python3.7/dist-packages (from torchvision->sentence-transformers==2.0.0) (7.1.2)\n",
            "Building wheels for collected packages: sentence-transformers\n",
            "  Building wheel for sentence-transformers (setup.py) ... \u001b[?25l\u001b[?25hdone\n",
            "  Created wheel for sentence-transformers: filename=sentence_transformers-2.0.0-py3-none-any.whl size=126709 sha256=b0826c6e3b5dc2b485e46f85946a98199fbeb4ae8840e6d8cfbe156681cccb2e\n",
            "  Stored in directory: /root/.cache/pip/wheels/d1/c1/0f/faafd427f705c4b012274ba60d9a91d75830306811e1355293\n",
            "Successfully built sentence-transformers\n",
            "Installing collected packages: sentence-transformers\n",
            "Successfully installed sentence-transformers-2.0.0\n"
          ]
        }
      ],
      "source": [
        "!pip install sentence-transformers==2.0.0"
      ]
    },
    {
      "cell_type": "code",
      "execution_count": null,
      "metadata": {
        "colab": {
          "base_uri": "https://localhost:8080/"
        },
        "id": "uU3QsfN3-V9U",
        "outputId": "ee202d01-6e8c-430b-aeb6-a4049c3de853"
      },
      "outputs": [
        {
          "name": "stdout",
          "output_type": "stream",
          "text": [
            "Looking in indexes: https://pypi.org/simple, https://us-python.pkg.dev/colab-wheels/public/simple/\n",
            "Collecting datasets==1.9.0\n",
            "  Downloading datasets-1.9.0-py3-none-any.whl (262 kB)\n",
            "\u001b[K     |████████████████████████████████| 262 kB 7.4 MB/s \n",
            "\u001b[?25hRequirement already satisfied: tqdm>=4.27 in /usr/local/lib/python3.7/dist-packages (from datasets==1.9.0) (4.64.1)\n",
            "Collecting xxhash\n",
            "  Downloading xxhash-3.0.0-cp37-cp37m-manylinux_2_17_x86_64.manylinux2014_x86_64.whl (212 kB)\n",
            "\u001b[K     |████████████████████████████████| 212 kB 51.4 MB/s \n",
            "\u001b[?25hCollecting multiprocess\n",
            "  Downloading multiprocess-0.70.13-py37-none-any.whl (115 kB)\n",
            "\u001b[K     |████████████████████████████████| 115 kB 56.8 MB/s \n",
            "\u001b[?25hRequirement already satisfied: packaging in /usr/local/lib/python3.7/dist-packages (from datasets==1.9.0) (21.3)\n",
            "Requirement already satisfied: fsspec>=2021.05.0 in /usr/local/lib/python3.7/dist-packages (from datasets==1.9.0) (2022.8.2)\n",
            "Requirement already satisfied: pyarrow!=4.0.0,>=1.0.0 in /usr/local/lib/python3.7/dist-packages (from datasets==1.9.0) (6.0.1)\n",
            "Requirement already satisfied: requests>=2.19.0 in /usr/local/lib/python3.7/dist-packages (from datasets==1.9.0) (2.23.0)\n",
            "Requirement already satisfied: huggingface-hub<0.1.0 in /usr/local/lib/python3.7/dist-packages (from datasets==1.9.0) (0.0.8)\n",
            "Requirement already satisfied: numpy>=1.17 in /usr/local/lib/python3.7/dist-packages (from datasets==1.9.0) (1.21.6)\n",
            "Requirement already satisfied: importlib-metadata in /usr/local/lib/python3.7/dist-packages (from datasets==1.9.0) (4.12.0)\n",
            "Requirement already satisfied: pandas in /usr/local/lib/python3.7/dist-packages (from datasets==1.9.0) (1.3.5)\n",
            "Requirement already satisfied: dill in /usr/local/lib/python3.7/dist-packages (from datasets==1.9.0) (0.3.5.1)\n",
            "Requirement already satisfied: filelock in /usr/local/lib/python3.7/dist-packages (from huggingface-hub<0.1.0->datasets==1.9.0) (3.8.0)\n",
            "Requirement already satisfied: idna<3,>=2.5 in /usr/local/lib/python3.7/dist-packages (from requests>=2.19.0->datasets==1.9.0) (2.10)\n",
            "Requirement already satisfied: certifi>=2017.4.17 in /usr/local/lib/python3.7/dist-packages (from requests>=2.19.0->datasets==1.9.0) (2022.6.15)\n",
            "Requirement already satisfied: chardet<4,>=3.0.2 in /usr/local/lib/python3.7/dist-packages (from requests>=2.19.0->datasets==1.9.0) (3.0.4)\n",
            "Requirement already satisfied: urllib3!=1.25.0,!=1.25.1,<1.26,>=1.21.1 in /usr/local/lib/python3.7/dist-packages (from requests>=2.19.0->datasets==1.9.0) (1.24.3)\n",
            "Requirement already satisfied: typing-extensions>=3.6.4 in /usr/local/lib/python3.7/dist-packages (from importlib-metadata->datasets==1.9.0) (4.1.1)\n",
            "Requirement already satisfied: zipp>=0.5 in /usr/local/lib/python3.7/dist-packages (from importlib-metadata->datasets==1.9.0) (3.8.1)\n",
            "Requirement already satisfied: pyparsing!=3.0.5,>=2.0.2 in /usr/local/lib/python3.7/dist-packages (from packaging->datasets==1.9.0) (3.0.9)\n",
            "Requirement already satisfied: python-dateutil>=2.7.3 in /usr/local/lib/python3.7/dist-packages (from pandas->datasets==1.9.0) (2.8.2)\n",
            "Requirement already satisfied: pytz>=2017.3 in /usr/local/lib/python3.7/dist-packages (from pandas->datasets==1.9.0) (2022.2.1)\n",
            "Requirement already satisfied: six>=1.5 in /usr/local/lib/python3.7/dist-packages (from python-dateutil>=2.7.3->pandas->datasets==1.9.0) (1.15.0)\n",
            "Installing collected packages: xxhash, multiprocess, datasets\n",
            "Successfully installed datasets-1.9.0 multiprocess-0.70.13 xxhash-3.0.0\n"
          ]
        }
      ],
      "source": [
        "!pip install datasets==1.9.0"
      ]
    },
    {
      "cell_type": "code",
      "execution_count": null,
      "metadata": {
        "colab": {
          "base_uri": "https://localhost:8080/"
        },
        "id": "WR1vXfoZ-eN-",
        "outputId": "79ea4ce2-d8fa-425e-8875-14f8374d28a2"
      },
      "outputs": [
        {
          "name": "stdout",
          "output_type": "stream",
          "text": [
            "Looking in indexes: https://pypi.org/simple, https://us-python.pkg.dev/colab-wheels/public/simple/\n",
            "Requirement already satisfied: seqeval==1.2.2 in /usr/local/lib/python3.7/dist-packages (1.2.2)\n",
            "Requirement already satisfied: scikit-learn>=0.21.3 in /usr/local/lib/python3.7/dist-packages (from seqeval==1.2.2) (1.0.2)\n",
            "Requirement already satisfied: numpy>=1.14.0 in /usr/local/lib/python3.7/dist-packages (from seqeval==1.2.2) (1.21.6)\n",
            "Requirement already satisfied: threadpoolctl>=2.0.0 in /usr/local/lib/python3.7/dist-packages (from scikit-learn>=0.21.3->seqeval==1.2.2) (3.1.0)\n",
            "Requirement already satisfied: joblib>=0.11 in /usr/local/lib/python3.7/dist-packages (from scikit-learn>=0.21.3->seqeval==1.2.2) (1.1.0)\n",
            "Requirement already satisfied: scipy>=1.1.0 in /usr/local/lib/python3.7/dist-packages (from scikit-learn>=0.21.3->seqeval==1.2.2) (1.7.3)\n"
          ]
        }
      ],
      "source": [
        "!pip install seqeval==1.2.2"
      ]
    },
    {
      "cell_type": "code",
      "execution_count": null,
      "metadata": {
        "colab": {
          "base_uri": "https://localhost:8080/"
        },
        "id": "kkeO6B-W-eTm",
        "outputId": "d61f6a98-6df7-4d37-f44d-e1483c5a96a8"
      },
      "outputs": [
        {
          "name": "stdout",
          "output_type": "stream",
          "text": [
            "Looking in indexes: https://pypi.org/simple, https://us-python.pkg.dev/colab-wheels/public/simple/\n",
            "Requirement already satisfied: clean-text[gpl]==0.4.0 in /usr/local/lib/python3.7/dist-packages (0.4.0)\n",
            "Requirement already satisfied: emoji in /usr/local/lib/python3.7/dist-packages (from clean-text[gpl]==0.4.0) (2.1.0)\n",
            "Requirement already satisfied: ftfy<7.0,>=6.0 in /usr/local/lib/python3.7/dist-packages (from clean-text[gpl]==0.4.0) (6.1.1)\n",
            "Requirement already satisfied: unidecode<2.0.0,>=1.1.1 in /usr/local/lib/python3.7/dist-packages (from clean-text[gpl]==0.4.0) (1.3.6)\n",
            "Requirement already satisfied: wcwidth>=0.2.5 in /usr/local/lib/python3.7/dist-packages (from ftfy<7.0,>=6.0->clean-text[gpl]==0.4.0) (0.2.5)\n"
          ]
        }
      ],
      "source": [
        "!pip install clean-text[gpl]==0.4.0"
      ]
    },
    {
      "cell_type": "code",
      "execution_count": null,
      "metadata": {
        "colab": {
          "base_uri": "https://localhost:8080/"
        },
        "id": "cCREgOFp-eV7",
        "outputId": "091cced1-771b-421f-f362-eaa084ab49b9"
      },
      "outputs": [
        {
          "name": "stdout",
          "output_type": "stream",
          "text": [
            "Looking in indexes: https://pypi.org/simple, https://us-python.pkg.dev/colab-wheels/public/simple/\n",
            "Requirement already satisfied: editdistance==0.5.3 in /usr/local/lib/python3.7/dist-packages (0.5.3)\n"
          ]
        }
      ],
      "source": [
        "!pip install editdistance==0.5.3"
      ]
    },
    {
      "cell_type": "code",
      "execution_count": null,
      "metadata": {
        "colab": {
          "base_uri": "https://localhost:8080/"
        },
        "id": "POyEV3Nt-eX4",
        "outputId": "a22bc10a-df36-4f44-881f-9af446ed8aba"
      },
      "outputs": [
        {
          "name": "stdout",
          "output_type": "stream",
          "text": [
            "Found existing installation: emoji 2.1.0\n",
            "Uninstalling emoji-2.1.0:\n",
            "  Would remove:\n",
            "    /usr/local/lib/python3.7/dist-packages/emoji-2.1.0.dist-info/*\n",
            "    /usr/local/lib/python3.7/dist-packages/emoji/*\n",
            "Proceed (y/n)? y\n",
            "  Successfully uninstalled emoji-2.1.0\n"
          ]
        }
      ],
      "source": [
        "!pip uninstall emoji"
      ]
    },
    {
      "cell_type": "code",
      "execution_count": null,
      "metadata": {
        "colab": {
          "base_uri": "https://localhost:8080/"
        },
        "id": "qq2XuEZT-ebb",
        "outputId": "9d2d8f33-2666-45de-bdef-be23655cd45b"
      },
      "outputs": [
        {
          "name": "stdout",
          "output_type": "stream",
          "text": [
            "Looking in indexes: https://pypi.org/simple, https://us-python.pkg.dev/colab-wheels/public/simple/\n",
            "Collecting emoji==1.7\n",
            "  Downloading emoji-1.7.0.tar.gz (175 kB)\n",
            "\u001b[K     |████████████████████████████████| 175 kB 6.5 MB/s \n",
            "\u001b[?25hBuilding wheels for collected packages: emoji\n",
            "  Building wheel for emoji (setup.py) ... \u001b[?25l\u001b[?25hdone\n",
            "  Created wheel for emoji: filename=emoji-1.7.0-py3-none-any.whl size=171046 sha256=021adae664c89dcbf6be60304a951554c87981ab943ca44174c06cb4b9f43242\n",
            "  Stored in directory: /root/.cache/pip/wheels/8a/4e/b6/57b01db010d17ef6ea9b40300af725ef3e210cb1acfb7ac8b6\n",
            "Successfully built emoji\n",
            "Installing collected packages: emoji\n",
            "Successfully installed emoji-1.7.0\n"
          ]
        }
      ],
      "source": [
        "!pip install emoji==1.7"
      ]
    },
    {
      "cell_type": "code",
      "execution_count": null,
      "metadata": {
        "colab": {
          "base_uri": "https://localhost:8080/"
        },
        "id": "YaU425s4-pNa",
        "outputId": "f741cccd-e140-4717-d1e6-0b015d5990af"
      },
      "outputs": [
        {
          "name": "stdout",
          "output_type": "stream",
          "text": [
            "Looking in indexes: https://pypi.org/simple, https://us-python.pkg.dev/colab-wheels/public/simple/\n",
            "Requirement already satisfied: PyDrive in /usr/local/lib/python3.7/dist-packages (1.3.1)\n",
            "Requirement already satisfied: PyYAML>=3.0 in /usr/local/lib/python3.7/dist-packages (from PyDrive) (6.0)\n",
            "Requirement already satisfied: google-api-python-client>=1.2 in /usr/local/lib/python3.7/dist-packages (from PyDrive) (1.12.11)\n",
            "Requirement already satisfied: oauth2client>=4.0.0 in /usr/local/lib/python3.7/dist-packages (from PyDrive) (4.1.3)\n",
            "Requirement already satisfied: uritemplate<4dev,>=3.0.0 in /usr/local/lib/python3.7/dist-packages (from google-api-python-client>=1.2->PyDrive) (3.0.1)\n",
            "Requirement already satisfied: six<2dev,>=1.13.0 in /usr/local/lib/python3.7/dist-packages (from google-api-python-client>=1.2->PyDrive) (1.15.0)\n",
            "Requirement already satisfied: httplib2<1dev,>=0.15.0 in /usr/local/lib/python3.7/dist-packages (from google-api-python-client>=1.2->PyDrive) (0.17.4)\n",
            "Requirement already satisfied: google-auth<3dev,>=1.16.0 in /usr/local/lib/python3.7/dist-packages (from google-api-python-client>=1.2->PyDrive) (1.35.0)\n",
            "Requirement already satisfied: google-auth-httplib2>=0.0.3 in /usr/local/lib/python3.7/dist-packages (from google-api-python-client>=1.2->PyDrive) (0.0.4)\n",
            "Requirement already satisfied: google-api-core<3dev,>=1.21.0 in /usr/local/lib/python3.7/dist-packages (from google-api-python-client>=1.2->PyDrive) (1.31.6)\n",
            "Requirement already satisfied: protobuf<4.0.0dev,>=3.12.0 in /usr/local/lib/python3.7/dist-packages (from google-api-core<3dev,>=1.21.0->google-api-python-client>=1.2->PyDrive) (3.17.3)\n",
            "Requirement already satisfied: setuptools>=40.3.0 in /usr/local/lib/python3.7/dist-packages (from google-api-core<3dev,>=1.21.0->google-api-python-client>=1.2->PyDrive) (57.4.0)\n",
            "Requirement already satisfied: packaging>=14.3 in /usr/local/lib/python3.7/dist-packages (from google-api-core<3dev,>=1.21.0->google-api-python-client>=1.2->PyDrive) (21.3)\n",
            "Requirement already satisfied: requests<3.0.0dev,>=2.18.0 in /usr/local/lib/python3.7/dist-packages (from google-api-core<3dev,>=1.21.0->google-api-python-client>=1.2->PyDrive) (2.23.0)\n",
            "Requirement already satisfied: pytz in /usr/local/lib/python3.7/dist-packages (from google-api-core<3dev,>=1.21.0->google-api-python-client>=1.2->PyDrive) (2022.2.1)\n",
            "Requirement already satisfied: googleapis-common-protos<2.0dev,>=1.6.0 in /usr/local/lib/python3.7/dist-packages (from google-api-core<3dev,>=1.21.0->google-api-python-client>=1.2->PyDrive) (1.56.4)\n",
            "Requirement already satisfied: cachetools<5.0,>=2.0.0 in /usr/local/lib/python3.7/dist-packages (from google-auth<3dev,>=1.16.0->google-api-python-client>=1.2->PyDrive) (4.2.4)\n",
            "Requirement already satisfied: pyasn1-modules>=0.2.1 in /usr/local/lib/python3.7/dist-packages (from google-auth<3dev,>=1.16.0->google-api-python-client>=1.2->PyDrive) (0.2.8)\n",
            "Requirement already satisfied: rsa<5,>=3.1.4 in /usr/local/lib/python3.7/dist-packages (from google-auth<3dev,>=1.16.0->google-api-python-client>=1.2->PyDrive) (4.9)\n",
            "Requirement already satisfied: pyasn1>=0.1.7 in /usr/local/lib/python3.7/dist-packages (from oauth2client>=4.0.0->PyDrive) (0.4.8)\n",
            "Requirement already satisfied: pyparsing!=3.0.5,>=2.0.2 in /usr/local/lib/python3.7/dist-packages (from packaging>=14.3->google-api-core<3dev,>=1.21.0->google-api-python-client>=1.2->PyDrive) (3.0.9)\n",
            "Requirement already satisfied: idna<3,>=2.5 in /usr/local/lib/python3.7/dist-packages (from requests<3.0.0dev,>=2.18.0->google-api-core<3dev,>=1.21.0->google-api-python-client>=1.2->PyDrive) (2.10)\n",
            "Requirement already satisfied: certifi>=2017.4.17 in /usr/local/lib/python3.7/dist-packages (from requests<3.0.0dev,>=2.18.0->google-api-core<3dev,>=1.21.0->google-api-python-client>=1.2->PyDrive) (2022.6.15)\n",
            "Requirement already satisfied: urllib3!=1.25.0,!=1.25.1,<1.26,>=1.21.1 in /usr/local/lib/python3.7/dist-packages (from requests<3.0.0dev,>=2.18.0->google-api-core<3dev,>=1.21.0->google-api-python-client>=1.2->PyDrive) (1.24.3)\n",
            "Requirement already satisfied: chardet<4,>=3.0.2 in /usr/local/lib/python3.7/dist-packages (from requests<3.0.0dev,>=2.18.0->google-api-core<3dev,>=1.21.0->google-api-python-client>=1.2->PyDrive) (3.0.4)\n"
          ]
        }
      ],
      "source": [
        "!pip install PyDrive\n",
        "import os\n",
        "import IPython.display as ipd\n",
        "from pydrive.auth import GoogleAuth\n",
        "from pydrive.drive import GoogleDrive\n",
        "from google.colab import auth\n",
        "from oauth2client.client import GoogleCredentials\n",
        "auth.authenticate_user()\n",
        "gauth = GoogleAuth()\n",
        "gauth.credentials = GoogleCredentials.get_application_default()\n",
        "drive = GoogleDrive(gauth)"
      ]
    },
    {
      "cell_type": "code",
      "execution_count": null,
      "metadata": {
        "colab": {
          "base_uri": "https://localhost:8080/"
        },
        "id": "pBLvkX_I-pT0",
        "outputId": "e4094bdb-49c9-468e-b993-a5e6bd382eb7"
      },
      "outputs": [
        {
          "name": "stdout",
          "output_type": "stream",
          "text": [
            "\n",
            "numpy 1.21.6\n",
            "pandas 1.3.5\n",
            "transformers 4.7.0\n",
            "torch 1.12.1+cu113\n",
            "\n",
            "No GPU available, using the CPU instead.\n"
          ]
        }
      ],
      "source": [
        "# Import required packages\n",
        "import os\n",
        "import gc\n",
        "import re\n",
        "import hazm\n",
        "import time\n",
        "import numpy as np\n",
        "import pandas as pd\n",
        "\n",
        "import torch\n",
        "import torch.nn as nn\n",
        "import torch.nn.functional as F\n",
        "from torch.utils.data import TensorDataset, DataLoader\n",
        "\n",
        "import transformers\n",
        "from transformers import AutoConfig, AutoTokenizer\n",
        "from transformers import AutoModelForSequenceClassification\n",
        "\n",
        "from cleantext import clean\n",
        "\n",
        "from sklearn.model_selection import train_test_split\n",
        "from sklearn.metrics import accuracy_score, precision_score, recall_score, f1_score, classification_report\n",
        "\n",
        "print()\n",
        "print('numpy', np.__version__)\n",
        "print('pandas', pd.__version__)\n",
        "print('transformers', transformers.__version__)\n",
        "print('torch', torch.__version__)\n",
        "print()\n",
        "\n",
        "# If there's a GPU available...\n",
        "if torch.cuda.is_available():    \n",
        "    # Tell PyTorch to use the GPU.    \n",
        "    device = torch.device(\"cuda\")\n",
        "    print('There are %d GPU(s) available.' % torch.cuda.device_count())\n",
        "    print('We will use the GPU:', torch.cuda.get_device_name(0))\n",
        "# If not...\n",
        "else:\n",
        "    print('No GPU available, using the CPU instead.')\n",
        "    device = torch.device(\"cpu\")\n"
      ]
    },
    {
      "cell_type": "code",
      "execution_count": null,
      "metadata": {
        "id": "b7MAjZrO-sOA"
      },
      "outputs": [],
      "source": [
        "from tqdm import tqdm  # for our progress bar"
      ]
    },
    {
      "cell_type": "code",
      "execution_count": null,
      "metadata": {
        "id": "DuAz6ER_-sYy"
      },
      "outputs": [],
      "source": [
        "import torch\n",
        "from torch.utils.data import TensorDataset, DataLoader, RandomSampler, SequentialSampler\n",
        "from transformers import BertTokenizer, BertForSequenceClassification\n",
        "from sklearn.model_selection import train_test_split\n",
        "\n",
        "import pandas as pd\n",
        "import numpy as np\n",
        "\n",
        "from tabulate import tabulate\n",
        "from tqdm import trange\n",
        "import random"
      ]
    },
    {
      "cell_type": "code",
      "execution_count": null,
      "metadata": {
        "id": "TP3TY66Z-shY"
      },
      "outputs": [],
      "source": [
        "class SentimentAnalysisDataset(torch.utils.data.Dataset):\n",
        "    \"\"\" Create a PyTorch dataset for Sentiment Analysis. \"\"\"\n",
        "\n",
        "    def __init__(self, tokenizer, comments, targets, label_list=None, max_len=128):\n",
        "        self.comments = comments\n",
        "        self.targets = targets\n",
        "        self.tokenizer = tokenizer\n",
        "        self.max_len = max_len\n",
        "        self.label2index = {label: i for i, label in enumerate(label_list)} if isinstance(label_list, list) else {}\n",
        "        self.index2label = {i: label for label, i in self.label2index.items()}\n",
        "\n",
        "    def __len__(self):\n",
        "        return len(self.comments)\n",
        "\n",
        "    def __getitem__(self, item):\n",
        "        comment = self.comments[item]\n",
        "        target = self.label2index[self.targets[item]]\n",
        "        encoding = self.tokenizer.encode_plus(\n",
        "            comment,\n",
        "            add_special_tokens=True,\n",
        "            truncation=True,\n",
        "            max_length=self.max_len,\n",
        "            padding='max_length',\n",
        "            return_tensors='pt')\n",
        "\n",
        "        inputs = {\n",
        "            'comment': comment,\n",
        "            'targets': torch.tensor(target, dtype=torch.long),\n",
        "            'original_targets': self.targets[item],\n",
        "            'input_ids': encoding['input_ids'].flatten(),\n",
        "            'attention_mask': encoding['attention_mask'].flatten(),\n",
        "            'token_type_ids': encoding['token_type_ids'].flatten(),\n",
        "        }\n",
        "\n",
        "        return inputs\n",
        "\n",
        "\n",
        "class SentimentAnalysis:\n",
        "    def __init__(self, model_name,dataset_path, model_type=None):\n",
        "        self.normalizer = hazm.Normalizer()\n",
        "        self.model_name = model_name\n",
        "        self.tokenizer = AutoTokenizer.from_pretrained(self.model_name)\n",
        "        self.model = AutoModelForSequenceClassification.from_pretrained(self.model_name)\n",
        "        for name, param in self.model.named_parameters():\n",
        "          if name != 'classifier.weight' and name != 'classifier.bias':\n",
        "            param.requires_grad = False\n",
        "        self.config = AutoConfig.from_pretrained(self.model_name)\n",
        "        self.id2label = self.config.id2label\n",
        "        self.label2id = self.config.label2id\n",
        "        self.dataset_path=dataset_path\n",
        "\n",
        "    def cleaning(self, text):\n",
        "        def cleanhtml(raw_html):\n",
        "            clean_pattern = re.compile('<.*?>')\n",
        "            clean_text = re.sub(clean_pattern, '', raw_html)\n",
        "            return clean_text\n",
        "\n",
        "        if type(text) is not str:\n",
        "            return None\n",
        "\n",
        "        text = text.strip()\n",
        "\n",
        "        # regular cleaning\n",
        "        text = clean(\n",
        "            text,\n",
        "            fix_unicode=True,\n",
        "            to_ascii=False,\n",
        "            lower=True,\n",
        "            no_line_breaks=True,\n",
        "            no_urls=True,\n",
        "            no_emails=True,\n",
        "            no_phone_numbers=True,\n",
        "            no_numbers=False,\n",
        "            no_digits=False,\n",
        "            no_currency_symbols=True,\n",
        "            no_punct=False,\n",
        "            replace_with_url=\"\",\n",
        "            replace_with_email=\"\",\n",
        "            replace_with_phone_number=\"\",\n",
        "            replace_with_number=\"\",\n",
        "            replace_with_digit=\"0\",\n",
        "            replace_with_currency_symbol=\"\"\n",
        "        )\n",
        "\n",
        "        # cleaning htmls\n",
        "        text = cleanhtml(text)\n",
        "\n",
        "        # normalizing\n",
        "        text = self.normalizer.normalize(text)\n",
        "\n",
        "        # removing wierd patterns\n",
        "        wierd_pattern = re.compile(\"[\"\n",
        "                                   u\"\\U0001F600-\\U0001F64F\"  # emoticons\n",
        "                                   u\"\\U0001F300-\\U0001F5FF\"  # symbols & pictographs\n",
        "                                   u\"\\U0001F680-\\U0001F6FF\"  # transport & map symbols\n",
        "                                   u\"\\U0001F1E0-\\U0001F1FF\"  # flags (iOS)\n",
        "                                   u\"\\U00002702-\\U000027B0\"\n",
        "                                   u\"\\U000024C2-\\U0001F251\"\n",
        "                                   u\"\\U0001f926-\\U0001f937\"\n",
        "                                   u'\\U00010000-\\U0010ffff'\n",
        "                                   u\"\\u200d\"\n",
        "                                   u\"\\u2640-\\u2642\"\n",
        "                                   u\"\\u2600-\\u2B55\"\n",
        "                                   u\"\\u23cf\"\n",
        "                                   u\"\\u23e9\"\n",
        "                                   u\"\\u231a\"\n",
        "                                   u\"\\u3030\"\n",
        "                                   u\"\\ufe0f\"\n",
        "                                   u\"\\u2069\"\n",
        "                                   u\"\\u2066\"\n",
        "                                   # u\"\\u200c\"\n",
        "                                   u\"\\u2068\"\n",
        "                                   u\"\\u2067\"\n",
        "                                   \"]+\", flags=re.UNICODE)\n",
        "\n",
        "        text = wierd_pattern.sub(r'', text)\n",
        "\n",
        "        # removing extra spaces, hashtags\n",
        "        text = re.sub(\"#\", \"\", text)\n",
        "        text = re.sub(\"\\s+\", \" \", text)\n",
        "        if text in ['', \" \"]:\n",
        "            return None\n",
        "        return text\n",
        "\n",
        "    def load_dataset_file(self):\n",
        "            data = pd.read_csv(self.dataset_path)\n",
        "            data = data[['text', 'label']]\n",
        "            # print(data)\n",
        "            # cleaning comments\n",
        "            data = data.dropna(subset=['text'])\n",
        "            data['text'] = data['text'].apply(self.cleaning)\n",
        "            data = data.dropna(subset=['text'])\n",
        "            \n",
        "            # cleaning labels\n",
        "            valid_labels = ['Neutral', 'Negative', 'Positive']\n",
        "            data['label'] = data['label'].apply(lambda r: r if r in valid_labels else None)\n",
        "            data = data.dropna(subset=['label'])\n",
        "            \n",
        "            # kwargs={'Neutral':1 , 'Negative': 0 , 'Positive':2}\n",
        "            # data['label'] = data['label'].apply(lambda l: kwargs[l])\n",
        "            # data = data.dropna(subset=['label'])\n",
        "            # data = data.reset_index(drop=True)\n",
        "            # print(data)\n",
        "            \n",
        "            data['label_id'] = data['label'].apply(lambda t: self.label2id[t])\n",
        "\n",
        "            x_all, y_all = data['text'].values.tolist(), data['label_id'].values.tolist()\n",
        "            print(f'all data: #comment: {len(x_all)}, #labels: {len(y_all)}')\n",
        "            return x_all, y_all\n",
        "    def preprocessing(self,input_text, tokenizer):\n",
        "      '''\n",
        "      Returns <class transformers.tokenization_utils_base.BatchEncoding> with the following fields:\n",
        "        - input_ids: list of token ids\n",
        "        - token_type_ids: list of token type ids\n",
        "        - attention_mask: list of indices (0,1) specifying which tokens should considered by the model (return_attention_mask = True).\n",
        "      '''\n",
        "      return tokenizer.encode_plus(\n",
        "                            input_text,\n",
        "                            add_special_tokens = True,\n",
        "                            max_length = 32,\n",
        "                            pad_to_max_length = True,\n",
        "                            return_attention_mask = True,\n",
        "                            return_tensors = 'pt'\n",
        "                      )\n",
        "    def sentiment_analysis_training(self,device):\n",
        "      epochs = 5\n",
        "      token_id = []\n",
        "      attention_masks = []\n",
        "      x_all, y_all=self.load_dataset_file()\n",
        "      for sample in x_all:\n",
        "        encoding_dict = self.preprocessing(sample, self.tokenizer)\n",
        "        token_id.append(encoding_dict['input_ids']) \n",
        "        attention_masks.append(encoding_dict['attention_mask'])\n",
        "\n",
        "\n",
        "      token_id = torch.cat(token_id, dim = 0)\n",
        "      attention_masks = torch.cat(attention_masks, dim = 0)\n",
        "      labels = torch.tensor(y_all)\n",
        "      val_ratio = 0.2\n",
        "      # Recommended batch size: 16, 32. See: https://arxiv.org/pdf/1810.04805.pdf\n",
        "      batch_size = 16\n",
        "\n",
        "      # Indices of the train and validation splits stratified by labels\n",
        "      train_idx, val_idx = train_test_split(\n",
        "          np.arange(len(labels)),\n",
        "          test_size = val_ratio,\n",
        "          shuffle = True,\n",
        "          stratify = labels\n",
        "          )\n",
        "\n",
        "      # Train and validation sets\n",
        "      train_set = TensorDataset(token_id[train_idx], \n",
        "                                attention_masks[train_idx], \n",
        "                                labels[train_idx])\n",
        "\n",
        "      val_set = TensorDataset(token_id[val_idx], \n",
        "                              attention_masks[val_idx], \n",
        "                              labels[val_idx])\n",
        "\n",
        "      # Prepare DataLoader\n",
        "      train_dataloader = DataLoader(\n",
        "                  train_set,\n",
        "                  sampler = RandomSampler(train_set),\n",
        "                  batch_size = batch_size\n",
        "              )\n",
        "\n",
        "      validation_dataloader = DataLoader(\n",
        "                  val_set,\n",
        "                  sampler = SequentialSampler(val_set),\n",
        "                  batch_size = batch_size\n",
        "              )\n",
        "      optimizer = torch.optim.AdamW(self.model.parameters(), \n",
        "                              lr = 5e-5,\n",
        "                              eps = 1e-08\n",
        "                              )\n",
        "      self.model=self.model.to(device)\n",
        "      for _ in trange(epochs, desc = 'Epoch'):\n",
        "        self.model.train()\n",
        "        \n",
        "        # Tracking variables\n",
        "        tr_loss = 0\n",
        "        nb_tr_examples, nb_tr_steps = 0, 0\n",
        "\n",
        "        for step, batch in enumerate(train_dataloader):\n",
        "            batch = tuple(t.to(device) for t in batch)\n",
        "            b_input_ids, b_input_mask, b_labels = batch\n",
        "            optimizer.zero_grad()\n",
        "            # Forward pass\n",
        "            train_output = self.model(b_input_ids, \n",
        "                                token_type_ids = None, \n",
        "                                attention_mask = b_input_mask, \n",
        "                                labels = b_labels)\n",
        "            # Backward pass\n",
        "            train_output.loss.backward()\n",
        "            optimizer.step()\n",
        "            # Update tracking variables\n",
        "            tr_loss += train_output.loss.item()\n",
        "            nb_tr_examples += b_input_ids.size(0)\n",
        "            nb_tr_steps += 1\n",
        "\n",
        "          # ========== Validation ==========\n",
        "\n",
        "          # Set model to evaluation mode\n",
        "        self.model.eval()\n",
        "\n",
        "          # Tracking variables \n",
        "        val_accuracy = []\n",
        "        val_precision = []\n",
        "        val_recall = []\n",
        "        val_specificity = []\n",
        "\n",
        "        for batch in validation_dataloader:\n",
        "            batch = tuple(t.to(device) for t in batch)\n",
        "            b_input_ids, b_input_mask, b_labels = batch\n",
        "            with torch.no_grad():\n",
        "              # Forward pass\n",
        "              eval_output = self.model(b_input_ids, \n",
        "                                  token_type_ids = None, \n",
        "                                  attention_mask = b_input_mask)\n",
        "            logits = eval_output.logits\n",
        "            b_predictions = torch.argmax(F.softmax(logits , dim=1), dim=1)\n",
        "            b_predictions = b_predictions.cpu().detach().numpy().tolist()\n",
        "            # print(b_predictions)\n",
        "            label_ids = b_labels.to('cpu').numpy()\n",
        "            # print(label_ids)\n",
        "\n",
        "        # evaluate\n",
        "        print(\"Test Accuracy: {}\".format(accuracy_score(label_ids,b_predictions)))\n",
        "        print(\"Test Precision: {}\".format(precision_score(label_ids, b_predictions ,average=\"weighted\")))\n",
        "        print(\"Test Recall: {}\".format(recall_score(label_ids, b_predictions, average=\"weighted\")))\n",
        "        print(\"Test F1-Score(weighted average): {}\".format(\n",
        "            f1_score(label_ids,b_predictions, average=\"weighted\")))\n",
        "        # print(\"Test classification Report:\\n{}\".format(classification_report(\n",
        "        #     label_ids, b_predictions, digits=10, target_names=[self.id2label[_] for _ in sorted(label_list)])))\n",
        "      \n",
        "    def sentiment_analysis_inference(self, input_text, device):\n",
        "        if not self.model or not self.tokenizer or not self.id2label:\n",
        "            print('Something wrong has been happened!')\n",
        "            return\n",
        "\n",
        "        pt_batch = self.tokenizer(\n",
        "            input_text,\n",
        "            padding=True,\n",
        "            truncation=True,\n",
        "            max_length=self.config.max_position_embeddings,\n",
        "            return_tensors=\"pt\"\n",
        "        )\n",
        "\n",
        "        gc.collect()\n",
        "        torch.cuda.empty_cache()\n",
        "        # Tell pytorch to run this model on the GPU.\n",
        "        if device.type != 'cpu':\n",
        "            self.model.cuda()\n",
        "        # self.model.eval()\n",
        "        pt_batch = pt_batch.to(device)\n",
        "\n",
        "        pt_outputs = self.model(**pt_batch)\n",
        "        pt_predictions = torch.argmax(F.softmax(pt_outputs.logits, dim=1), dim=1)\n",
        "\n",
        "        output_predictions = []\n",
        "        for i, sentence in enumerate(input_text):\n",
        "            output_predictions.append((sentence, self.id2label.get(pt_predictions[i].item())))\n",
        "        return output_predictions\n",
        "   \n",
        "\n",
        "    def evaluation(self, input_text, input_labels, device, batch_size=4):\n",
        "        if not self.model or not self.tokenizer or not self.id2label:\n",
        "            print('Something wrong has been happened!')\n",
        "            return\n",
        "\n",
        "        max_len = self.config.max_position_embeddings\n",
        "        label_list = list(set(input_labels))\n",
        "        label_count = {self.id2label[label]: input_labels.count(label) for label in label_list}\n",
        "        print(\"label_count:\", label_count)\n",
        "        dataset = SentimentAnalysisDataset(comments=input_text, targets=input_labels, tokenizer=self.tokenizer,\n",
        "                                           max_len=max_len, label_list=label_list)\n",
        "        data_loader = torch.utils.data.DataLoader(dataset, batch_size=batch_size)\n",
        "\n",
        "        print(\"#samples:\", len(input_text))\n",
        "        print(\"#batch:\", len(data_loader))\n",
        "\n",
        "        gc.collect()\n",
        "        torch.cuda.empty_cache()\n",
        "        # Tell pytorch to run this model on the GPU.\n",
        "        if device.type != 'cpu':\n",
        "            self.model.cuda()\n",
        "        self.model.eval()\n",
        "\n",
        "        total_loss, total_time = 0, 0\n",
        "        output_predictions = []\n",
        "        golden_labels, predicted_labels = [], []\n",
        "        print(\"Start to evaluate test data ...\")\n",
        "        for step, batch in enumerate(data_loader):\n",
        "            b_comments = batch['comment']\n",
        "            b_input_ids = batch['input_ids']\n",
        "            b_attention_mask = batch['attention_mask']\n",
        "            b_token_type_ids = batch['token_type_ids']\n",
        "            b_targets = batch['targets']\n",
        "\n",
        "            # move tensors to GPU if CUDA is available\n",
        "            b_input_ids = b_input_ids.to(device)\n",
        "            b_attention_mask = b_attention_mask.to(device)\n",
        "            b_token_type_ids = b_token_type_ids.to(device)\n",
        "            b_targets = b_targets.to(device)\n",
        "\n",
        "            # This will return the loss (rather than the model output) because we have provided the `labels`.\n",
        "            with torch.no_grad():\n",
        "                start = time.monotonic()\n",
        "                b_outputs = self.model(input_ids=b_input_ids, attention_mask=b_attention_mask,\n",
        "                                       token_type_ids=b_token_type_ids, labels=b_targets)\n",
        "                end = time.monotonic()\n",
        "                total_time += end - start\n",
        "                print(f'inference time for step {step}: {end - start}')\n",
        "            # get the loss\n",
        "            total_loss += b_outputs.loss.item()\n",
        "\n",
        "            b_original_targets = batch['original_targets']\n",
        "            golden_labels.extend(b_original_targets.tolist())\n",
        "\n",
        "            b_predictions = torch.argmax(F.softmax(b_outputs.logits, dim=1), dim=1)\n",
        "            b_predictions = b_predictions.cpu().detach().numpy().tolist()\n",
        "            b_predictions = [dataset.index2label[label] for label in b_predictions]\n",
        "            predicted_labels.extend(b_predictions)\n",
        "\n",
        "            for i, comment in enumerate(b_comments):\n",
        "                output_predictions.append((\n",
        "                    comment,\n",
        "                    self.id2label[b_original_targets[i].item()],\n",
        "                    self.id2label[b_predictions[i]]\n",
        "                ))\n",
        "                # print(f'output prediction: {i},{comment},{self.id2label[b_original_targets[i].item()]},'\n",
        "                #       f'{self.id2label[b_predictions[i]]}')\n",
        "\n",
        "        # Calculate the average loss over the training data.\n",
        "        avg_train_loss = total_loss / len(data_loader)\n",
        "        print(\"average loss:\", avg_train_loss)\n",
        "        print(\"total inference time:\", total_time)\n",
        "        print(\"total inference time / #samples:\", total_time / len(input_text))\n",
        "\n",
        "        # evaluate\n",
        "        print(\"Test Accuracy: {}\".format(accuracy_score(golden_labels, predicted_labels)))\n",
        "        print(\"Test Precision: {}\".format(precision_score(golden_labels, predicted_labels, average=\"weighted\")))\n",
        "        print(\"Test Recall: {}\".format(recall_score(golden_labels, predicted_labels, average=\"weighted\")))\n",
        "        print(\"Test F1-Score(weighted average): {}\".format(\n",
        "            f1_score(golden_labels, predicted_labels, average=\"weighted\")))\n",
        "        print(\"Test classification Report:\\n{}\".format(classification_report(\n",
        "            golden_labels, predicted_labels, digits=10, target_names=[self.id2label[_] for _ in sorted(label_list)])))\n",
        "        return output_predictions\n"
      ]
    },
    {
      "cell_type": "code",
      "execution_count": null,
      "metadata": {
        "colab": {
          "base_uri": "https://localhost:8080/"
        },
        "id": "U7RTvBH7-xKs",
        "outputId": "2ad88569-7303-45fd-fd87-057d242f31d3"
      },
      "outputs": [
        {
          "name": "stdout",
          "output_type": "stream",
          "text": [
            "Mounted at /content/drive\n"
          ]
        }
      ],
      "source": [
        "from google.colab import drive\n",
        "drive.mount('/content/drive')"
      ]
    },
    {
      "cell_type": "code",
      "execution_count": null,
      "metadata": {
        "colab": {
          "base_uri": "https://localhost:8080/",
          "height": 177,
          "referenced_widgets": [
            "fd628daff77c4f82a220b370d903d28a",
            "6158c75d35ba4055bd885ceac5f6e33e",
            "9ee9a572e32d4b9282770675ae1bed79",
            "085be35c9d6a464eaa0e8a68a2e5115d",
            "76ad3478550c4aa18c25ee6821445217",
            "96b34565073f4b8992e33708236ff869",
            "4f134ee604b349af8765f091434dbf62",
            "af771759d67d431bbdda7c552e5a699b",
            "1cf14ef73ba046948f4b66f74f77bcba",
            "9055d5ba29f647eeb552fcc3ee2fb558",
            "8fd77f3cc7ed48ad87de1a40a37c9fc2",
            "f0982c0597c646889fe7bbc88d2f2b0d",
            "243f068048ae4ec9858f066d9c5b4574",
            "f987e113972446938881701154a3080f",
            "1e89f82fec2b4436be1b3d16733b66bd",
            "29ebf9da666b4d80b835d70c192aa9e3",
            "7985a8036ec74b5f85f8fc1b6179bdaf",
            "49484a5b675241d4b11e6ec29d2872af",
            "a477c96929a14363b5830e9d8124c2b9",
            "75f05a131c0a4b0abda1409628e7940a",
            "a0d5bb32c53d4ec3b7f33b87d6242b76",
            "aa8cc16febb04a0784f86fca0dba0808",
            "5e395df71e0a444db77a7da2a61ec563",
            "091e15ac47ba4fabb7a92cd01418ea6c",
            "61537a358c614186801e631c2c4d5824",
            "6c82027510884cfeb6d67a885a54e98a",
            "cdd8de286ec34bfd9ebdfe4d1cec5da4",
            "7cf80fcce341412fbab5d05d3057066e",
            "1c4361b3cc5e4a388e1eecbd179a7401",
            "87e71d50a17f463687996353fb1f9a6a",
            "577c0868a35b4dd9a0d8e6547e83241b",
            "bb32cef1da1947c1aaeb2340380102c6",
            "d8701f09e97549e89a96541f8f872033",
            "faeb8a37bf2540bb9abff0be8e3df41b",
            "fb974c4ac4084f018ea67fff78a12e3d",
            "aa34995449bc434d839ddc5ff08bc020",
            "20c7d892f7814150ba3e5953879317d1",
            "f89aa3a40f954565835531b2d5d8d61b",
            "159e196599cf43db94b8a16db8a75da8",
            "84f171d74f034a8ead2434d69df7d3e0",
            "75ed973cf8fa43c899202656c950b552",
            "f838bec235a2415e96101c2ca9cdb3ad",
            "a767f155968247538814a61a9721e6dd",
            "c5139a490ce24aecb9a72979e48d2924",
            "fade928be8b74a2387589db2c4ea95f1",
            "977c265b99564608be1d810464997868",
            "9ced7242c39440f591fe2f0295eb2583",
            "c5594b794e144a93883b4f88980b6db9",
            "cae3b70c53e241d5814536440db20c5a",
            "a2ac93f9488940e9b4df9c2104e9cba9",
            "6c3760defb9f4853b43aeacb423d56df",
            "84f5023aadd14093954fe189be9b1bec",
            "32aaa2c61b3b449484e7d4a7e9caf993",
            "9c0026c3971d453db041b24a5e35b6d0",
            "0d11927ae6644b9aa127fe887db29d9e"
          ]
        },
        "id": "Pz7emKvZ-xNi",
        "outputId": "7014f3d1-e20d-4cec-ddd5-1e0882608ca9"
      },
      "outputs": [
        {
          "data": {
            "application/vnd.jupyter.widget-view+json": {
              "model_id": "fd628daff77c4f82a220b370d903d28a",
              "version_major": 2,
              "version_minor": 0
            },
            "text/plain": [
              "Downloading:   0%|          | 0.00/898 [00:00<?, ?B/s]"
            ]
          },
          "metadata": {},
          "output_type": "display_data"
        },
        {
          "data": {
            "application/vnd.jupyter.widget-view+json": {
              "model_id": "f0982c0597c646889fe7bbc88d2f2b0d",
              "version_major": 2,
              "version_minor": 0
            },
            "text/plain": [
              "Downloading:   0%|          | 0.00/1.88M [00:00<?, ?B/s]"
            ]
          },
          "metadata": {},
          "output_type": "display_data"
        },
        {
          "data": {
            "application/vnd.jupyter.widget-view+json": {
              "model_id": "5e395df71e0a444db77a7da2a61ec563",
              "version_major": 2,
              "version_minor": 0
            },
            "text/plain": [
              "Downloading:   0%|          | 0.00/156 [00:00<?, ?B/s]"
            ]
          },
          "metadata": {},
          "output_type": "display_data"
        },
        {
          "data": {
            "application/vnd.jupyter.widget-view+json": {
              "model_id": "faeb8a37bf2540bb9abff0be8e3df41b",
              "version_major": 2,
              "version_minor": 0
            },
            "text/plain": [
              "Downloading:   0%|          | 0.00/62.0 [00:00<?, ?B/s]"
            ]
          },
          "metadata": {},
          "output_type": "display_data"
        },
        {
          "data": {
            "application/vnd.jupyter.widget-view+json": {
              "model_id": "fade928be8b74a2387589db2c4ea95f1",
              "version_major": 2,
              "version_minor": 0
            },
            "text/plain": [
              "Downloading:   0%|          | 0.00/72.3M [00:00<?, ?B/s]"
            ]
          },
          "metadata": {},
          "output_type": "display_data"
        }
      ],
      "source": [
        "model_name='m3hrdadfi/albert-fa-base-v2-sentiment-multi'\n",
        "dataset_path='/content/drive/MyDrive/testDataSetCar/allDataCar.csv'\n",
        "sa_model = SentimentAnalysis(model_name,dataset_path)\n",
        "# print(sa_model.config)"
      ]
    },
    {
      "cell_type": "code",
      "execution_count": null,
      "metadata": {
        "colab": {
          "base_uri": "https://localhost:8080/"
        },
        "id": "l9-W0i7r-xP2",
        "outputId": "62dc244d-a60f-49a1-f63e-fa80a4940c65"
      },
      "outputs": [
        {
          "name": "stderr",
          "output_type": "stream",
          "text": [
            "Truncation was not explicitly activated but `max_length` is provided a specific value, please use `truncation=True` to explicitly truncate examples to max length. Defaulting to 'longest_first' truncation strategy. If you encode pairs of sequences (GLUE-style) with the tokenizer you can select this strategy more precisely by providing a specific strategy to `truncation`.\n"
          ]
        },
        {
          "name": "stdout",
          "output_type": "stream",
          "text": [
            "all data: #comment: 901, #labels: 901\n"
          ]
        },
        {
          "name": "stderr",
          "output_type": "stream",
          "text": [
            "/usr/local/lib/python3.7/dist-packages/transformers/tokenization_utils_base.py:2111: FutureWarning: The `pad_to_max_length` argument is deprecated and will be removed in a future version, use `padding=True` or `padding='longest'` to pad to the longest sequence in the batch, or use `padding='max_length'` to pad to a max length. In this case, you can give a specific length with `max_length` (e.g. `max_length=45`) or leave max_length to None to pad to the maximal input size of the model (e.g. 512 for Bert).\n",
            "  FutureWarning,\n",
            "Epoch:   0%|          | 0/5 [00:00<?, ?it/s]/usr/local/lib/python3.7/dist-packages/sklearn/metrics/_classification.py:1318: UndefinedMetricWarning: Precision is ill-defined and being set to 0.0 in labels with no predicted samples. Use `zero_division` parameter to control this behavior.\n",
            "  _warn_prf(average, modifier, msg_start, len(result))\n",
            "Epoch:  20%|██        | 1/5 [01:31<06:04, 91.15s/it]"
          ]
        },
        {
          "name": "stdout",
          "output_type": "stream",
          "text": [
            "Test Accuracy: 0.6\n",
            "Test Precision: 0.5\n",
            "Test Recall: 0.6\n",
            "Test F1-Score(weighted average): 0.5333333333333333\n"
          ]
        },
        {
          "name": "stderr",
          "output_type": "stream",
          "text": [
            "/usr/local/lib/python3.7/dist-packages/sklearn/metrics/_classification.py:1318: UndefinedMetricWarning: Precision is ill-defined and being set to 0.0 in labels with no predicted samples. Use `zero_division` parameter to control this behavior.\n",
            "  _warn_prf(average, modifier, msg_start, len(result))\n",
            "\rEpoch:  40%|████      | 2/5 [03:04<04:36, 92.17s/it]"
          ]
        },
        {
          "name": "stdout",
          "output_type": "stream",
          "text": [
            "Test Accuracy: 0.6\n",
            "Test Precision: 0.5\n",
            "Test Recall: 0.6\n",
            "Test F1-Score(weighted average): 0.5333333333333333\n"
          ]
        },
        {
          "name": "stderr",
          "output_type": "stream",
          "text": [
            "/usr/local/lib/python3.7/dist-packages/sklearn/metrics/_classification.py:1318: UndefinedMetricWarning: Precision is ill-defined and being set to 0.0 in labels with no predicted samples. Use `zero_division` parameter to control this behavior.\n",
            "  _warn_prf(average, modifier, msg_start, len(result))\n",
            "\rEpoch:  60%|██████    | 3/5 [04:35<03:03, 91.64s/it]"
          ]
        },
        {
          "name": "stdout",
          "output_type": "stream",
          "text": [
            "Test Accuracy: 0.6\n",
            "Test Precision: 0.5\n",
            "Test Recall: 0.6\n",
            "Test F1-Score(weighted average): 0.5333333333333333\n"
          ]
        },
        {
          "name": "stderr",
          "output_type": "stream",
          "text": [
            "/usr/local/lib/python3.7/dist-packages/sklearn/metrics/_classification.py:1318: UndefinedMetricWarning: Precision is ill-defined and being set to 0.0 in labels with no predicted samples. Use `zero_division` parameter to control this behavior.\n",
            "  _warn_prf(average, modifier, msg_start, len(result))\n",
            "\rEpoch:  80%|████████  | 4/5 [06:07<01:31, 91.88s/it]"
          ]
        },
        {
          "name": "stdout",
          "output_type": "stream",
          "text": [
            "Test Accuracy: 0.6\n",
            "Test Precision: 0.5\n",
            "Test Recall: 0.6\n",
            "Test F1-Score(weighted average): 0.5333333333333333\n"
          ]
        },
        {
          "name": "stderr",
          "output_type": "stream",
          "text": [
            "/usr/local/lib/python3.7/dist-packages/sklearn/metrics/_classification.py:1318: UndefinedMetricWarning: Precision is ill-defined and being set to 0.0 in labels with no predicted samples. Use `zero_division` parameter to control this behavior.\n",
            "  _warn_prf(average, modifier, msg_start, len(result))\n",
            "Epoch: 100%|██████████| 5/5 [07:37<00:00, 91.50s/it]"
          ]
        },
        {
          "name": "stdout",
          "output_type": "stream",
          "text": [
            "Test Accuracy: 0.6\n",
            "Test Precision: 0.5\n",
            "Test Recall: 0.6\n",
            "Test F1-Score(weighted average): 0.5333333333333333\n"
          ]
        },
        {
          "name": "stderr",
          "output_type": "stream",
          "text": [
            "\n"
          ]
        }
      ],
      "source": [
        "sa_model.sentiment_analysis_training(device)"
      ]
    },
    {
      "cell_type": "code",
      "execution_count": null,
      "metadata": {
        "id": "pIUnpPEeAN0u"
      },
      "outputs": [],
      "source": [
        "import pickle\n",
        "with open('/content/drive/MyDrive/pickle file/tondar90.pkl', 'rb') as handle:\n",
        "    data = pickle.load(handle)\n"
      ]
    },
    {
      "cell_type": "code",
      "execution_count": null,
      "metadata": {
        "colab": {
          "base_uri": "https://localhost:8080/",
          "height": 424
        },
        "id": "ti3k-dr4ATDL",
        "outputId": "876a54b7-8158-45e2-c064-f0b3c89099ae"
      },
      "outputs": [
        {
          "data": {
            "text/html": [
              "\n",
              "  <div id=\"df-824da800-5bfd-4a39-8337-a514cdf3bece\">\n",
              "    <div class=\"colab-df-container\">\n",
              "      <div>\n",
              "<style scoped>\n",
              "    .dataframe tbody tr th:only-of-type {\n",
              "        vertical-align: middle;\n",
              "    }\n",
              "\n",
              "    .dataframe tbody tr th {\n",
              "        vertical-align: top;\n",
              "    }\n",
              "\n",
              "    .dataframe thead th {\n",
              "        text-align: right;\n",
              "    }\n",
              "</style>\n",
              "<table border=\"1\" class=\"dataframe\">\n",
              "  <thead>\n",
              "    <tr style=\"text-align: right;\">\n",
              "      <th></th>\n",
              "      <th>cleaned_comment</th>\n",
              "    </tr>\n",
              "  </thead>\n",
              "  <tbody>\n",
              "    <tr>\n",
              "      <th>0</th>\n",
              "      <td>عوضش لاستیک ژاپنی تا حداقل ۵ سال خیالت راحت با...</td>\n",
              "    </tr>\n",
              "    <tr>\n",
              "      <th>1</th>\n",
              "      <td>۲۰۵ فرمان پذیری رو کم می‌کنه و فرمون سفت. می ش...</td>\n",
              "    </tr>\n",
              "    <tr>\n",
              "      <th>2</th>\n",
              "      <td>ظاهر بیرونی ۲۰۷ که همون ۲۰۶ تکراریه. استپ خیلی...</td>\n",
              "    </tr>\n",
              "    <tr>\n",
              "      <th>3</th>\n",
              "      <td>بابا استپ سالاره قاطی مرغا نزنیدش</td>\n",
              "    </tr>\n",
              "    <tr>\n",
              "      <th>4</th>\n",
              "      <td>از ۹۱ تا الان ۲۰۵ زیرشه آخ نگفته از ۱۸۵ هم واق...</td>\n",
              "    </tr>\n",
              "    <tr>\n",
              "      <th>...</th>\n",
              "      <td>...</td>\n",
              "    </tr>\n",
              "    <tr>\n",
              "      <th>101400</th>\n",
              "      <td>والا نمیدونم، اگه اصل باشه هر ۲خوبن، trw دیسک ...</td>\n",
              "    </tr>\n",
              "    <tr>\n",
              "      <th>101401</th>\n",
              "      <td>این که عکس روغن منه</td>\n",
              "    </tr>\n",
              "    <tr>\n",
              "      <th>101402</th>\n",
              "      <td>ماه پیش trw اصلی را با لنت رنو فابریک بستم، لا...</td>\n",
              "    </tr>\n",
              "    <tr>\n",
              "      <th>101403</th>\n",
              "      <td>سلام دوستان من الان خودم تهرانم ولی برام پیامک...</td>\n",
              "    </tr>\n",
              "    <tr>\n",
              "      <th>101404</th>\n",
              "      <td>زنگ بزن ۱۱۰ راهنماییت میگنه</td>\n",
              "    </tr>\n",
              "  </tbody>\n",
              "</table>\n",
              "<p>101405 rows × 1 columns</p>\n",
              "</div>\n",
              "      <button class=\"colab-df-convert\" onclick=\"convertToInteractive('df-824da800-5bfd-4a39-8337-a514cdf3bece')\"\n",
              "              title=\"Convert this dataframe to an interactive table.\"\n",
              "              style=\"display:none;\">\n",
              "        \n",
              "  <svg xmlns=\"http://www.w3.org/2000/svg\" height=\"24px\"viewBox=\"0 0 24 24\"\n",
              "       width=\"24px\">\n",
              "    <path d=\"M0 0h24v24H0V0z\" fill=\"none\"/>\n",
              "    <path d=\"M18.56 5.44l.94 2.06.94-2.06 2.06-.94-2.06-.94-.94-2.06-.94 2.06-2.06.94zm-11 1L8.5 8.5l.94-2.06 2.06-.94-2.06-.94L8.5 2.5l-.94 2.06-2.06.94zm10 10l.94 2.06.94-2.06 2.06-.94-2.06-.94-.94-2.06-.94 2.06-2.06.94z\"/><path d=\"M17.41 7.96l-1.37-1.37c-.4-.4-.92-.59-1.43-.59-.52 0-1.04.2-1.43.59L10.3 9.45l-7.72 7.72c-.78.78-.78 2.05 0 2.83L4 21.41c.39.39.9.59 1.41.59.51 0 1.02-.2 1.41-.59l7.78-7.78 2.81-2.81c.8-.78.8-2.07 0-2.86zM5.41 20L4 18.59l7.72-7.72 1.47 1.35L5.41 20z\"/>\n",
              "  </svg>\n",
              "      </button>\n",
              "      \n",
              "  <style>\n",
              "    .colab-df-container {\n",
              "      display:flex;\n",
              "      flex-wrap:wrap;\n",
              "      gap: 12px;\n",
              "    }\n",
              "\n",
              "    .colab-df-convert {\n",
              "      background-color: #E8F0FE;\n",
              "      border: none;\n",
              "      border-radius: 50%;\n",
              "      cursor: pointer;\n",
              "      display: none;\n",
              "      fill: #1967D2;\n",
              "      height: 32px;\n",
              "      padding: 0 0 0 0;\n",
              "      width: 32px;\n",
              "    }\n",
              "\n",
              "    .colab-df-convert:hover {\n",
              "      background-color: #E2EBFA;\n",
              "      box-shadow: 0px 1px 2px rgba(60, 64, 67, 0.3), 0px 1px 3px 1px rgba(60, 64, 67, 0.15);\n",
              "      fill: #174EA6;\n",
              "    }\n",
              "\n",
              "    [theme=dark] .colab-df-convert {\n",
              "      background-color: #3B4455;\n",
              "      fill: #D2E3FC;\n",
              "    }\n",
              "\n",
              "    [theme=dark] .colab-df-convert:hover {\n",
              "      background-color: #434B5C;\n",
              "      box-shadow: 0px 1px 3px 1px rgba(0, 0, 0, 0.15);\n",
              "      filter: drop-shadow(0px 1px 2px rgba(0, 0, 0, 0.3));\n",
              "      fill: #FFFFFF;\n",
              "    }\n",
              "  </style>\n",
              "\n",
              "      <script>\n",
              "        const buttonEl =\n",
              "          document.querySelector('#df-824da800-5bfd-4a39-8337-a514cdf3bece button.colab-df-convert');\n",
              "        buttonEl.style.display =\n",
              "          google.colab.kernel.accessAllowed ? 'block' : 'none';\n",
              "\n",
              "        async function convertToInteractive(key) {\n",
              "          const element = document.querySelector('#df-824da800-5bfd-4a39-8337-a514cdf3bece');\n",
              "          const dataTable =\n",
              "            await google.colab.kernel.invokeFunction('convertToInteractive',\n",
              "                                                     [key], {});\n",
              "          if (!dataTable) return;\n",
              "\n",
              "          const docLinkHtml = 'Like what you see? Visit the ' +\n",
              "            '<a target=\"_blank\" href=https://colab.research.google.com/notebooks/data_table.ipynb>data table notebook</a>'\n",
              "            + ' to learn more about interactive tables.';\n",
              "          element.innerHTML = '';\n",
              "          dataTable['output_type'] = 'display_data';\n",
              "          await google.colab.output.renderOutput(dataTable, element);\n",
              "          const docLink = document.createElement('div');\n",
              "          docLink.innerHTML = docLinkHtml;\n",
              "          element.appendChild(docLink);\n",
              "        }\n",
              "      </script>\n",
              "    </div>\n",
              "  </div>\n",
              "  "
            ],
            "text/plain": [
              "                                          cleaned_comment\n",
              "0       عوضش لاستیک ژاپنی تا حداقل ۵ سال خیالت راحت با...\n",
              "1       ۲۰۵ فرمان پذیری رو کم می‌کنه و فرمون سفت. می ش...\n",
              "2       ظاهر بیرونی ۲۰۷ که همون ۲۰۶ تکراریه. استپ خیلی...\n",
              "3                       بابا استپ سالاره قاطی مرغا نزنیدش\n",
              "4       از ۹۱ تا الان ۲۰۵ زیرشه آخ نگفته از ۱۸۵ هم واق...\n",
              "...                                                   ...\n",
              "101400  والا نمیدونم، اگه اصل باشه هر ۲خوبن، trw دیسک ...\n",
              "101401                                این که عکس روغن منه\n",
              "101402  ماه پیش trw اصلی را با لنت رنو فابریک بستم، لا...\n",
              "101403  سلام دوستان من الان خودم تهرانم ولی برام پیامک...\n",
              "101404                        زنگ بزن ۱۱۰ راهنماییت میگنه\n",
              "\n",
              "[101405 rows x 1 columns]"
            ]
          },
          "execution_count": 24,
          "metadata": {},
          "output_type": "execute_result"
        }
      ],
      "source": [
        "data"
      ]
    },
    {
      "cell_type": "code",
      "execution_count": null,
      "metadata": {
        "colab": {
          "base_uri": "https://localhost:8080/"
        },
        "id": "BWk515nRAU2S",
        "outputId": "a7dde8c4-c88a-4b0e-d85c-572fa18b310c"
      },
      "outputs": [
        {
          "data": {
            "text/plain": [
              "101405"
            ]
          },
          "execution_count": 25,
          "metadata": {},
          "output_type": "execute_result"
        }
      ],
      "source": [
        "text=list(data['cleaned_comment'])\n",
        "len(data)"
      ]
    },
    {
      "cell_type": "markdown",
      "metadata": {
        "id": "WSTh9zau5c20"
      },
      "source": [
        "**مشخصات فنی**"
      ]
    },
    {
      "cell_type": "markdown",
      "metadata": {
        "id": "QFiVb5S8V2nK"
      },
      "source": [
        "گیربکس"
      ]
    },
    {
      "cell_type": "code",
      "execution_count": null,
      "metadata": {
        "id": "Fr5VfSgiAZt0"
      },
      "outputs": [],
      "source": [
        "Technical_Specifications1=[]\n",
        "matches=[\"گیربکس\"]\n",
        "for sentence in text:\n",
        "   if any(x in sentence for x in matches):\n",
        "      Technical_Specifications1.append(sentence)"
      ]
    },
    {
      "cell_type": "code",
      "execution_count": null,
      "metadata": {
        "id": "RaoPvVTXAe4-"
      },
      "outputs": [],
      "source": [
        "import pandas as pd\n",
        "dataFram_Technical_Specifications1=pd.DataFrame()\n",
        "batch_size=20\n",
        "for i in range(0, len(Technical_Specifications1), batch_size):\n",
        "  ww=sa_model.sentiment_analysis_inference(Technical_Specifications1[i:i+batch_size],device)\n",
        "  dataFram_Technical_Specifications1=dataFram_Technical_Specifications1.append(ww,ignore_index=True)\n",
        "  \n",
        "dataFram_Technical_Specifications1.columns=['text','label']"
      ]
    },
    {
      "cell_type": "code",
      "execution_count": null,
      "metadata": {
        "colab": {
          "base_uri": "https://localhost:8080/"
        },
        "id": "XirBOz2sAe-G",
        "outputId": "7d24a296-ea23-432d-a1d0-27c9b83c40e8"
      },
      "outputs": [
        {
          "name": "stdout",
          "output_type": "stream",
          "text": [
            "positive precent : 17.206248585012453\n",
            "negative precent : 24.813221643649534\n",
            "Neutral precent : 57.980529771338006\n",
            "total comment : 4417\n"
          ]
        }
      ],
      "source": [
        "length_array1=len(dataFram_Technical_Specifications1)\n",
        "neg=dataFram_Technical_Specifications1['label'].value_counts()['Negative']\n",
        "pos=dataFram_Technical_Specifications1['label'].value_counts()['Positive']\n",
        "neu=dataFram_Technical_Specifications1['label'].value_counts()['Neutral']\n",
        "pos1=pos/length_array1*100\n",
        "neg1=neg/length_array1*100\n",
        "neu1=neu/length_array1*100\n",
        "print(\"positive precent :\" , pos1)\n",
        "print(\"negative precent :\" , neg1)\n",
        "print(\"Neutral precent :\" , neu1)\n",
        "print(\"total comment :\",length_array1)"
      ]
    },
    {
      "cell_type": "markdown",
      "metadata": {
        "id": "qVw32EATdUQT"
      },
      "source": [
        "دیفرانسیل"
      ]
    },
    {
      "cell_type": "code",
      "execution_count": null,
      "metadata": {
        "id": "goDQ7LvAWZfi"
      },
      "outputs": [],
      "source": [
        "Technical_Specifications2=[]\n",
        "matches=[\"دیفرانسیل\"]\n",
        "for sentence in text:\n",
        "   if any(x in sentence for x in matches):\n",
        "      Technical_Specifications2.append(sentence)"
      ]
    },
    {
      "cell_type": "code",
      "execution_count": null,
      "metadata": {
        "id": "zzs7xa51Wcn8"
      },
      "outputs": [],
      "source": [
        "import pandas as pd\n",
        "dataFram_Technical_Specifications2=pd.DataFrame()\n",
        "batch_size=20\n",
        "for i in range(0, len(Technical_Specifications2), batch_size):\n",
        "  ww=sa_model.sentiment_analysis_inference(Technical_Specifications2[i:i+batch_size],device)\n",
        "  dataFram_Technical_Specifications2=dataFram_Technical_Specifications2.append(ww,ignore_index=True)\n",
        "  \n",
        "dataFram_Technical_Specifications2.columns=['text','label']"
      ]
    },
    {
      "cell_type": "code",
      "execution_count": null,
      "metadata": {
        "colab": {
          "base_uri": "https://localhost:8080/"
        },
        "id": "wsZhVT1hWcti",
        "outputId": "e67f94a3-8fd9-4846-bd25-3534c62bac98"
      },
      "outputs": [
        {
          "name": "stdout",
          "output_type": "stream",
          "text": [
            "positive precent : 8.695652173913043\n",
            "negative precent : 34.78260869565217\n",
            "Neutral precent : 56.52173913043478\n",
            "total comment : 69\n"
          ]
        }
      ],
      "source": [
        "length_array2=len(dataFram_Technical_Specifications2)\n",
        "neg=len(dataFram_Technical_Specifications2[dataFram_Technical_Specifications2['label']=='Negative'])\n",
        "pos=len(dataFram_Technical_Specifications2[dataFram_Technical_Specifications2['label']=='Positive'])\n",
        "neu=len(dataFram_Technical_Specifications2[dataFram_Technical_Specifications2['label']=='Neutral'])\n",
        "pos2=pos/length_array2*100\n",
        "neg2=neg/length_array2*100\n",
        "neu2=neu/length_array2*100\n",
        "print(\"positive precent :\" , pos2)\n",
        "print(\"negative precent :\" , neg2)\n",
        "print(\"Neutral precent :\" , neu2)\n",
        "print(\"total comment :\",length_array2)"
      ]
    },
    {
      "cell_type": "markdown",
      "metadata": {
        "id": "TTcXrZA0dacI"
      },
      "source": [
        "انژکتور"
      ]
    },
    {
      "cell_type": "code",
      "execution_count": null,
      "metadata": {
        "id": "Yu-VbZ0mdfx-"
      },
      "outputs": [],
      "source": [
        "Technical_Specifications3=[]\n",
        "matches=[\"انژکتور\"]\n",
        "for sentence in text:\n",
        "   if any(x in sentence for x in matches):\n",
        "      Technical_Specifications3.append(sentence)"
      ]
    },
    {
      "cell_type": "code",
      "execution_count": null,
      "metadata": {
        "id": "-a5C8ANYdfyA"
      },
      "outputs": [],
      "source": [
        "import pandas as pd\n",
        "dataFram_Technical_Specifications3=pd.DataFrame()\n",
        "batch_size=20\n",
        "for i in range(0, len(Technical_Specifications3), batch_size):\n",
        "  ww=sa_model.sentiment_analysis_inference(Technical_Specifications3[i:i+batch_size],device)\n",
        "  dataFram_Technical_Specifications3=dataFram_Technical_Specifications3.append(ww,ignore_index=True)\n",
        "  \n",
        "dataFram_Technical_Specifications3.columns=['text','label']"
      ]
    },
    {
      "cell_type": "code",
      "execution_count": null,
      "metadata": {
        "colab": {
          "base_uri": "https://localhost:8080/"
        },
        "id": "X0Cqc38bdfyB",
        "outputId": "adb48587-6281-4df4-f3a7-e679b20e4f44"
      },
      "outputs": [
        {
          "name": "stdout",
          "output_type": "stream",
          "text": [
            "positive precent : 13.306451612903224\n",
            "negative precent : 44.75806451612903\n",
            "Neutral precent : 41.935483870967744\n",
            "total comment : 496\n"
          ]
        }
      ],
      "source": [
        "length_array3=len(dataFram_Technical_Specifications3)\n",
        "neg=dataFram_Technical_Specifications3['label'].value_counts()['Negative']\n",
        "pos=dataFram_Technical_Specifications3['label'].value_counts()['Positive']\n",
        "neu=dataFram_Technical_Specifications3['label'].value_counts()['Neutral']\n",
        "pos3=pos/length_array3*100\n",
        "neg3=neg/length_array3*100\n",
        "neu3=neu/length_array3*100\n",
        "print(\"positive precent :\" , pos3)\n",
        "print(\"negative precent :\" , neg3)\n",
        "print(\"Neutral precent :\" , neu3)\n",
        "print(\"total comment :\",length_array3)"
      ]
    },
    {
      "cell_type": "markdown",
      "metadata": {
        "id": "KwJooz0_WwaC"
      },
      "source": [
        "بلبرینگ"
      ]
    },
    {
      "cell_type": "code",
      "execution_count": null,
      "metadata": {
        "id": "bK-G1ht_Wx5a"
      },
      "outputs": [],
      "source": [
        "Technical_Specifications4=[]\n",
        "matches=[\"بلبرینگ\"]\n",
        "for sentence in text:\n",
        "   if any(x in sentence for x in matches):\n",
        "      Technical_Specifications4.append(sentence)"
      ]
    },
    {
      "cell_type": "code",
      "execution_count": null,
      "metadata": {
        "id": "obwjbchSWyMB"
      },
      "outputs": [],
      "source": [
        "import pandas as pd\n",
        "dataFram_Technical_Specifications4=pd.DataFrame()\n",
        "batch_size=20\n",
        "for i in range(0, len(Technical_Specifications4), batch_size):\n",
        "  ww=sa_model.sentiment_analysis_inference(Technical_Specifications4[i:i+batch_size],device)\n",
        "  dataFram_Technical_Specifications4=dataFram_Technical_Specifications4.append(ww,ignore_index=True)\n",
        "  \n",
        "dataFram_Technical_Specifications4.columns=['text','label']"
      ]
    },
    {
      "cell_type": "code",
      "execution_count": null,
      "metadata": {
        "colab": {
          "base_uri": "https://localhost:8080/"
        },
        "id": "RB_G2w_jWySp",
        "outputId": "d7aac567-6084-4190-cd48-21c517563b7c"
      },
      "outputs": [
        {
          "name": "stdout",
          "output_type": "stream",
          "text": [
            "positive precent : 9.695290858725762\n",
            "negative precent : 33.795013850415515\n",
            "Neutral precent : 56.50969529085873\n",
            "total comment : 722\n"
          ]
        }
      ],
      "source": [
        "length_array4=len(dataFram_Technical_Specifications4)\n",
        "neg=dataFram_Technical_Specifications4['label'].value_counts()['Negative']\n",
        "pos=dataFram_Technical_Specifications4['label'].value_counts()['Positive']\n",
        "neu=dataFram_Technical_Specifications4['label'].value_counts()['Neutral']\n",
        "pos4=pos/length_array4*100\n",
        "neg4=neg/length_array4*100\n",
        "neu4=neu/length_array4*100\n",
        "print(\"positive precent :\" , pos4)\n",
        "print(\"negative precent :\" , neg4)\n",
        "print(\"Neutral precent :\" , neu4)\n",
        "print(\"total comment :\",length_array4)"
      ]
    },
    {
      "cell_type": "markdown",
      "metadata": {
        "id": "bS0xC3ZPW3rD"
      },
      "source": [
        "غیره"
      ]
    },
    {
      "cell_type": "code",
      "execution_count": null,
      "metadata": {
        "id": "oTmES8tOW7DI"
      },
      "outputs": [],
      "source": [
        "Technical_Specifications5=[]\n",
        "matches=[\"توربو\",\"ابروغن\",\"گیج \",\"میل لنگ\",\"تسمه تایم\",\"سوپاپ\",\"سیلندر\",\"شمع\",\"وایر\",\"جرقه\",\"احتراق\",\"کمپرسور\",\"پروانه\",\"بازویی\",\"دمنده\",\"رادیاات\",\"موتور\",\"سوپاپ\"]\n",
        "for sentence in text:\n",
        "   if any(x in sentence for x in matches):\n",
        "      Technical_Specifications5.append(sentence)"
      ]
    },
    {
      "cell_type": "code",
      "execution_count": null,
      "metadata": {
        "id": "l9JOJxupW8AS"
      },
      "outputs": [],
      "source": [
        "import pandas as pd\n",
        "dataFram_Technical_Specifications5=pd.DataFrame()\n",
        "batch_size=20\n",
        "for i in range(0, len(Technical_Specifications5), batch_size):\n",
        "  ww=sa_model.sentiment_analysis_inference(Technical_Specifications5[i:i+batch_size],device)\n",
        "  dataFram_Technical_Specifications5=dataFram_Technical_Specifications5.append(ww,ignore_index=True)\n",
        "  \n",
        "dataFram_Technical_Specifications5.columns=['text','label']"
      ]
    },
    {
      "cell_type": "code",
      "execution_count": null,
      "metadata": {
        "colab": {
          "base_uri": "https://localhost:8080/"
        },
        "id": "MwuldWH4W8F0",
        "outputId": "84f119f2-2149-4a32-ddc5-238cb73956b7"
      },
      "outputs": [
        {
          "name": "stdout",
          "output_type": "stream",
          "text": [
            "positive precent : 14.053792100799612\n",
            "negative precent : 36.21516840319845\n",
            "Neutral precent : 49.73103949600194\n",
            "total comment : 20635\n"
          ]
        }
      ],
      "source": [
        "length_array5=len(dataFram_Technical_Specifications5)\n",
        "neg=dataFram_Technical_Specifications5['label'].value_counts()['Negative']\n",
        "pos=dataFram_Technical_Specifications5['label'].value_counts()['Positive']\n",
        "neu=dataFram_Technical_Specifications5['label'].value_counts()['Neutral']\n",
        "pos5=pos/length_array5*100\n",
        "neg5=neg/length_array5*100\n",
        "neu5=neu/length_array5*100\n",
        "print(\"positive precent :\" , pos5)\n",
        "print(\"negative precent :\" , neg5)\n",
        "print(\"Neutral precent :\" , neu5)\n",
        "print(\"total comment :\",length_array5)"
      ]
    },
    {
      "cell_type": "markdown",
      "metadata": {
        "id": "s7p8UW90XBJx"
      },
      "source": [
        "کلی"
      ]
    },
    {
      "cell_type": "code",
      "execution_count": null,
      "metadata": {
        "colab": {
          "base_uri": "https://localhost:8080/"
        },
        "id": "4v3P2rx8XATf",
        "outputId": "3a2d23da-3fd9-4dbb-cb47-66bde46f35a2"
      },
      "outputs": [
        {
          "name": "stdout",
          "output_type": "stream",
          "text": [
            "positive precent : 12.591487066270819\n",
            "negative precent : 34.87281542180894\n",
            "Neutral precent : 52.53569751192024\n",
            "total comment : 26339\n"
          ]
        }
      ],
      "source": [
        "import statistics\n",
        "pos_1_5 = statistics.mean([pos1,pos2,pos3,pos4,pos5])\n",
        "neg_1_5=statistics.mean([neg1,neg2,neg3,neg4,neg5])\n",
        "neu_1_5=statistics.mean([neu1,neu2,neu3,neu4,neu5])\n",
        "sum_1_5=sum([length_array1,length_array2,length_array3,length_array4,length_array5])\n",
        "print(\"positive precent :\" , pos_1_5)\n",
        "print(\"negative precent :\" , neg_1_5)\n",
        "print(\"Neutral precent :\" , neu_1_5)\n",
        "print(\"total comment :\",sum_1_5)"
      ]
    },
    {
      "cell_type": "markdown",
      "metadata": {
        "id": "AsMiziIYa2x7"
      },
      "source": [
        "**عملکرد فنی**"
      ]
    },
    {
      "cell_type": "markdown",
      "metadata": {
        "id": "03RfgzDubXti"
      },
      "source": [
        "اسب بخار"
      ]
    },
    {
      "cell_type": "code",
      "execution_count": null,
      "metadata": {
        "id": "NL2QsqAkbAIB"
      },
      "outputs": [],
      "source": [
        "Technical_performance1=[]\n",
        "matches=[\"اسب بخار\"]\n",
        "for sentence in text:\n",
        "   if any(x in sentence for x in matches):\n",
        "      Technical_performance1.append(sentence)"
      ]
    },
    {
      "cell_type": "code",
      "execution_count": null,
      "metadata": {
        "id": "Jxak_HZCbAOg"
      },
      "outputs": [],
      "source": [
        "import pandas as pd\n",
        "dataFram_Technical_performance1=pd.DataFrame()\n",
        "batch_size=20\n",
        "for i in range(0, len(Technical_performance1), batch_size):\n",
        "  ww=sa_model.sentiment_analysis_inference(Technical_performance1[i:i+batch_size],device)\n",
        "  dataFram_Technical_performance1=dataFram_Technical_performance1.append(ww,ignore_index=True)\n",
        "  \n",
        "dataFram_Technical_performance1.columns=['text','label']"
      ]
    },
    {
      "cell_type": "code",
      "execution_count": null,
      "metadata": {
        "colab": {
          "base_uri": "https://localhost:8080/"
        },
        "id": "wyzmSfQ1bAUx",
        "outputId": "e8aa61c7-7b99-4279-a3e3-18ebb491ddd1"
      },
      "outputs": [
        {
          "name": "stdout",
          "output_type": "stream",
          "text": [
            "positive precent : 12.396694214876034\n",
            "negative precent : 31.40495867768595\n",
            "Neutral precent : 56.19834710743802\n",
            "total comment : 121\n"
          ]
        }
      ],
      "source": [
        "length_array6=len(dataFram_Technical_performance1)\n",
        "neg=dataFram_Technical_performance1['label'].value_counts()['Negative']\n",
        "pos=dataFram_Technical_performance1['label'].value_counts()['Positive']\n",
        "neu=dataFram_Technical_performance1['label'].value_counts()['Neutral']\n",
        "pos6=pos/length_array6*100\n",
        "neg6=neg/length_array6*100\n",
        "neu6=neu/length_array6*100\n",
        "print(\"positive precent :\" , pos6)\n",
        "print(\"negative precent :\" , neg6)\n",
        "print(\"Neutral precent :\" , neu6)\n",
        "print(\"total comment :\",length_array6)"
      ]
    },
    {
      "cell_type": "markdown",
      "metadata": {
        "id": "JdsJVFHcbZaD"
      },
      "source": [
        "گشتاور"
      ]
    },
    {
      "cell_type": "code",
      "execution_count": null,
      "metadata": {
        "id": "imL5cYNabWJ0"
      },
      "outputs": [],
      "source": [
        "Technical_performance2=[]\n",
        "matches=[\"گشتاور\"]\n",
        "for sentence in text:\n",
        "   if any(x in sentence for x in matches):\n",
        "      Technical_performance2.append(sentence)"
      ]
    },
    {
      "cell_type": "code",
      "execution_count": null,
      "metadata": {
        "id": "rwIur29zbWME"
      },
      "outputs": [],
      "source": [
        "import pandas as pd\n",
        "dataFram_Technical_performance2=pd.DataFrame()\n",
        "batch_size=20\n",
        "for i in range(0, len(Technical_performance2), batch_size):\n",
        "  ww=sa_model.sentiment_analysis_inference(Technical_performance2[i:i+batch_size],device)\n",
        "  dataFram_Technical_performance2=dataFram_Technical_performance2.append(ww,ignore_index=True)\n",
        "  \n",
        "dataFram_Technical_performance2.columns=['text','label']"
      ]
    },
    {
      "cell_type": "code",
      "execution_count": null,
      "metadata": {
        "colab": {
          "base_uri": "https://localhost:8080/"
        },
        "id": "T9xKnZxJbWOk",
        "outputId": "26d0ba91-2470-4f51-ce7f-e750f8c6524b"
      },
      "outputs": [
        {
          "name": "stdout",
          "output_type": "stream",
          "text": [
            "positive precent : 9.89010989010989\n",
            "negative precent : 25.274725274725274\n",
            "Neutral precent : 64.83516483516483\n",
            "total comment : 182\n"
          ]
        }
      ],
      "source": [
        "length_array7=len(dataFram_Technical_performance2)\n",
        "neg=dataFram_Technical_performance2['label'].value_counts()['Negative']\n",
        "pos=dataFram_Technical_performance2['label'].value_counts()['Positive']\n",
        "neu=dataFram_Technical_performance2['label'].value_counts()['Neutral']\n",
        "pos7=pos/length_array7*100\n",
        "neg7=neg/length_array7*100\n",
        "neu7=neu/length_array7*100\n",
        "print(\"positive precent :\" , pos7)\n",
        "print(\"negative precent :\" , neg7)\n",
        "print(\"Neutral precent :\" , neu7)\n",
        "print(\"total comment :\",length_array7)"
      ]
    },
    {
      "cell_type": "markdown",
      "metadata": {
        "id": "VatD55HEbz6Z"
      },
      "source": [
        "سرعت"
      ]
    },
    {
      "cell_type": "code",
      "execution_count": null,
      "metadata": {
        "id": "4TKcXyLUb2D-"
      },
      "outputs": [],
      "source": [
        "Technical_performance3=[]\n",
        "matches=[\"سرعت\"]\n",
        "for sentence in text:\n",
        "   if any(x in sentence for x in matches):\n",
        "      Technical_performance3.append(sentence)"
      ]
    },
    {
      "cell_type": "code",
      "execution_count": null,
      "metadata": {
        "id": "RojhyuKhb2IC"
      },
      "outputs": [],
      "source": [
        "import pandas as pd\n",
        "dataFram_Technical_performance3=pd.DataFrame()\n",
        "batch_size=20\n",
        "for i in range(0, len(Technical_performance3), batch_size):\n",
        "  ww=sa_model.sentiment_analysis_inference(Technical_performance3[i:i+batch_size],device)\n",
        "  dataFram_Technical_performance3=dataFram_Technical_performance3.append(ww,ignore_index=True)\n",
        "  \n",
        "dataFram_Technical_performance3.columns=['text','label']"
      ]
    },
    {
      "cell_type": "code",
      "execution_count": null,
      "metadata": {
        "colab": {
          "base_uri": "https://localhost:8080/"
        },
        "id": "Wa-4346Rb2Kx",
        "outputId": "b27c952e-08ef-40ca-e3ee-0a1654f348d5"
      },
      "outputs": [
        {
          "name": "stdout",
          "output_type": "stream",
          "text": [
            "positive precent : 14.486279514996808\n",
            "negative precent : 26.356094447989793\n",
            "Neutral precent : 59.1576260370134\n",
            "total comment : 3134\n"
          ]
        }
      ],
      "source": [
        "length_array8=len(dataFram_Technical_performance3)\n",
        "neg=dataFram_Technical_performance3['label'].value_counts()['Negative']\n",
        "pos=dataFram_Technical_performance3['label'].value_counts()['Positive']\n",
        "neu=dataFram_Technical_performance3['label'].value_counts()['Neutral']\n",
        "pos8=pos/length_array8*100\n",
        "neg8=neg/length_array8*100\n",
        "neu8=neu/length_array8*100\n",
        "print(\"positive precent :\" , pos8)\n",
        "print(\"negative precent :\" , neg8)\n",
        "print(\"Neutral precent :\" , neu8)\n",
        "print(\"total comment :\",length_array8)"
      ]
    },
    {
      "cell_type": "markdown",
      "metadata": {
        "id": "zbi2qJascEON"
      },
      "source": [
        "بنزین"
      ]
    },
    {
      "cell_type": "code",
      "execution_count": null,
      "metadata": {
        "id": "Xj5gVMgGb2OQ"
      },
      "outputs": [],
      "source": [
        "Technical_performance4=[]\n",
        "matches=[\"سرعت\"]\n",
        "for sentence in text:\n",
        "   if any(x in sentence for x in matches):\n",
        "      Technical_performance4.append(sentence)"
      ]
    },
    {
      "cell_type": "code",
      "execution_count": null,
      "metadata": {
        "id": "cPI6PnUbcGCg"
      },
      "outputs": [],
      "source": [
        "import pandas as pd\n",
        "dataFram_Technical_performance4=pd.DataFrame()\n",
        "batch_size=20\n",
        "for i in range(0, len(Technical_performance4), batch_size):\n",
        "  ww=sa_model.sentiment_analysis_inference(Technical_performance4[i:i+batch_size],device)\n",
        "  dataFram_Technical_performance4=dataFram_Technical_performance4.append(ww,ignore_index=True)\n",
        "  \n",
        "dataFram_Technical_performance4.columns=['text','label']"
      ]
    },
    {
      "cell_type": "code",
      "execution_count": null,
      "metadata": {
        "colab": {
          "base_uri": "https://localhost:8080/"
        },
        "id": "C-a7e_UkcGH1",
        "outputId": "5ad3c57c-f9ce-4e10-84bb-fc6f01fdaf20"
      },
      "outputs": [
        {
          "name": "stdout",
          "output_type": "stream",
          "text": [
            "positive precent : 14.486279514996808\n",
            "negative precent : 26.356094447989793\n",
            "Neutral precent : 59.1576260370134\n",
            "total comment : 3134\n"
          ]
        }
      ],
      "source": [
        "length_array9=len(dataFram_Technical_performance4)\n",
        "neg=dataFram_Technical_performance4['label'].value_counts()['Negative']\n",
        "pos=dataFram_Technical_performance4['label'].value_counts()['Positive']\n",
        "neu=dataFram_Technical_performance4['label'].value_counts()['Neutral']\n",
        "pos9=pos/length_array9*100\n",
        "neg9=neg/length_array9*100\n",
        "neu9=neu/length_array9*100\n",
        "print(\"positive precent :\" , pos9)\n",
        "print(\"negative precent :\" , neg9)\n",
        "print(\"Neutral precent :\" , neu9)\n",
        "print(\"total comment :\",length_array9)"
      ]
    },
    {
      "cell_type": "markdown",
      "metadata": {
        "id": "_-GDqRuncXB1"
      },
      "source": [
        "اگزور"
      ]
    },
    {
      "cell_type": "code",
      "execution_count": null,
      "metadata": {
        "id": "0fgOReD2cbnN"
      },
      "outputs": [],
      "source": [
        "Technical_performance5=[]\n",
        "matches=[\"اگزوز\"]\n",
        "for sentence in text:\n",
        "   if any(x in sentence for x in matches):\n",
        "      Technical_performance5.append(sentence)"
      ]
    },
    {
      "cell_type": "code",
      "execution_count": null,
      "metadata": {
        "id": "cT6bJtRPcbsx"
      },
      "outputs": [],
      "source": [
        "import pandas as pd\n",
        "dataFram_Technical_performance5=pd.DataFrame()\n",
        "batch_size=20\n",
        "for i in range(0, len(Technical_performance5), batch_size):\n",
        "  ww=sa_model.sentiment_analysis_inference(Technical_performance5[i:i+batch_size],device)\n",
        "  dataFram_Technical_performance5=dataFram_Technical_performance5.append(ww,ignore_index=True)\n",
        "  \n",
        "dataFram_Technical_performance5.columns=['text','label']"
      ]
    },
    {
      "cell_type": "code",
      "execution_count": null,
      "metadata": {
        "colab": {
          "base_uri": "https://localhost:8080/"
        },
        "id": "8doPFOVRcbxo",
        "outputId": "29a1b23d-b73d-46d5-9134-f52eadef352e"
      },
      "outputs": [
        {
          "name": "stdout",
          "output_type": "stream",
          "text": [
            "positive precent : 6.028833551769332\n",
            "negative precent : 38.92529488859764\n",
            "Neutral precent : 55.04587155963303\n",
            "total comment : 763\n"
          ]
        }
      ],
      "source": [
        "length_array10=len(dataFram_Technical_performance5)\n",
        "neg=dataFram_Technical_performance5['label'].value_counts()['Negative']\n",
        "pos=dataFram_Technical_performance5['label'].value_counts()['Positive']\n",
        "neu=dataFram_Technical_performance5['label'].value_counts()['Neutral']\n",
        "pos10=pos/length_array10*100\n",
        "neg10=neg/length_array10*100\n",
        "neu10=neu/length_array10*100\n",
        "print(\"positive precent :\" , pos10)\n",
        "print(\"negative precent :\" , neg10)\n",
        "print(\"Neutral precent :\" , neu10)\n",
        "print(\"total comment :\",length_array10)"
      ]
    },
    {
      "cell_type": "markdown",
      "metadata": {
        "id": "gO_qk46GcqA-"
      },
      "source": [
        "غیره"
      ]
    },
    {
      "cell_type": "code",
      "execution_count": null,
      "metadata": {
        "id": "Ycn9ifpqcrVj"
      },
      "outputs": [],
      "source": [
        "Technical_performance6=[]\n",
        "matches=[\"قدرت\",\"نیوتون \",\"شتاب \",\"مصرف ترکیبی\",\"روغن \",\"ابرادیاتور \",\"اب رادیاتور\",\"فیلتر \",\"اتیلن \",\"کاتالیزور \",\"گاز \",\"مقطر \",\"روغن هیدرولیک \"]\n",
        "for sentence in text:\n",
        "   if any(x in sentence for x in matches):\n",
        "      Technical_performance6.append(sentence)"
      ]
    },
    {
      "cell_type": "code",
      "execution_count": null,
      "metadata": {
        "id": "Lq7Rka8acraV"
      },
      "outputs": [],
      "source": [
        "import pandas as pd\n",
        "dataFram_Technical_performance6=pd.DataFrame()\n",
        "batch_size=20\n",
        "for i in range(0, len(Technical_performance6), batch_size):\n",
        "  ww=sa_model.sentiment_analysis_inference(Technical_performance6[i:i+batch_size],device)\n",
        "  dataFram_Technical_performance6=dataFram_Technical_performance6.append(ww,ignore_index=True)\n",
        "  \n",
        "dataFram_Technical_performance6.columns=['text','label']"
      ]
    },
    {
      "cell_type": "code",
      "execution_count": null,
      "metadata": {
        "colab": {
          "base_uri": "https://localhost:8080/"
        },
        "id": "0kH0Sfs_cre4",
        "outputId": "84492dd1-3d93-44b8-f671-d5d175fc1d3f"
      },
      "outputs": [
        {
          "name": "stdout",
          "output_type": "stream",
          "text": [
            "positive precent : 18.87849387849388\n",
            "negative precent : 41.943866943866944\n",
            "Neutral precent : 39.17763917763918\n",
            "total comment : 17316\n"
          ]
        }
      ],
      "source": [
        "length_array11=len(dataFram_Technical_performance6)\n",
        "neg=dataFram_Technical_performance6['label'].value_counts()['Negative']\n",
        "pos=dataFram_Technical_performance6['label'].value_counts()['Positive']\n",
        "neu=dataFram_Technical_performance6['label'].value_counts()['Neutral']\n",
        "pos11=pos/length_array11*100\n",
        "neg11=neg/length_array11*100\n",
        "neu11=neu/length_array11*100\n",
        "print(\"positive precent :\" , pos11)\n",
        "print(\"negative precent :\" , neg11)\n",
        "print(\"Neutral precent :\" , neu11)\n",
        "print(\"total comment :\",length_array11)"
      ]
    },
    {
      "cell_type": "markdown",
      "metadata": {
        "id": "hYIJN44TdUW2"
      },
      "source": [
        "کلی"
      ]
    },
    {
      "cell_type": "code",
      "execution_count": null,
      "metadata": {
        "colab": {
          "base_uri": "https://localhost:8080/"
        },
        "id": "_QoaCqcMi_b8",
        "outputId": "93203bdd-0779-474a-cefc-a2a677e6ef28"
      },
      "outputs": [
        {
          "name": "stdout",
          "output_type": "stream",
          "text": [
            "positive precent : 12.69444842754046\n",
            "negative precent : 31.71017244680923\n",
            "Neutral precent : 55.59537912565031\n",
            "total comment : 24650\n"
          ]
        }
      ],
      "source": [
        "import statistics\n",
        "pos_6_11 = statistics.mean([pos6,pos7,pos8,pos9,pos10,pos11])\n",
        "neg_6_11=statistics.mean([neg6,neg7,neg8,neg9,neg10,neg11])\n",
        "neu_6_11=statistics.mean([neu6,neu7,neu8,neu9,neu10,neu11])\n",
        "sum_6_11=sum([length_array6,length_array7,length_array8,length_array9,length_array10,length_array11])\n",
        "print(\"positive precent :\" , pos_6_11)\n",
        "print(\"negative precent :\" , neg_6_11)\n",
        "print(\"Neutral precent :\" , neu_6_11)\n",
        "print(\"total comment :\",sum_6_11)"
      ]
    },
    {
      "cell_type": "markdown",
      "metadata": {
        "id": "O4nFiu8idtZO"
      },
      "source": [
        "**ابعاد و اندازه**"
      ]
    },
    {
      "cell_type": "markdown",
      "metadata": {
        "id": "pcs-KWIbd3uD"
      },
      "source": [
        "بدنه"
      ]
    },
    {
      "cell_type": "code",
      "execution_count": null,
      "metadata": {
        "id": "WzQHz3iFd4zm"
      },
      "outputs": [],
      "source": [
        "Dimensions_size1=[]\n",
        "matches=[\"بدنه\"]\n",
        "for sentence in text:\n",
        "   if any(x in sentence for x in matches):\n",
        "      Dimensions_size1.append(sentence)"
      ]
    },
    {
      "cell_type": "code",
      "execution_count": null,
      "metadata": {
        "id": "dz1XbOn3d44n"
      },
      "outputs": [],
      "source": [
        "import pandas as pd\n",
        "dataFram_Dimensions_size1=pd.DataFrame()\n",
        "batch_size=20\n",
        "for i in range(0, len(Dimensions_size1), batch_size):\n",
        "  ww=sa_model.sentiment_analysis_inference(Dimensions_size1[i:i+batch_size],device)\n",
        "  dataFram_Dimensions_size1=dataFram_Dimensions_size1.append(ww,ignore_index=True)\n",
        "  \n",
        "dataFram_Dimensions_size1.columns=['text','label']"
      ]
    },
    {
      "cell_type": "code",
      "execution_count": null,
      "metadata": {
        "colab": {
          "base_uri": "https://localhost:8080/"
        },
        "id": "CQCEPrVVd49B",
        "outputId": "bbf30b03-d576-4533-febe-feda9fee0023"
      },
      "outputs": [
        {
          "name": "stdout",
          "output_type": "stream",
          "text": [
            "positive precent : 11.538461538461538\n",
            "negative precent : 34.141201264488934\n",
            "Neutral precent : 54.320337197049525\n",
            "total comment : 1898\n"
          ]
        }
      ],
      "source": [
        "length_array12=len(dataFram_Dimensions_size1)\n",
        "neg=dataFram_Dimensions_size1['label'].value_counts()['Negative']\n",
        "pos=dataFram_Dimensions_size1['label'].value_counts()['Positive']\n",
        "neu=dataFram_Dimensions_size1['label'].value_counts()['Neutral']\n",
        "pos12=pos/length_array12*100\n",
        "neg12=neg/length_array12*100\n",
        "neu12=neu/length_array12*100\n",
        "print(\"positive precent :\" , pos12)\n",
        "print(\"negative precent :\" , neg12)\n",
        "print(\"Neutral precent :\" , neu12)\n",
        "print(\"total comment :\",length_array12)"
      ]
    },
    {
      "cell_type": "markdown",
      "metadata": {
        "id": "NPyCK3faeVFH"
      },
      "source": [
        "شاسی"
      ]
    },
    {
      "cell_type": "code",
      "execution_count": null,
      "metadata": {
        "id": "kbgWmNf7eV7h"
      },
      "outputs": [],
      "source": [
        "Dimensions_size2=[]\n",
        "matches=[\"شاسی\"]\n",
        "for sentence in text:\n",
        "   if any(x in sentence for x in matches):\n",
        "      Dimensions_size2.append(sentence)"
      ]
    },
    {
      "cell_type": "code",
      "execution_count": null,
      "metadata": {
        "id": "aGJ1ta_MeWA3"
      },
      "outputs": [],
      "source": [
        "import pandas as pd\n",
        "dataFram_Dimensions_size2=pd.DataFrame()\n",
        "batch_size=20\n",
        "for i in range(0, len(Dimensions_size2), batch_size):\n",
        "  ww=sa_model.sentiment_analysis_inference(Dimensions_size2[i:i+batch_size],device)\n",
        "  dataFram_Dimensions_size2=dataFram_Dimensions_size2.append(ww,ignore_index=True)\n",
        "  \n",
        "dataFram_Dimensions_size2.columns=['text','label']"
      ]
    },
    {
      "cell_type": "code",
      "execution_count": null,
      "metadata": {
        "colab": {
          "base_uri": "https://localhost:8080/"
        },
        "id": "n0EonysdeWFf",
        "outputId": "ec176d3b-3fee-48a0-e984-6bc3ad8341f0"
      },
      "outputs": [
        {
          "name": "stdout",
          "output_type": "stream",
          "text": [
            "positive precent : 10.54481546572935\n",
            "negative precent : 26.18629173989455\n",
            "Neutral precent : 63.2688927943761\n",
            "total comment : 569\n"
          ]
        }
      ],
      "source": [
        "length_array13=len(dataFram_Dimensions_size2)\n",
        "neg=dataFram_Dimensions_size2['label'].value_counts()['Negative']\n",
        "pos=dataFram_Dimensions_size2['label'].value_counts()['Positive']\n",
        "neu=dataFram_Dimensions_size2['label'].value_counts()['Neutral']\n",
        "pos13=pos/length_array13*100\n",
        "neg13=neg/length_array13*100\n",
        "neu13=neu/length_array13*100\n",
        "print(\"positive precent :\" , pos13)\n",
        "print(\"negative precent :\" , neg13)\n",
        "print(\"Neutral precent :\" , neu13)\n",
        "print(\"total comment :\",length_array13)"
      ]
    },
    {
      "cell_type": "markdown",
      "metadata": {
        "id": "h6CW2W3Eek4D"
      },
      "source": [
        "اتاق"
      ]
    },
    {
      "cell_type": "code",
      "execution_count": null,
      "metadata": {
        "id": "1X4CNjXgd5EL"
      },
      "outputs": [],
      "source": [
        "Dimensions_size3=[]\n",
        "matches=[\"اتاق\"]\n",
        "for sentence in text:\n",
        "   if any(x in sentence for x in matches):\n",
        "      Dimensions_size3.append(sentence)"
      ]
    },
    {
      "cell_type": "code",
      "execution_count": null,
      "metadata": {
        "id": "xUH4WLFLdanV"
      },
      "outputs": [],
      "source": [
        "import pandas as pd\n",
        "dataFram_Dimensions_size3=pd.DataFrame()\n",
        "batch_size=20\n",
        "for i in range(0, len(Dimensions_size3), batch_size):\n",
        "  ww=sa_model.sentiment_analysis_inference(Dimensions_size3[i:i+batch_size],device)\n",
        "  dataFram_Dimensions_size3=dataFram_Dimensions_size3.append(ww,ignore_index=True)\n",
        "  \n",
        "dataFram_Dimensions_size3.columns=['text','label']"
      ]
    },
    {
      "cell_type": "code",
      "execution_count": null,
      "metadata": {
        "colab": {
          "base_uri": "https://localhost:8080/"
        },
        "id": "t10sbGd5bWTj",
        "outputId": "2bc4bc4a-1a65-4e42-90dd-520e73c0c7a5"
      },
      "outputs": [
        {
          "name": "stdout",
          "output_type": "stream",
          "text": [
            "positive precent : 11.489040060468632\n",
            "negative precent : 32.50188964474679\n",
            "Neutral precent : 56.00907029478458\n",
            "total comment : 1323\n"
          ]
        }
      ],
      "source": [
        "length_array14=len(dataFram_Dimensions_size3)\n",
        "neg=dataFram_Dimensions_size3['label'].value_counts()['Negative']\n",
        "pos=dataFram_Dimensions_size3['label'].value_counts()['Positive']\n",
        "neu=dataFram_Dimensions_size3['label'].value_counts()['Neutral']\n",
        "pos14=pos/length_array14*100\n",
        "neg14=neg/length_array14*100\n",
        "neu14=neu/length_array14*100\n",
        "print(\"positive precent :\" , pos14)\n",
        "print(\"negative precent :\" , neg14)\n",
        "print(\"Neutral precent :\" , neu14)\n",
        "print(\"total comment :\",length_array14)"
      ]
    },
    {
      "cell_type": "markdown",
      "metadata": {
        "id": "7nm8Azjseyi-"
      },
      "source": [
        "محور"
      ]
    },
    {
      "cell_type": "code",
      "execution_count": null,
      "metadata": {
        "id": "5btqJYoOe0OR"
      },
      "outputs": [],
      "source": [
        "Dimensions_size4=[]\n",
        "matches=[\"محور\"]\n",
        "for sentence in text:\n",
        "   if any(x in sentence for x in matches):\n",
        "      Dimensions_size4.append(sentence)"
      ]
    },
    {
      "cell_type": "code",
      "execution_count": null,
      "metadata": {
        "id": "wgKFR_3re0Tg"
      },
      "outputs": [],
      "source": [
        "import pandas as pd\n",
        "dataFram_Dimensions_size4=pd.DataFrame()\n",
        "batch_size=20\n",
        "for i in range(0, len(Dimensions_size4), batch_size):\n",
        "  ww=sa_model.sentiment_analysis_inference(Dimensions_size4[i:i+batch_size],device)\n",
        "  dataFram_Dimensions_size4=dataFram_Dimensions_size4.append(ww,ignore_index=True)\n",
        "  \n",
        "dataFram_Dimensions_size4.columns=['text','label']"
      ]
    },
    {
      "cell_type": "code",
      "execution_count": null,
      "metadata": {
        "colab": {
          "base_uri": "https://localhost:8080/"
        },
        "id": "8h_qovybe0XA",
        "outputId": "ab19481a-4321-4225-ce82-eb723801d324"
      },
      "outputs": [
        {
          "name": "stdout",
          "output_type": "stream",
          "text": [
            "positive precent : 11.200000000000001\n",
            "negative precent : 24.8\n",
            "Neutral precent : 64.0\n",
            "total comment : 125\n"
          ]
        }
      ],
      "source": [
        "length_array15=len(dataFram_Dimensions_size4)\n",
        "neg=len(dataFram_Dimensions_size4[dataFram_Dimensions_size4['label']=='Negative'])\n",
        "pos=len(dataFram_Dimensions_size4[dataFram_Dimensions_size4['label']=='Positive'])\n",
        "neu=len(dataFram_Dimensions_size4[dataFram_Dimensions_size4['label']=='Neutral'])\n",
        "pos15=pos/length_array15*100\n",
        "neg15=neg/length_array15*100\n",
        "neu15=neu/length_array15*100\n",
        "print(\"positive precent :\" , pos15)\n",
        "print(\"negative precent :\" , neg15)\n",
        "print(\"Neutral precent :\" , neu15)\n",
        "print(\"total comment :\",length_array15)"
      ]
    },
    {
      "cell_type": "markdown",
      "metadata": {
        "id": "D4idbu8ifJ_k"
      },
      "source": [
        "باک"
      ]
    },
    {
      "cell_type": "code",
      "execution_count": null,
      "metadata": {
        "id": "RXeLESDabWVs"
      },
      "outputs": [],
      "source": [
        "Dimensions_size5=[]\n",
        "matches=[\"باک\"]\n",
        "for sentence in text:\n",
        "   if any(x in sentence for x in matches):\n",
        "      Dimensions_size5.append(sentence)"
      ]
    },
    {
      "cell_type": "code",
      "execution_count": null,
      "metadata": {
        "id": "QZujTBYKbWYC"
      },
      "outputs": [],
      "source": [
        "import pandas as pd\n",
        "dataFram_Dimensions_size5=pd.DataFrame()\n",
        "batch_size=20\n",
        "for i in range(0, len(Dimensions_size5), batch_size):\n",
        "  ww=sa_model.sentiment_analysis_inference(Dimensions_size5[i:i+batch_size],device)\n",
        "  dataFram_Dimensions_size5=dataFram_Dimensions_size5.append(ww,ignore_index=True)\n",
        "  \n",
        "dataFram_Dimensions_size5.columns=['text','label']"
      ]
    },
    {
      "cell_type": "code",
      "execution_count": null,
      "metadata": {
        "colab": {
          "base_uri": "https://localhost:8080/"
        },
        "id": "cDjNkQq-bWbV",
        "outputId": "db0eba11-fd0a-4f77-abc7-6a6720763281"
      },
      "outputs": [
        {
          "name": "stdout",
          "output_type": "stream",
          "text": [
            "positive precent : 13.578680203045684\n",
            "negative precent : 45.0507614213198\n",
            "Neutral precent : 41.370558375634516\n",
            "total comment : 1576\n"
          ]
        }
      ],
      "source": [
        "length_array16=len(dataFram_Dimensions_size5)\n",
        "neg=dataFram_Dimensions_size5['label'].value_counts()['Negative']\n",
        "pos=dataFram_Dimensions_size5['label'].value_counts()['Positive']\n",
        "neu=dataFram_Dimensions_size5['label'].value_counts()['Neutral']\n",
        "pos16=pos/length_array16*100\n",
        "neg16=neg/length_array16*100\n",
        "neu16=neu/length_array16*100\n",
        "print(\"positive precent :\" , pos16)\n",
        "print(\"negative precent :\" , neg16)\n",
        "print(\"Neutral precent :\" , neu16)\n",
        "print(\"total comment :\",length_array16)"
      ]
    },
    {
      "cell_type": "markdown",
      "metadata": {
        "id": "6KWUK7nefbC1"
      },
      "source": [
        "لاستیک"
      ]
    },
    {
      "cell_type": "code",
      "execution_count": null,
      "metadata": {
        "id": "OJXAldvufOpf"
      },
      "outputs": [],
      "source": [
        "Dimensions_size6=[]\n",
        "matches=[\"لاستیک\"]\n",
        "for sentence in text:\n",
        "   if any(x in sentence for x in matches):\n",
        "      Dimensions_size6.append(sentence)"
      ]
    },
    {
      "cell_type": "code",
      "execution_count": null,
      "metadata": {
        "id": "5A9vb837fOrU"
      },
      "outputs": [],
      "source": [
        "import pandas as pd\n",
        "dataFram_Dimensions_size6=pd.DataFrame()\n",
        "batch_size=20\n",
        "for i in range(0, len(Dimensions_size6), batch_size):\n",
        "  ww=sa_model.sentiment_analysis_inference(Dimensions_size6[i:i+batch_size],device)\n",
        "  dataFram_Dimensions_size6=dataFram_Dimensions_size6.append(ww,ignore_index=True)\n",
        "  \n",
        "dataFram_Dimensions_size6.columns=['text','label']"
      ]
    },
    {
      "cell_type": "code",
      "execution_count": null,
      "metadata": {
        "colab": {
          "base_uri": "https://localhost:8080/"
        },
        "id": "WHLUzuCXfOus",
        "outputId": "a59d338a-30fd-401c-edf5-4879a2752899"
      },
      "outputs": [
        {
          "name": "stdout",
          "output_type": "stream",
          "text": [
            "positive precent : 14.242053789731052\n",
            "negative precent : 37.08740831295844\n",
            "Neutral precent : 48.67053789731051\n",
            "total comment : 6544\n"
          ]
        }
      ],
      "source": [
        "length_array17=len(dataFram_Dimensions_size6)\n",
        "neg=dataFram_Dimensions_size6['label'].value_counts()['Negative']\n",
        "pos=dataFram_Dimensions_size6['label'].value_counts()['Positive']\n",
        "neu=dataFram_Dimensions_size6['label'].value_counts()['Neutral']\n",
        "pos17=pos/length_array17*100\n",
        "neg17=neg/length_array17*100\n",
        "neu17=neu/length_array17*100\n",
        "print(\"positive precent :\" , pos17)\n",
        "print(\"negative precent :\" , neg17)\n",
        "print(\"Neutral precent :\" , neu17)\n",
        "print(\"total comment :\",length_array17)"
      ]
    },
    {
      "cell_type": "markdown",
      "metadata": {
        "id": "3Oarf_YLfoyc"
      },
      "source": [
        "ارتفاع"
      ]
    },
    {
      "cell_type": "code",
      "execution_count": null,
      "metadata": {
        "id": "NhBtvf-2frCn"
      },
      "outputs": [],
      "source": [
        "Dimensions_size7=[]\n",
        "matches=[\"ارتفاع\",\"عرض\",\"طول\"]\n",
        "for sentence in text:\n",
        "   if any(x in sentence for x in matches):\n",
        "      Dimensions_size7.append(sentence)"
      ]
    },
    {
      "cell_type": "code",
      "execution_count": null,
      "metadata": {
        "id": "-y7B5l3qfrEr"
      },
      "outputs": [],
      "source": [
        "import pandas as pd\n",
        "dataFram_Dimensions_size7=pd.DataFrame()\n",
        "batch_size=20\n",
        "for i in range(0, len(Dimensions_size7), batch_size):\n",
        "  ww=sa_model.sentiment_analysis_inference(Dimensions_size7[i:i+batch_size],device)\n",
        "  dataFram_Dimensions_size7=dataFram_Dimensions_size7.append(ww,ignore_index=True)\n",
        "  \n",
        "dataFram_Dimensions_size7.columns=['text','label']"
      ]
    },
    {
      "cell_type": "code",
      "execution_count": null,
      "metadata": {
        "colab": {
          "base_uri": "https://localhost:8080/"
        },
        "id": "EfNkj0ewfrIK",
        "outputId": "e2f11db3-ad12-4043-9d48-e57ab8b8731c"
      },
      "outputs": [
        {
          "name": "stdout",
          "output_type": "stream",
          "text": [
            "positive precent : 17.417061611374407\n",
            "negative precent : 29.85781990521327\n",
            "Neutral precent : 52.725118483412324\n",
            "total comment : 2532\n"
          ]
        }
      ],
      "source": [
        "length_array18=len(dataFram_Dimensions_size7)\n",
        "neg=dataFram_Dimensions_size7['label'].value_counts()['Negative']\n",
        "pos=dataFram_Dimensions_size7['label'].value_counts()['Positive']\n",
        "neu=dataFram_Dimensions_size7['label'].value_counts()['Neutral']\n",
        "pos18=pos/length_array18*100\n",
        "neg18=neg/length_array18*100\n",
        "neu18=neu/length_array18*100\n",
        "print(\"positive precent :\" , pos18)\n",
        "print(\"negative precent :\" , neg18)\n",
        "print(\"Neutral precent :\" , neu18)\n",
        "print(\"total comment :\",length_array18)"
      ]
    },
    {
      "cell_type": "markdown",
      "metadata": {
        "id": "_rK-6W97f5FT"
      },
      "source": [
        "وزن"
      ]
    },
    {
      "cell_type": "code",
      "execution_count": null,
      "metadata": {
        "id": "1-8x4pMff6OO"
      },
      "outputs": [],
      "source": [
        "Dimensions_size8=[]\n",
        "matches=[\"وزن\",\"سنگین\",\"سبک\"]\n",
        "for sentence in text:\n",
        "   if any(x in sentence for x in matches):\n",
        "      Dimensions_size8.append(sentence)"
      ]
    },
    {
      "cell_type": "code",
      "execution_count": null,
      "metadata": {
        "id": "s8g0p7R7f6QV"
      },
      "outputs": [],
      "source": [
        "import pandas as pd\n",
        "dataFram_Dimensions_size8=pd.DataFrame()\n",
        "batch_size=20\n",
        "for i in range(0, len(Dimensions_size8), batch_size):\n",
        "  ww=sa_model.sentiment_analysis_inference(Dimensions_size8[i:i+batch_size],device)\n",
        "  dataFram_Dimensions_size8=dataFram_Dimensions_size8.append(ww,ignore_index=True)\n",
        "  \n",
        "dataFram_Dimensions_size8.columns=['text','label']"
      ]
    },
    {
      "cell_type": "code",
      "execution_count": null,
      "metadata": {
        "colab": {
          "base_uri": "https://localhost:8080/"
        },
        "id": "s4FvTGBuf6Tx",
        "outputId": "ecde78b2-ec14-4cd3-e338-2b4bf1812eec"
      },
      "outputs": [
        {
          "name": "stdout",
          "output_type": "stream",
          "text": [
            "positive precent : 17.25581395348837\n",
            "negative precent : 32.79069767441861\n",
            "Neutral precent : 49.95348837209303\n",
            "total comment : 2150\n"
          ]
        }
      ],
      "source": [
        "length_array19=len(dataFram_Dimensions_size8)\n",
        "neg=dataFram_Dimensions_size8['label'].value_counts()['Negative']\n",
        "pos=dataFram_Dimensions_size8['label'].value_counts()['Positive']\n",
        "neu=dataFram_Dimensions_size8['label'].value_counts()['Neutral']\n",
        "pos19=pos/length_array19*100\n",
        "neg19=neg/length_array19*100\n",
        "neu19=neu/length_array19*100\n",
        "print(\"positive precent :\" , pos19)\n",
        "print(\"negative precent :\" , neg19)\n",
        "print(\"Neutral precent :\" , neu19)\n",
        "print(\"total comment :\",length_array19)"
      ]
    },
    {
      "cell_type": "markdown",
      "metadata": {
        "id": "KXM65TBZgOTk"
      },
      "source": [
        "غیره"
      ]
    },
    {
      "cell_type": "code",
      "execution_count": null,
      "metadata": {
        "id": "4iTX71BOff4B"
      },
      "outputs": [],
      "source": [
        "Dimensions_size9=[]\n",
        "matches=[\"سدان\",\"یکپارچه\",\"مستقل \",\"فاصله \",\"حجم\",\"عقب \",\"جلو\",\"استپ\"]\n",
        "for sentence in text:\n",
        "   if any(x in sentence for x in matches):\n",
        "      Dimensions_size9.append(sentence)"
      ]
    },
    {
      "cell_type": "code",
      "execution_count": null,
      "metadata": {
        "id": "pZeqVpDWff6M"
      },
      "outputs": [],
      "source": [
        "import pandas as pd\n",
        "dataFram_Dimensions_size9=pd.DataFrame()\n",
        "batch_size=20\n",
        "for i in range(0, len(Dimensions_size9), batch_size):\n",
        "  ww=sa_model.sentiment_analysis_inference(Dimensions_size9[i:i+batch_size],device)\n",
        "  dataFram_Dimensions_size9=dataFram_Dimensions_size9.append(ww,ignore_index=True)\n",
        "  \n",
        "dataFram_Dimensions_size9.columns=['text','label']"
      ]
    },
    {
      "cell_type": "code",
      "execution_count": null,
      "metadata": {
        "colab": {
          "base_uri": "https://localhost:8080/"
        },
        "id": "Oc2dmh7dff9l",
        "outputId": "8fe5ed66-fbc4-458c-abb1-074c69e72b49"
      },
      "outputs": [
        {
          "name": "stdout",
          "output_type": "stream",
          "text": [
            "positive precent : 11.282338656953394\n",
            "negative precent : 30.942374147753803\n",
            "Neutral precent : 57.775287195292805\n",
            "total comment : 10707\n"
          ]
        }
      ],
      "source": [
        "length_array20=len(dataFram_Dimensions_size9)\n",
        "neg=dataFram_Dimensions_size9['label'].value_counts()['Negative']\n",
        "pos=dataFram_Dimensions_size9['label'].value_counts()['Positive']\n",
        "neu=dataFram_Dimensions_size9['label'].value_counts()['Neutral']\n",
        "pos20=pos/length_array20*100\n",
        "neg20=neg/length_array20*100\n",
        "neu20=neu/length_array20*100\n",
        "print(\"positive precent :\" , pos20)\n",
        "print(\"negative precent :\" , neg20)\n",
        "print(\"Neutral precent :\" , neu20)\n",
        "print(\"total comment :\",length_array20)"
      ]
    },
    {
      "cell_type": "markdown",
      "metadata": {
        "id": "4lgroMS9g4uR"
      },
      "source": [
        "کلی"
      ]
    },
    {
      "cell_type": "code",
      "execution_count": null,
      "metadata": {
        "colab": {
          "base_uri": "https://localhost:8080/"
        },
        "id": "zLjZAYbJnloS",
        "outputId": "0ddd3d1f-6133-4339-c3ec-62406246bfb2"
      },
      "outputs": [
        {
          "name": "stdout",
          "output_type": "stream",
          "text": [
            "positive precent : 13.172029475472492\n",
            "negative precent : 32.59538267897713\n",
            "Neutral precent : 54.23258784555038\n",
            "total comment : 27424\n"
          ]
        }
      ],
      "source": [
        "import statistics\n",
        "pos_12_20 = statistics.mean([pos12,pos13,pos14,pos15,pos16,pos17,pos18,pos19,pos20])\n",
        "neg_12_20=statistics.mean([neg12,neg13,neg14,neg15,neg16,neg17,neg18,neg19,neg20])\n",
        "neu_12_20=statistics.mean([neu12,neu13,neu14,neu15,neu16,neu17,neu18,neu19,neu20])\n",
        "sum_12_20=sum([length_array12,length_array13,length_array14,length_array15,length_array16,length_array17,length_array18,length_array19,length_array20])\n",
        "print(\"positive precent :\" , pos_12_20)\n",
        "print(\"negative precent :\" , neg_12_20)\n",
        "print(\"Neutral precent :\" , neu_12_20)\n",
        "print(\"total comment :\",sum_12_20)"
      ]
    },
    {
      "cell_type": "markdown",
      "metadata": {
        "id": "CUlaFMw6hSTo"
      },
      "source": [
        "**سیستم دستیار راننده**"
      ]
    },
    {
      "cell_type": "markdown",
      "metadata": {
        "id": "wM2YG6QqhoVw"
      },
      "source": [
        "ایستایی"
      ]
    },
    {
      "cell_type": "code",
      "execution_count": null,
      "metadata": {
        "id": "gLfWqiT7hpoU"
      },
      "outputs": [],
      "source": [
        "Driver_assistant_system1=[]\n",
        "matches=[\"ایستایی\",\"سربالایی\",\"سرازیری\",\"کشش\",\"پایداری\"]\n",
        "for sentence in text:\n",
        "   if any(x in sentence for x in matches):\n",
        "      Driver_assistant_system1.append(sentence)"
      ]
    },
    {
      "cell_type": "code",
      "execution_count": null,
      "metadata": {
        "id": "iB9BHUuhhpqH"
      },
      "outputs": [],
      "source": [
        "import pandas as pd\n",
        "dataFram_Driver_assistant_system1=pd.DataFrame()\n",
        "batch_size=20\n",
        "for i in range(0, len(Driver_assistant_system1), batch_size):\n",
        "  ww=sa_model.sentiment_analysis_inference(Driver_assistant_system1[i:i+batch_size],device)\n",
        "  dataFram_Driver_assistant_system1=dataFram_Driver_assistant_system1.append(ww,ignore_index=True)\n",
        "  \n",
        "dataFram_Driver_assistant_system1.columns=['text','label']"
      ]
    },
    {
      "cell_type": "code",
      "execution_count": null,
      "metadata": {
        "colab": {
          "base_uri": "https://localhost:8080/"
        },
        "id": "jiM5yt2Vhptm",
        "outputId": "aa5e6707-a0fa-4495-ada3-76548780bca6"
      },
      "outputs": [
        {
          "name": "stdout",
          "output_type": "stream",
          "text": [
            "positive precent : 16.37694419030192\n",
            "negative precent : 25.52607502287283\n",
            "Neutral precent : 58.09698078682525\n",
            "total comment : 1093\n"
          ]
        }
      ],
      "source": [
        "length_array21=len(dataFram_Driver_assistant_system1)\n",
        "neg=dataFram_Driver_assistant_system1['label'].value_counts()['Negative']\n",
        "pos=dataFram_Driver_assistant_system1['label'].value_counts()['Positive']\n",
        "neu=dataFram_Driver_assistant_system1['label'].value_counts()['Neutral']\n",
        "pos21=pos/length_array21*100\n",
        "neg21=neg/length_array21*100\n",
        "neu21=neu/length_array21*100\n",
        "print(\"positive precent :\" , pos21)\n",
        "print(\"negative precent :\" , neg21)\n",
        "print(\"Neutral precent :\" , neu21)\n",
        "print(\"total comment :\",length_array21)"
      ]
    },
    {
      "cell_type": "markdown",
      "metadata": {
        "id": "a5aaG83iiXB8"
      },
      "source": [
        "غیره"
      ]
    },
    {
      "cell_type": "code",
      "execution_count": null,
      "metadata": {
        "id": "jNcGPrzbhYHo"
      },
      "outputs": [],
      "source": [
        "Driver_assistant_system2=[]\n",
        "matches=[\"کنترل \",\"تطبیقی\",\"سرعت\",\"واژگونی\"]\n",
        "for sentence in text:\n",
        "   if any(x in sentence for x in matches):\n",
        "      Driver_assistant_system2.append(sentence)"
      ]
    },
    {
      "cell_type": "code",
      "execution_count": null,
      "metadata": {
        "id": "tXf0kUIchYKF"
      },
      "outputs": [],
      "source": [
        "import pandas as pd\n",
        "dataFram_Driver_assistant_system2=pd.DataFrame()\n",
        "batch_size=20\n",
        "for i in range(0, len(Driver_assistant_system2), batch_size):\n",
        "  ww=sa_model.sentiment_analysis_inference(Driver_assistant_system2[i:i+batch_size],device)\n",
        "  dataFram_Driver_assistant_system2=dataFram_Driver_assistant_system2.append(ww,ignore_index=True)\n",
        "  \n",
        "dataFram_Driver_assistant_system2.columns=['text','label']"
      ]
    },
    {
      "cell_type": "code",
      "execution_count": null,
      "metadata": {
        "colab": {
          "base_uri": "https://localhost:8080/"
        },
        "id": "PuaqAsmRhYNY",
        "outputId": "ae33fd09-5e14-441d-9aee-7dc5728fe045"
      },
      "outputs": [
        {
          "name": "stdout",
          "output_type": "stream",
          "text": [
            "positive precent : 14.072372199885125\n",
            "negative precent : 25.962090752441124\n",
            "Neutral precent : 59.965537047673756\n",
            "total comment : 3482\n"
          ]
        }
      ],
      "source": [
        "length_array22=len(dataFram_Driver_assistant_system2)\n",
        "neg=dataFram_Driver_assistant_system2['label'].value_counts()['Negative']\n",
        "pos=dataFram_Driver_assistant_system2['label'].value_counts()['Positive']\n",
        "neu=dataFram_Driver_assistant_system2['label'].value_counts()['Neutral']\n",
        "pos22=pos/length_array22*100\n",
        "neg22=neg/length_array22*100\n",
        "neu22=neu/length_array22*100\n",
        "print(\"positive precent :\" , pos22)\n",
        "print(\"negative precent :\" , neg22)\n",
        "print(\"Neutral precent :\" , neu22)\n",
        "print(\"total comment :\",length_array22)"
      ]
    },
    {
      "cell_type": "markdown",
      "metadata": {
        "id": "krua390AjEic"
      },
      "source": [
        "کلی"
      ]
    },
    {
      "cell_type": "code",
      "execution_count": null,
      "metadata": {
        "colab": {
          "base_uri": "https://localhost:8080/"
        },
        "id": "j_6N4y1NtSQ0",
        "outputId": "0287f091-9794-4bfc-c1a4-575074cabec4"
      },
      "outputs": [
        {
          "name": "stdout",
          "output_type": "stream",
          "text": [
            "positive precent : 13.172029475472492\n",
            "negative precent : 32.59538267897713\n",
            "Neutral precent : 54.23258784555038\n",
            "total comment : 27424\n"
          ]
        }
      ],
      "source": [
        "import statistics\n",
        "pos_21_22 = statistics.mean([pos21,pos22])\n",
        "neg_21_22=statistics.mean([neg21,neg22])\n",
        "neu_21_22=statistics.mean([neu21,neu22])\n",
        "sum_21_22=sum([length_array21,length_array22])\n",
        "print(\"positive precent :\" , pos_12_20)\n",
        "print(\"negative precent :\" , neg_12_20)\n",
        "print(\"Neutral precent :\" , neu_12_20)\n",
        "print(\"total comment :\",sum_12_20)"
      ]
    },
    {
      "cell_type": "markdown",
      "metadata": {
        "id": "4IvSe1mcjYgu"
      },
      "source": [
        "**سیستم های ترمز**"
      ]
    },
    {
      "cell_type": "markdown",
      "metadata": {
        "id": "byWwkHTijcsK"
      },
      "source": [
        "ضد قفل"
      ]
    },
    {
      "cell_type": "code",
      "execution_count": null,
      "metadata": {
        "id": "fizjp-0ejMMp"
      },
      "outputs": [],
      "source": [
        "Braking_systems1=[]\n",
        "matches=[\"ضد قفل\",\"ای بی اس\"]\n",
        "for sentence in text:\n",
        "   if any(x in sentence for x in matches):\n",
        "      Braking_systems1.append(sentence)"
      ]
    },
    {
      "cell_type": "code",
      "execution_count": null,
      "metadata": {
        "id": "QXsXIiEvirhK"
      },
      "outputs": [],
      "source": [
        "import pandas as pd\n",
        "dataFram_Braking_systems1=pd.DataFrame()\n",
        "batch_size=20\n",
        "for i in range(0, len(Braking_systems1), batch_size):\n",
        "  ww=sa_model.sentiment_analysis_inference(Braking_systems1[i:i+batch_size],device)\n",
        "  dataFram_Braking_systems1=dataFram_Braking_systems1.append(ww,ignore_index=True)\n",
        "  \n",
        "dataFram_Braking_systems1.columns=['text','label']"
      ]
    },
    {
      "cell_type": "code",
      "execution_count": null,
      "metadata": {
        "colab": {
          "base_uri": "https://localhost:8080/"
        },
        "id": "5uKObKwxirjV",
        "outputId": "b0ae48c3-d1e2-4c0d-9f8a-4d9b737d1a1e"
      },
      "outputs": [
        {
          "name": "stdout",
          "output_type": "stream",
          "text": [
            "positive precent : 16.11111111111111\n",
            "negative precent : 34.44444444444444\n",
            "Neutral precent : 49.44444444444444\n",
            "total comment : 180\n"
          ]
        }
      ],
      "source": [
        "length_array23=len(dataFram_Braking_systems1)\n",
        "neg=dataFram_Braking_systems1['label'].value_counts()['Negative']\n",
        "pos=dataFram_Braking_systems1['label'].value_counts()['Positive']\n",
        "neu=dataFram_Braking_systems1['label'].value_counts()['Neutral']\n",
        "pos23=pos/length_array23*100\n",
        "neg23=neg/length_array23*100\n",
        "neu23=neu/length_array23*100\n",
        "print(\"positive precent :\" , pos23)\n",
        "print(\"negative precent :\" , neg23)\n",
        "print(\"Neutral precent :\" , neu23)\n",
        "print(\"total comment :\",length_array23)"
      ]
    },
    {
      "cell_type": "markdown",
      "metadata": {
        "id": "K-6soC9bj8wb"
      },
      "source": [
        "چرخ"
      ]
    },
    {
      "cell_type": "code",
      "execution_count": null,
      "metadata": {
        "id": "JUO1OlOnirmu"
      },
      "outputs": [],
      "source": [
        "Braking_systems2=[]\n",
        "matches=[\"چرخ\",\"تایر\"]\n",
        "for sentence in text:\n",
        "   if any(x in sentence for x in matches):\n",
        "      Braking_systems2.append(sentence)"
      ]
    },
    {
      "cell_type": "code",
      "execution_count": null,
      "metadata": {
        "id": "Bih3K-RIkS3L"
      },
      "outputs": [],
      "source": [
        "import pandas as pd\n",
        "dataFram_Braking_systems2=pd.DataFrame()\n",
        "batch_size=20\n",
        "for i in range(0, len(Braking_systems2), batch_size):\n",
        "  ww=sa_model.sentiment_analysis_inference(Braking_systems2[i:i+batch_size],device)\n",
        "  dataFram_Braking_systems2=dataFram_Braking_systems2.append(ww,ignore_index=True)\n",
        "  \n",
        "dataFram_Braking_systems2.columns=['text','label']"
      ]
    },
    {
      "cell_type": "code",
      "execution_count": null,
      "metadata": {
        "colab": {
          "base_uri": "https://localhost:8080/"
        },
        "id": "6QbzEOewkS5W",
        "outputId": "dc9b549d-77be-4917-a487-01b27147b432"
      },
      "outputs": [
        {
          "name": "stdout",
          "output_type": "stream",
          "text": [
            "positive precent : 16.75096697411485\n",
            "negative precent : 31.47872656947337\n",
            "Neutral precent : 51.77030645641179\n",
            "total comment : 3361\n"
          ]
        }
      ],
      "source": [
        "length_array24=len(dataFram_Braking_systems2)\n",
        "neg=dataFram_Braking_systems2['label'].value_counts()['Negative']\n",
        "pos=dataFram_Braking_systems2['label'].value_counts()['Positive']\n",
        "neu=dataFram_Braking_systems2['label'].value_counts()['Neutral']\n",
        "pos24=pos/length_array24*100\n",
        "neg24=neg/length_array24*100\n",
        "neu24=neu/length_array24*100\n",
        "print(\"positive precent :\" , pos24)\n",
        "print(\"negative precent :\" , neg24)\n",
        "print(\"Neutral precent :\" , neu24)\n",
        "print(\"total comment :\",length_array24)"
      ]
    },
    {
      "cell_type": "markdown",
      "metadata": {
        "id": "e-u6-CWRkjiZ"
      },
      "source": [
        "ترمز"
      ]
    },
    {
      "cell_type": "code",
      "execution_count": null,
      "metadata": {
        "id": "M13nkzRlkoR7"
      },
      "outputs": [],
      "source": [
        "Braking_systems3=[]\n",
        "matches=[\"ترمز\",\"ترمز دستی\",\"پدال\"]\n",
        "for sentence in text:\n",
        "   if any(x in sentence for x in matches):\n",
        "      Braking_systems3.append(sentence)"
      ]
    },
    {
      "cell_type": "code",
      "execution_count": null,
      "metadata": {
        "id": "HdueZsbkkoR8"
      },
      "outputs": [],
      "source": [
        "import pandas as pd\n",
        "dataFram_Braking_systems3=pd.DataFrame()\n",
        "batch_size=20\n",
        "for i in range(0, len(Braking_systems3), batch_size):\n",
        "  ww=sa_model.sentiment_analysis_inference(Braking_systems3[i:i+batch_size],device)\n",
        "  dataFram_Braking_systems3=dataFram_Braking_systems3.append(ww,ignore_index=True)\n",
        "  \n",
        "dataFram_Braking_systems3.columns=['text','label']"
      ]
    },
    {
      "cell_type": "code",
      "execution_count": null,
      "metadata": {
        "colab": {
          "base_uri": "https://localhost:8080/"
        },
        "id": "VUubL4WQkoR8",
        "outputId": "882b9ab7-ba3a-458e-faad-199b551bbeba"
      },
      "outputs": [
        {
          "name": "stdout",
          "output_type": "stream",
          "text": [
            "positive precent : 11.51862464183381\n",
            "negative precent : 32.89398280802292\n",
            "Neutral precent : 55.587392550143264\n",
            "total comment : 3490\n"
          ]
        }
      ],
      "source": [
        "length_array25=len(dataFram_Braking_systems3)\n",
        "neg=dataFram_Braking_systems3['label'].value_counts()['Negative']\n",
        "pos=dataFram_Braking_systems3['label'].value_counts()['Positive']\n",
        "neu=dataFram_Braking_systems3['label'].value_counts()['Neutral']\n",
        "pos25=pos/length_array25*100\n",
        "neg25=neg/length_array25*100\n",
        "neu25=neu/length_array25*100\n",
        "print(\"positive precent :\" , pos25)\n",
        "print(\"negative precent :\" , neg25)\n",
        "print(\"Neutral precent :\" , neu25)\n",
        "print(\"total comment :\",length_array25)"
      ]
    },
    {
      "cell_type": "markdown",
      "metadata": {
        "id": "YezwfWsPk8_7"
      },
      "source": [
        "برف و باران"
      ]
    },
    {
      "cell_type": "code",
      "execution_count": null,
      "metadata": {
        "id": "nUBDNEIxlC2t"
      },
      "outputs": [],
      "source": [
        "Braking_systems4=[]\n",
        "matches=[\"برف\",\"باران\",\"بارون\",\"بارندگی\"]\n",
        "for sentence in text:\n",
        "   if any(x in sentence for x in matches):\n",
        "      Braking_systems4.append(sentence)"
      ]
    },
    {
      "cell_type": "code",
      "execution_count": null,
      "metadata": {
        "id": "_px3IdM2lC2u"
      },
      "outputs": [],
      "source": [
        "import pandas as pd\n",
        "dataFram_Braking_systems4=pd.DataFrame()\n",
        "batch_size=20\n",
        "for i in range(0, len(Braking_systems4), batch_size):\n",
        "  ww=sa_model.sentiment_analysis_inference(Braking_systems4[i:i+batch_size],device)\n",
        "  dataFram_Braking_systems4=dataFram_Braking_systems4.append(ww,ignore_index=True)\n",
        "  \n",
        "dataFram_Braking_systems4.columns=['text','label']"
      ]
    },
    {
      "cell_type": "code",
      "execution_count": null,
      "metadata": {
        "colab": {
          "base_uri": "https://localhost:8080/"
        },
        "id": "kN3GmyyxlC2v",
        "outputId": "97a5eca8-8345-40b4-ae38-71f6af47dc24"
      },
      "outputs": [
        {
          "name": "stdout",
          "output_type": "stream",
          "text": [
            "positive precent : 15.576036866359447\n",
            "negative precent : 40.55299539170507\n",
            "Neutral precent : 43.87096774193549\n",
            "total comment : 1085\n"
          ]
        }
      ],
      "source": [
        "length_array26=len(dataFram_Braking_systems4)\n",
        "neg=dataFram_Braking_systems4['label'].value_counts()['Negative']\n",
        "pos=dataFram_Braking_systems4['label'].value_counts()['Positive']\n",
        "neu=dataFram_Braking_systems4['label'].value_counts()['Neutral']\n",
        "pos26=pos/length_array26*100\n",
        "neg26=neg/length_array26*100\n",
        "neu26=neu/length_array26*100\n",
        "print(\"positive precent :\" , pos26)\n",
        "print(\"negative precent :\" , neg26)\n",
        "print(\"Neutral precent :\" , neu26)\n",
        "print(\"total comment :\",length_array26)"
      ]
    },
    {
      "cell_type": "markdown",
      "metadata": {
        "id": "mRFicuGwlUl8"
      },
      "source": [
        "غیره"
      ]
    },
    {
      "cell_type": "code",
      "execution_count": null,
      "metadata": {
        "id": "d8lB59bslZv5"
      },
      "outputs": [],
      "source": [
        "Braking_systems5=[]\n",
        "matches=[\"توزیع \",\"نیرو \",\"اسفالت \",\"کاسه نمد \",\"اصطحکاک \",\"دیسک \",\"استهلاک \",\"اصطکاک \",\"مستهلک\",\"استحلاک\",\"استهکام\",\"اصتحلاک\",\"اصتحهلاک\",\"اصحلاک\",\"اصطحلاک\",\"اصطحکاک\",\"اصطلاک\",\"اصطکاک\"]\n",
        "for sentence in text:\n",
        "   if any(x in sentence for x in matches):\n",
        "      Braking_systems5.append(sentence)"
      ]
    },
    {
      "cell_type": "code",
      "execution_count": null,
      "metadata": {
        "id": "sHY1G5fglZv6"
      },
      "outputs": [],
      "source": [
        "import pandas as pd\n",
        "dataFram_Braking_systems5=pd.DataFrame()\n",
        "batch_size=20\n",
        "for i in range(0, len(Braking_systems5), batch_size):\n",
        "  ww=sa_model.sentiment_analysis_inference(Braking_systems5[i:i+batch_size],device)\n",
        "  dataFram_Braking_systems5=dataFram_Braking_systems5.append(ww,ignore_index=True)\n",
        "  \n",
        "dataFram_Braking_systems5.columns=['text','label']"
      ]
    },
    {
      "cell_type": "code",
      "execution_count": null,
      "metadata": {
        "colab": {
          "base_uri": "https://localhost:8080/"
        },
        "id": "7Lzx7AFqlZv8",
        "outputId": "f5fbac44-b5cf-4b31-fd1a-47110d1d3b1b"
      },
      "outputs": [
        {
          "name": "stdout",
          "output_type": "stream",
          "text": [
            "positive precent : 10.420650095602294\n",
            "negative precent : 35.46845124282983\n",
            "Neutral precent : 54.11089866156787\n",
            "total comment : 2092\n"
          ]
        }
      ],
      "source": [
        "length_array27=len(dataFram_Braking_systems5)\n",
        "neg=dataFram_Braking_systems5['label'].value_counts()['Negative']\n",
        "pos=dataFram_Braking_systems5['label'].value_counts()['Positive']\n",
        "neu=dataFram_Braking_systems5['label'].value_counts()['Neutral']\n",
        "pos27=pos/length_array27*100\n",
        "neg27=neg/length_array27*100\n",
        "neu27=neu/length_array27*100\n",
        "print(\"positive precent :\" , pos27)\n",
        "print(\"negative precent :\" , neg27)\n",
        "print(\"Neutral precent :\" , neu27)\n",
        "print(\"total comment :\",length_array27)"
      ]
    },
    {
      "cell_type": "markdown",
      "metadata": {
        "id": "6rI5iT1rmO4R"
      },
      "source": [
        "کلی"
      ]
    },
    {
      "cell_type": "code",
      "execution_count": null,
      "metadata": {
        "colab": {
          "base_uri": "https://localhost:8080/"
        },
        "id": "4FTpqB5-kS8u",
        "outputId": "48e12828-70ab-43e4-accb-b1f248dd29fa"
      },
      "outputs": [
        {
          "name": "stdout",
          "output_type": "stream",
          "text": [
            "positive precent : 14.075477937804303\n",
            "negative precent : 34.96772009129513\n",
            "Neutral precent : 50.95680197090057\n",
            "total comment : 10208\n"
          ]
        }
      ],
      "source": [
        "import statistics\n",
        "pos_23_27 = statistics.mean([pos23,pos24,pos25,pos26,pos27])\n",
        "neg_23_27=statistics.mean([neg23,neg24,neg25,neg26,neg27])\n",
        "neu_23_27=statistics.mean([neu23,neu24,neu25,neu26,neu27])\n",
        "sum_23_27=sum([length_array23,length_array24,length_array25,length_array26,length_array27])\n",
        "print(\"positive precent :\" , pos_23_27)\n",
        "print(\"negative precent :\" , neg_23_27)\n",
        "print(\"Neutral precent :\" , neu_23_27)\n",
        "print(\"total comment :\",sum_23_27)"
      ]
    },
    {
      "cell_type": "markdown",
      "metadata": {
        "id": "Ua_3lRocmmZr"
      },
      "source": [
        "**سیستم روشنایی**"
      ]
    },
    {
      "cell_type": "markdown",
      "metadata": {
        "id": "Yi-fv98AnoL4"
      },
      "source": [
        "چراغ ترمز"
      ]
    },
    {
      "cell_type": "code",
      "execution_count": null,
      "metadata": {
        "id": "oxZKjo80nrfm"
      },
      "outputs": [],
      "source": [
        "Lighting_system1=[]\n",
        "matches=[\"چراغ ترمز\"]\n",
        "for sentence in text:\n",
        "   if any(x in sentence for x in matches):\n",
        "      Lighting_system1.append(sentence)"
      ]
    },
    {
      "cell_type": "code",
      "execution_count": null,
      "metadata": {
        "id": "2F77m3cunrfo"
      },
      "outputs": [],
      "source": [
        "import pandas as pd\n",
        "dataFram_Lighting_system1=pd.DataFrame()\n",
        "batch_size=20\n",
        "for i in range(0, len(Lighting_system1), batch_size):\n",
        "  ww=sa_model.sentiment_analysis_inference(Lighting_system1[i:i+batch_size],device)\n",
        "  dataFram_Lighting_system1=dataFram_Lighting_system1.append(ww,ignore_index=True)\n",
        "  \n",
        "dataFram_Lighting_system1.columns=['text','label']"
      ]
    },
    {
      "cell_type": "code",
      "execution_count": null,
      "metadata": {
        "colab": {
          "base_uri": "https://localhost:8080/"
        },
        "id": "i75XGxFanrfp",
        "outputId": "5ecee6fb-db06-4d4f-b61e-050e97b105a1"
      },
      "outputs": [
        {
          "name": "stdout",
          "output_type": "stream",
          "text": [
            "positive precent : 15.09433962264151\n",
            "negative precent : 22.641509433962266\n",
            "Neutral precent : 62.264150943396224\n",
            "total comment : 53\n"
          ]
        }
      ],
      "source": [
        "length_array28=len(dataFram_Lighting_system1)\n",
        "neg=dataFram_Lighting_system1['label'].value_counts()['Negative']\n",
        "pos=dataFram_Lighting_system1['label'].value_counts()['Positive']\n",
        "neu=dataFram_Lighting_system1['label'].value_counts()['Neutral']\n",
        "pos28=pos/length_array28*100\n",
        "neg28=neg/length_array28*100\n",
        "neu28=neu/length_array28*100\n",
        "print(\"positive precent :\" , pos28)\n",
        "print(\"negative precent :\" , neg28)\n",
        "print(\"Neutral precent :\" , neu28)\n",
        "print(\"total comment :\",length_array28)"
      ]
    },
    {
      "cell_type": "markdown",
      "metadata": {
        "id": "sQsK7YPHm9Xj"
      },
      "source": [
        "مه شکن"
      ]
    },
    {
      "cell_type": "code",
      "execution_count": null,
      "metadata": {
        "id": "GJKKu8gjnBF3"
      },
      "outputs": [],
      "source": [
        "Lighting_system2=[]\n",
        "matches=[\"مه شکن\"]\n",
        "for sentence in text:\n",
        "   if any(x in sentence for x in matches):\n",
        "      Lighting_system2.append(sentence)"
      ]
    },
    {
      "cell_type": "code",
      "execution_count": null,
      "metadata": {
        "id": "RkReiTR7nBF5"
      },
      "outputs": [],
      "source": [
        "import pandas as pd\n",
        "dataFram_Lighting_system2=pd.DataFrame()\n",
        "batch_size=20\n",
        "for i in range(0, len(Lighting_system2), batch_size):\n",
        "  ww=sa_model.sentiment_analysis_inference(Lighting_system2[i:i+batch_size],device)\n",
        "  dataFram_Lighting_system2=dataFram_Lighting_system2.append(ww,ignore_index=True)\n",
        "  \n",
        "dataFram_Lighting_system2.columns=['text','label']"
      ]
    },
    {
      "cell_type": "code",
      "execution_count": null,
      "metadata": {
        "colab": {
          "base_uri": "https://localhost:8080/"
        },
        "id": "zKBfJ3EbnBF5",
        "outputId": "720b2ad1-1426-46fa-b4d1-9ca5739782e6"
      },
      "outputs": [
        {
          "name": "stdout",
          "output_type": "stream",
          "text": [
            "positive precent : 10.208816705336426\n",
            "negative precent : 26.68213457076566\n",
            "Neutral precent : 63.10904872389791\n",
            "total comment : 431\n"
          ]
        }
      ],
      "source": [
        "length_array29=len(dataFram_Lighting_system2)\n",
        "neg=dataFram_Lighting_system2['label'].value_counts()['Negative']\n",
        "pos=dataFram_Lighting_system2['label'].value_counts()['Positive']\n",
        "neu=dataFram_Lighting_system2['label'].value_counts()['Neutral']\n",
        "pos29=pos/length_array29*100\n",
        "neg29=neg/length_array29*100\n",
        "neu29=neu/length_array29*100\n",
        "print(\"positive precent :\" , pos29)\n",
        "print(\"negative precent :\" , neg29)\n",
        "print(\"Neutral precent :\" , neu29)\n",
        "print(\"total comment :\",length_array29)"
      ]
    },
    {
      "cell_type": "markdown",
      "metadata": {
        "id": "nqD2j9WVnKzR"
      },
      "source": [
        "نوربالا"
      ]
    },
    {
      "cell_type": "code",
      "execution_count": null,
      "metadata": {
        "id": "OC7VIzPxnNkj"
      },
      "outputs": [],
      "source": [
        "Lighting_system3=[]\n",
        "matches=[\"نوربالا\"]\n",
        "for sentence in text:\n",
        "   if any(x in sentence for x in matches):\n",
        "      Lighting_system3.append(sentence)"
      ]
    },
    {
      "cell_type": "code",
      "execution_count": null,
      "metadata": {
        "id": "3WRobq_JnNkk"
      },
      "outputs": [],
      "source": [
        "import pandas as pd\n",
        "dataFram_Lighting_system3=pd.DataFrame()\n",
        "batch_size=20\n",
        "for i in range(0, len(Lighting_system3), batch_size):\n",
        "  ww=sa_model.sentiment_analysis_inference(Lighting_system3[i:i+batch_size],device)\n",
        "  dataFram_Lighting_system3=dataFram_Lighting_system3.append(ww,ignore_index=True)\n",
        "  \n",
        "dataFram_Lighting_system3.columns=['text','label']"
      ]
    },
    {
      "cell_type": "code",
      "execution_count": null,
      "metadata": {
        "colab": {
          "base_uri": "https://localhost:8080/"
        },
        "id": "8dqWz8pbnNkl",
        "outputId": "437599ba-0dc5-4520-e728-3a285232cc19"
      },
      "outputs": [
        {
          "name": "stdout",
          "output_type": "stream",
          "text": [
            "positive precent : 9.523809523809524\n",
            "negative precent : 14.285714285714285\n",
            "Neutral precent : 76.19047619047619\n",
            "total comment : 21\n"
          ]
        }
      ],
      "source": [
        "length_array30=len(dataFram_Lighting_system3)\n",
        "neg=len(dataFram_Lighting_system3[dataFram_Lighting_system3['label']=='Negative'])\n",
        "pos=len(dataFram_Lighting_system3[dataFram_Lighting_system3['label']=='Positive'])\n",
        "neu=len(dataFram_Lighting_system3[dataFram_Lighting_system3['label']=='Neutral'])\n",
        "pos30=pos/length_array30*100\n",
        "neg30=neg/length_array30*100\n",
        "neu30=neu/length_array30*100\n",
        "print(\"positive precent :\" , pos30)\n",
        "print(\"negative precent :\" , neg30)\n",
        "print(\"Neutral precent :\" , neu30)\n",
        "print(\"total comment :\",length_array30)"
      ]
    },
    {
      "cell_type": "markdown",
      "metadata": {
        "id": "uzEYeQGln0xg"
      },
      "source": [
        "چراغ جلو"
      ]
    },
    {
      "cell_type": "code",
      "execution_count": null,
      "metadata": {
        "id": "ok1uI-Hxn-QN"
      },
      "outputs": [],
      "source": [
        "Lighting_system4=[]\n",
        "matches=[\"چراغ جلو\",\"پرژکتور\",\"دی لایت\",\"چراغ\"]\n",
        "for sentence in text:\n",
        "   if any(x in sentence for x in matches):\n",
        "      Lighting_system4.append(sentence)"
      ]
    },
    {
      "cell_type": "code",
      "execution_count": null,
      "metadata": {
        "id": "PIbJjmqan-QP"
      },
      "outputs": [],
      "source": [
        "import pandas as pd\n",
        "dataFram_Lighting_system4=pd.DataFrame()\n",
        "batch_size=20\n",
        "for i in range(0, len(Lighting_system4), batch_size):\n",
        "  ww=sa_model.sentiment_analysis_inference(Lighting_system4[i:i+batch_size],device)\n",
        "  dataFram_Lighting_system4=dataFram_Lighting_system4.append(ww,ignore_index=True)\n",
        "  \n",
        "dataFram_Lighting_system4.columns=['text','label']"
      ]
    },
    {
      "cell_type": "code",
      "execution_count": null,
      "metadata": {
        "colab": {
          "base_uri": "https://localhost:8080/"
        },
        "id": "w1Y-YY9pn-QP",
        "outputId": "49e933ae-eca6-4fd7-fdc4-82c11a1626b1"
      },
      "outputs": [
        {
          "name": "stdout",
          "output_type": "stream",
          "text": [
            "positive precent : 10.067899789276517\n",
            "negative precent : 28.564738937017093\n",
            "Neutral precent : 61.367361273706386\n",
            "total comment : 4271\n"
          ]
        }
      ],
      "source": [
        "length_array31=len(dataFram_Lighting_system4)\n",
        "neg=dataFram_Lighting_system4['label'].value_counts()['Negative']\n",
        "pos=dataFram_Lighting_system4['label'].value_counts()['Positive']\n",
        "neu=dataFram_Lighting_system4['label'].value_counts()['Neutral']\n",
        "pos31=pos/length_array31*100\n",
        "neg31=neg/length_array31*100\n",
        "neu31=neu/length_array31*100\n",
        "print(\"positive precent :\" , pos31)\n",
        "print(\"negative precent :\" , neg31)\n",
        "print(\"Neutral precent :\" , neu31)\n",
        "print(\"total comment :\",length_array31)"
      ]
    },
    {
      "cell_type": "markdown",
      "metadata": {
        "id": "PcsWfoKhoM97"
      },
      "source": [
        "کلی"
      ]
    },
    {
      "cell_type": "code",
      "execution_count": null,
      "metadata": {
        "colab": {
          "base_uri": "https://localhost:8080/"
        },
        "id": "Hf6wl4jX8oK-",
        "outputId": "202c7cce-e439-41b2-f62b-4810e1b97deb"
      },
      "outputs": [
        {
          "name": "stdout",
          "output_type": "stream",
          "text": [
            "positive precent : 14.075477937804303\n",
            "negative precent : 34.96772009129513\n",
            "Neutral precent : 50.95680197090057\n",
            "total comment : 10208\n"
          ]
        }
      ],
      "source": [
        "import statistics\n",
        "pos_28_31 = statistics.mean([pos28,pos29,pos30,pos31])\n",
        "neg_28_31=statistics.mean([neg28,neg29,neg30,neg31])\n",
        "neu_28_31=statistics.mean([neu28,neu29,neu30,neu31])\n",
        "sum_28_31=sum([length_array28,length_array29,length_array30,length_array31])\n",
        "print(\"positive precent :\" , pos_23_27)\n",
        "print(\"negative precent :\" , neg_23_27)\n",
        "print(\"Neutral precent :\" , neu_23_27)\n",
        "print(\"total comment :\",sum_23_27)"
      ]
    },
    {
      "cell_type": "markdown",
      "metadata": {
        "id": "jD36l8smnYaT"
      },
      "source": [
        "**فرمان**"
      ]
    },
    {
      "cell_type": "markdown",
      "metadata": {
        "id": "yvbIz61JoeRP"
      },
      "source": [
        "فرمان"
      ]
    },
    {
      "cell_type": "code",
      "execution_count": null,
      "metadata": {
        "id": "ztwFgIrSoicr"
      },
      "outputs": [],
      "source": [
        "steering_wheel1=[]\n",
        "matches=[\"فرمان\",\"نیرو\",\"کمکی\"]\n",
        "for sentence in text:\n",
        "   if any(x in sentence for x in matches):\n",
        "      steering_wheel1.append(sentence)"
      ]
    },
    {
      "cell_type": "code",
      "execution_count": null,
      "metadata": {
        "id": "Z0-z5qC9oict"
      },
      "outputs": [],
      "source": [
        "import pandas as pd\n",
        "dataFram_steering_wheel1=pd.DataFrame()\n",
        "batch_size=20\n",
        "for i in range(0, len(steering_wheel1), batch_size):\n",
        "  ww=sa_model.sentiment_analysis_inference(steering_wheel1[i:i+batch_size],device)\n",
        "  dataFram_steering_wheel1=dataFram_steering_wheel1.append(ww,ignore_index=True)\n",
        "  \n",
        "dataFram_steering_wheel1.columns=['text','label']"
      ]
    },
    {
      "cell_type": "code",
      "execution_count": null,
      "metadata": {
        "colab": {
          "base_uri": "https://localhost:8080/"
        },
        "id": "DoRXAk0toicu",
        "outputId": "7c03b40d-ac06-4c99-beda-3e8ba5ff6413"
      },
      "outputs": [
        {
          "name": "stdout",
          "output_type": "stream",
          "text": [
            "positive precent : 13.032145960034752\n",
            "negative precent : 25.543006081668114\n",
            "Neutral precent : 61.424847958297136\n",
            "total comment : 1151\n"
          ]
        }
      ],
      "source": [
        "length_array32=len(dataFram_steering_wheel1)\n",
        "neg=dataFram_steering_wheel1['label'].value_counts()['Negative']\n",
        "pos=dataFram_steering_wheel1['label'].value_counts()['Positive']\n",
        "neu=dataFram_steering_wheel1['label'].value_counts()['Neutral']\n",
        "pos32=pos/length_array32*100\n",
        "neg32=neg/length_array32*100\n",
        "neu32=neu/length_array32*100\n",
        "print(\"positive precent :\" , pos32)\n",
        "print(\"negative precent :\" , neg32)\n",
        "print(\"Neutral precent :\" , neu32)\n",
        "print(\"total comment :\",length_array32)"
      ]
    },
    {
      "cell_type": "markdown",
      "metadata": {
        "id": "vsiXJRE-ob-f"
      },
      "source": [
        "**مولتی مدیا**"
      ]
    },
    {
      "cell_type": "markdown",
      "metadata": {
        "id": "j1uinaZco2hb"
      },
      "source": [
        "صوتی"
      ]
    },
    {
      "cell_type": "code",
      "execution_count": null,
      "metadata": {
        "id": "cBT2hKzLo5Pn"
      },
      "outputs": [],
      "source": [
        "Multi_Media1=[]\n",
        "matches=[\"صوتی\",\"صدا \",\"بلند گو\",\"ضبط \",\"اهنگ\"]\n",
        "for sentence in text:\n",
        "   if any(x in sentence for x in matches):\n",
        "      Multi_Media1.append(sentence)"
      ]
    },
    {
      "cell_type": "code",
      "execution_count": null,
      "metadata": {
        "id": "AHBDawX5o5Po"
      },
      "outputs": [],
      "source": [
        "import pandas as pd\n",
        "dataFram_Multi_Media1=pd.DataFrame()\n",
        "batch_size=20\n",
        "for i in range(0, len(Multi_Media1), batch_size):\n",
        "  ww=sa_model.sentiment_analysis_inference(Multi_Media1[i:i+batch_size],device)\n",
        "  dataFram_Multi_Media1=dataFram_Multi_Media1.append(ww,ignore_index=True)\n",
        "  \n",
        "dataFram_Multi_Media1.columns=['text','label']"
      ]
    },
    {
      "cell_type": "code",
      "execution_count": null,
      "metadata": {
        "colab": {
          "base_uri": "https://localhost:8080/"
        },
        "id": "1An8hq22o5Po",
        "outputId": "631952fa-15d5-4721-ea17-a8dbfcd86f70"
      },
      "outputs": [
        {
          "name": "stdout",
          "output_type": "stream",
          "text": [
            "positive precent : 10.314648885184413\n",
            "negative precent : 29.881225255261512\n",
            "Neutral precent : 49.44444444444444\n",
            "total comment : 4799\n"
          ]
        }
      ],
      "source": [
        "length_array33=len(dataFram_Multi_Media1)\n",
        "neg=dataFram_Multi_Media1['label'].value_counts()['Negative']\n",
        "pos=dataFram_Multi_Media1['label'].value_counts()['Positive']\n",
        "neu=dataFram_Multi_Media1['label'].value_counts()['Neutral']\n",
        "pos33=pos/length_array33*100\n",
        "neg33=neg/length_array33*100\n",
        "neu33=neu/length_array33*100\n",
        "print(\"positive precent :\" , pos33)\n",
        "print(\"negative precent :\" , neg33)\n",
        "print(\"Neutral precent :\" , neu23)\n",
        "print(\"total comment :\",length_array33)"
      ]
    },
    {
      "cell_type": "markdown",
      "metadata": {
        "id": "z1nZ3LDDp2ZJ"
      },
      "source": [
        "**ایمنی کابین**"
      ]
    },
    {
      "cell_type": "markdown",
      "metadata": {
        "id": "KW45wEJvp8F-"
      },
      "source": [
        "ایربگ"
      ]
    },
    {
      "cell_type": "code",
      "execution_count": null,
      "metadata": {
        "id": "4HcO0lm-p-59"
      },
      "outputs": [],
      "source": [
        "Cabin_safety1=[]\n",
        "matches=[\"کیسه هوا\",\"ایربگ\"]\n",
        "for sentence in text:\n",
        "   if any(x in sentence for x in matches):\n",
        "      Cabin_safety1.append(sentence)"
      ]
    },
    {
      "cell_type": "code",
      "execution_count": null,
      "metadata": {
        "id": "0cvQBCd5p-5-"
      },
      "outputs": [],
      "source": [
        "import pandas as pd\n",
        "dataFram_Cabin_safety1=pd.DataFrame()\n",
        "batch_size=20\n",
        "for i in range(0, len(Cabin_safety1), batch_size):\n",
        "  ww=sa_model.sentiment_analysis_inference(Cabin_safety1[i:i+batch_size],device)\n",
        "  dataFram_Cabin_safety1=dataFram_Cabin_safety1.append(ww,ignore_index=True)\n",
        "  \n",
        "dataFram_Cabin_safety1.columns=['text','label']"
      ]
    },
    {
      "cell_type": "code",
      "execution_count": null,
      "metadata": {
        "colab": {
          "base_uri": "https://localhost:8080/"
        },
        "id": "NL-q67W0p-5-",
        "outputId": "38c6ce36-4f49-49fe-ce14-35ddfe000dae"
      },
      "outputs": [
        {
          "name": "stdout",
          "output_type": "stream",
          "text": [
            "positive precent : 6.57672849915683\n",
            "negative precent : 27.150084317032043\n",
            "Neutral precent : 66.27318718381113\n",
            "total comment : 593\n"
          ]
        }
      ],
      "source": [
        "length_array36=len(dataFram_Cabin_safety1)\n",
        "neg=dataFram_Cabin_safety1['label'].value_counts()['Negative']\n",
        "pos=dataFram_Cabin_safety1['label'].value_counts()['Positive']\n",
        "neu=dataFram_Cabin_safety1['label'].value_counts()['Neutral']\n",
        "pos36=pos/length_array36*100\n",
        "neg36=neg/length_array36*100\n",
        "neu36=neu/length_array36*100\n",
        "print(\"positive precent :\" , pos36)\n",
        "print(\"negative precent :\" , neg36)\n",
        "print(\"Neutral precent :\" , neu36)\n",
        "print(\"total comment :\",length_array36)"
      ]
    },
    {
      "cell_type": "markdown",
      "metadata": {
        "id": "v1t8vTliqZ8c"
      },
      "source": [
        "کمربند"
      ]
    },
    {
      "cell_type": "code",
      "execution_count": null,
      "metadata": {
        "id": "6ls3oufoqdbS"
      },
      "outputs": [],
      "source": [
        "Cabin_safety2=[]\n",
        "matches=[\"کمربند\"]\n",
        "for sentence in text:\n",
        "   if any(x in sentence for x in matches):\n",
        "      Cabin_safety2.append(sentence)"
      ]
    },
    {
      "cell_type": "code",
      "execution_count": null,
      "metadata": {
        "id": "mdnRDru_qdbT"
      },
      "outputs": [],
      "source": [
        "import pandas as pd\n",
        "dataFram_Cabin_safety2=pd.DataFrame()\n",
        "batch_size=20\n",
        "for i in range(0, len(Cabin_safety2), batch_size):\n",
        "  ww=sa_model.sentiment_analysis_inference(Cabin_safety2[i:i+batch_size],device)\n",
        "  dataFram_Cabin_safety2=dataFram_Cabin_safety2.append(ww,ignore_index=True)\n",
        "  \n",
        "dataFram_Cabin_safety2.columns=['text','label']"
      ]
    },
    {
      "cell_type": "code",
      "execution_count": null,
      "metadata": {
        "colab": {
          "base_uri": "https://localhost:8080/"
        },
        "id": "fUOdo_LSqdbU",
        "outputId": "6e8bc2a4-f63b-4042-b854-64fd3a1cbeb8"
      },
      "outputs": [
        {
          "name": "stdout",
          "output_type": "stream",
          "text": [
            "positive precent : 11.151079136690647\n",
            "negative precent : 34.53237410071942\n",
            "Neutral precent : 54.31654676258992\n",
            "total comment : 278\n"
          ]
        }
      ],
      "source": [
        "length_array37=len(dataFram_Cabin_safety2)\n",
        "neg=dataFram_Cabin_safety2['label'].value_counts()['Negative']\n",
        "pos=dataFram_Cabin_safety2['label'].value_counts()['Positive']\n",
        "neu=dataFram_Cabin_safety2['label'].value_counts()['Neutral']\n",
        "pos37=pos/length_array37*100\n",
        "neg37=neg/length_array37*100\n",
        "neu37=neu/length_array37*100\n",
        "print(\"positive precent :\" , pos37)\n",
        "print(\"negative precent :\" , neg37)\n",
        "print(\"Neutral precent :\" , neu37)\n",
        "print(\"total comment :\",length_array37)"
      ]
    },
    {
      "cell_type": "markdown",
      "metadata": {
        "id": "pO69K0MVl3DF"
      },
      "source": [
        "کلی"
      ]
    },
    {
      "cell_type": "code",
      "execution_count": null,
      "metadata": {
        "colab": {
          "base_uri": "https://localhost:8080/"
        },
        "id": "rAG9JbmV-lbS",
        "outputId": "4ea25677-7170-4b9d-b7ff-e3e04fe8cecd"
      },
      "outputs": [
        {
          "name": "stdout",
          "output_type": "stream",
          "text": [
            "positive precent : 8.863903817923738\n",
            "negative precent : 30.84122920887573\n",
            "Neutral precent : 60.29486697320053\n",
            "total comment : 871\n"
          ]
        }
      ],
      "source": [
        "import statistics\n",
        "pos_36_37 = statistics.mean([pos36,pos37])\n",
        "neg_36_37=statistics.mean([neg36,neg37])\n",
        "neu_36_37=statistics.mean([neu36,neu37])\n",
        "sum_36_37=sum([length_array36,length_array37])\n",
        "print(\"positive precent :\" , pos_36_37)\n",
        "print(\"negative precent :\" , neg_36_37)\n",
        "print(\"Neutral precent :\" , neu_36_37)\n",
        "print(\"total comment :\",sum_36_37)"
      ]
    },
    {
      "cell_type": "markdown",
      "metadata": {
        "id": "cBE4b3iNqlXa"
      },
      "source": [
        "**رفاهی کابین**"
      ]
    },
    {
      "cell_type": "markdown",
      "metadata": {
        "id": "6ZVDQkcLqp4M"
      },
      "source": [
        "تهویه"
      ]
    },
    {
      "cell_type": "code",
      "execution_count": null,
      "metadata": {
        "id": "DZBzxSyyqpC0"
      },
      "outputs": [],
      "source": [
        "Cabin_amenities1=[]\n",
        "matches=[\"تهویه\",\"کولر\",\"بخاری\",\"خنک کننده\",\"ترموستات\",\"فن\"]\n",
        "for sentence in text:\n",
        "   if any(x in sentence for x in matches):\n",
        "      Cabin_amenities1.append(sentence)"
      ]
    },
    {
      "cell_type": "code",
      "execution_count": null,
      "metadata": {
        "id": "LpPFoVhfqpC1"
      },
      "outputs": [],
      "source": [
        "import pandas as pd\n",
        "dataFram_Cabin_amenities1=pd.DataFrame()\n",
        "batch_size=20\n",
        "for i in range(0, len(Cabin_amenities1), batch_size):\n",
        "  ww=sa_model.sentiment_analysis_inference(Cabin_amenities1[i:i+batch_size],device)\n",
        "  dataFram_Cabin_amenities1=dataFram_Cabin_amenities1.append(ww,ignore_index=True)\n",
        "  \n",
        "dataFram_Cabin_amenities1.columns=['text','label']"
      ]
    },
    {
      "cell_type": "code",
      "execution_count": null,
      "metadata": {
        "colab": {
          "base_uri": "https://localhost:8080/"
        },
        "id": "GtY4oS3_qpC1",
        "outputId": "7beb4ca7-ba3d-4856-f674-075f35b1e430"
      },
      "outputs": [
        {
          "name": "stdout",
          "output_type": "stream",
          "text": [
            "positive precent : 15.198169145948196\n",
            "negative precent : 32.69530843649225\n",
            "Neutral precent : 52.10652241755955\n",
            "total comment : 9613\n"
          ]
        }
      ],
      "source": [
        "length_array38=len(dataFram_Cabin_amenities1)\n",
        "neg=dataFram_Cabin_amenities1['label'].value_counts()['Negative']\n",
        "pos=dataFram_Cabin_amenities1['label'].value_counts()['Positive']\n",
        "neu=dataFram_Cabin_amenities1['label'].value_counts()['Neutral']\n",
        "pos38=pos/length_array38*100\n",
        "neg38=neg/length_array38*100\n",
        "neu38=neu/length_array38*100\n",
        "print(\"positive precent :\" , pos38)\n",
        "print(\"negative precent :\" , neg38)\n",
        "print(\"Neutral precent :\" , neu38)\n",
        "print(\"total comment :\",length_array38)"
      ]
    },
    {
      "cell_type": "markdown",
      "metadata": {
        "id": "x3-Wa1zYq9BF"
      },
      "source": [
        "صندلی"
      ]
    },
    {
      "cell_type": "code",
      "execution_count": null,
      "metadata": {
        "id": "Y63XMXGtrAmM"
      },
      "outputs": [],
      "source": [
        "Cabin_amenities2=[]\n",
        "matches=[\"صندلی\",\"پارچه\",\"چرم\",\"روکش\",\"نمد\"]\n",
        "for sentence in text:\n",
        "   if any(x in sentence for x in matches):\n",
        "      Cabin_amenities2.append(sentence)"
      ]
    },
    {
      "cell_type": "code",
      "execution_count": null,
      "metadata": {
        "id": "rfWqxSbYrAmO"
      },
      "outputs": [],
      "source": [
        "import pandas as pd\n",
        "dataFram_Cabin_amenities2=pd.DataFrame()\n",
        "batch_size=20\n",
        "for i in range(0, len(Cabin_amenities2), batch_size):\n",
        "  ww=sa_model.sentiment_analysis_inference(Cabin_amenities2[i:i+batch_size],device)\n",
        "  dataFram_Cabin_amenities2=dataFram_Cabin_amenities2.append(ww,ignore_index=True)\n",
        "  \n",
        "dataFram_Cabin_amenities2.columns=['text','label']"
      ]
    },
    {
      "cell_type": "code",
      "execution_count": null,
      "metadata": {
        "colab": {
          "base_uri": "https://localhost:8080/"
        },
        "id": "TXGyVBPPrAmQ",
        "outputId": "5b6d0e0c-cf26-4480-9564-1127eb256ef6"
      },
      "outputs": [
        {
          "name": "stdout",
          "output_type": "stream",
          "text": [
            "positive precent : 15.25302922309337\n",
            "negative precent : 30.577334283677832\n",
            "Neutral precent : 54.16963649322879\n",
            "total comment : 2806\n"
          ]
        }
      ],
      "source": [
        "length_array39=len(dataFram_Cabin_amenities2)\n",
        "neg=dataFram_Cabin_amenities2['label'].value_counts()['Negative']\n",
        "pos=dataFram_Cabin_amenities2['label'].value_counts()['Positive']\n",
        "neu=dataFram_Cabin_amenities2['label'].value_counts()['Neutral']\n",
        "pos39=pos/length_array39*100\n",
        "neg39=neg/length_array39*100\n",
        "neu39=neu/length_array39*100\n",
        "print(\"positive precent :\" , pos39)\n",
        "print(\"negative precent :\" , neg39)\n",
        "print(\"Neutral precent :\" , neu39)\n",
        "print(\"total comment :\",length_array39)"
      ]
    },
    {
      "cell_type": "markdown",
      "metadata": {
        "id": "Y-ZYBT27rYue"
      },
      "source": [
        "آبشن"
      ]
    },
    {
      "cell_type": "code",
      "execution_count": null,
      "metadata": {
        "id": "MGmd8mlWrdDH"
      },
      "outputs": [],
      "source": [
        "Cabin_amenities3=[]\n",
        "matches=[\"ابشن \",\"سیگار\",\"فندک\",\"داشبورد\",\"کنسول\",\"چراغ مطالعه\",\"داشبرد\"]\n",
        "for sentence in text:\n",
        "   if any(x in sentence for x in matches):\n",
        "      Cabin_amenities3.append(sentence)"
      ]
    },
    {
      "cell_type": "code",
      "execution_count": null,
      "metadata": {
        "id": "OEE6P1SBrdDI"
      },
      "outputs": [],
      "source": [
        "import pandas as pd\n",
        "dataFram_Cabin_amenities3=pd.DataFrame()\n",
        "batch_size=20\n",
        "for i in range(0, len(Cabin_amenities3), batch_size):\n",
        "  ww=sa_model.sentiment_analysis_inference(Cabin_amenities3[i:i+batch_size],device)\n",
        "  dataFram_Cabin_amenities3=dataFram_Cabin_amenities3.append(ww,ignore_index=True)\n",
        "  \n",
        "dataFram_Cabin_amenities3.columns=['text','label']"
      ]
    },
    {
      "cell_type": "code",
      "execution_count": null,
      "metadata": {
        "colab": {
          "base_uri": "https://localhost:8080/"
        },
        "id": "nULivb6frdDI",
        "outputId": "963dc795-d714-441c-c85a-847f5c88d27d"
      },
      "outputs": [
        {
          "name": "stdout",
          "output_type": "stream",
          "text": [
            "positive precent : 12.951167728237792\n",
            "negative precent : 28.768577494692142\n",
            "Neutral precent : 58.28025477707006\n",
            "total comment : 1884\n"
          ]
        }
      ],
      "source": [
        "length_array40=len(dataFram_Cabin_amenities3)\n",
        "neg=dataFram_Cabin_amenities3['label'].value_counts()['Negative']\n",
        "pos=dataFram_Cabin_amenities3['label'].value_counts()['Positive']\n",
        "neu=dataFram_Cabin_amenities3['label'].value_counts()['Neutral']\n",
        "pos40=pos/length_array40*100\n",
        "neg40=neg/length_array40*100\n",
        "neu40=neu/length_array40*100\n",
        "print(\"positive precent :\" , pos40)\n",
        "print(\"negative precent :\" , neg40)\n",
        "print(\"Neutral precent :\" , neu40)\n",
        "print(\"total comment :\",length_array40)"
      ]
    },
    {
      "cell_type": "markdown",
      "metadata": {
        "id": "7v1Lo58gms8A"
      },
      "source": [
        "کلی"
      ]
    },
    {
      "cell_type": "code",
      "execution_count": null,
      "metadata": {
        "colab": {
          "base_uri": "https://localhost:8080/"
        },
        "id": "tpXl4FKdAH94",
        "outputId": "bf8dbb67-b093-4c00-8357-732ea2f101af"
      },
      "outputs": [
        {
          "name": "stdout",
          "output_type": "stream",
          "text": [
            "positive precent : 14.467455365759786\n",
            "negative precent : 30.680406738287406\n",
            "Neutral precent : 54.8521378959528\n",
            "total comment : 14303\n"
          ]
        }
      ],
      "source": [
        "import statistics\n",
        "pos_38_40 = statistics.mean([pos38,pos39,pos40])\n",
        "neg_38_40=statistics.mean([neg38,neg39,neg40])\n",
        "neu_38_40=statistics.mean([neu38,neu39,neu40])\n",
        "sum_38_40=sum([length_array38,length_array39,length_array40])\n",
        "print(\"positive precent :\" , pos_38_40)\n",
        "print(\"negative precent :\" , neg_38_40)\n",
        "print(\"Neutral precent :\" , neu_38_40)\n",
        "print(\"total comment :\",sum_38_40)"
      ]
    },
    {
      "cell_type": "markdown",
      "metadata": {
        "id": "a7uNt1U8rvNv"
      },
      "source": [
        "آیینه و شیشه "
      ]
    },
    {
      "cell_type": "markdown",
      "metadata": {
        "id": "4_bzM3n0ry1v"
      },
      "source": [
        "شیشه"
      ]
    },
    {
      "cell_type": "code",
      "execution_count": null,
      "metadata": {
        "id": "8f-PGF40r5AJ"
      },
      "outputs": [],
      "source": [
        "Mirror_glass1=[]\n",
        "matches=[\"شیشه\",\"سانروف\",\"دودی\",\"شیشه شور\"]\n",
        "for sentence in text:\n",
        "   if any(x in sentence for x in matches):\n",
        "      Mirror_glass1.append(sentence)"
      ]
    },
    {
      "cell_type": "code",
      "execution_count": null,
      "metadata": {
        "id": "u3JxLajZr5AK"
      },
      "outputs": [],
      "source": [
        "import pandas as pd\n",
        "dataFram_Mirror_glass1=pd.DataFrame()\n",
        "batch_size=20\n",
        "for i in range(0, len(Mirror_glass1), batch_size):\n",
        "  ww=sa_model.sentiment_analysis_inference(Mirror_glass1[i:i+batch_size],device)\n",
        "  dataFram_Mirror_glass1=dataFram_Mirror_glass1.append(ww,ignore_index=True)\n",
        "  \n",
        "dataFram_Mirror_glass1.columns=['text','label']"
      ]
    },
    {
      "cell_type": "code",
      "execution_count": null,
      "metadata": {
        "colab": {
          "base_uri": "https://localhost:8080/"
        },
        "id": "lp2B2SNRr5AL",
        "outputId": "b9f64b08-0d5d-4e07-fe13-d9237e86ec96"
      },
      "outputs": [
        {
          "name": "stdout",
          "output_type": "stream",
          "text": [
            "positive precent : 11.106855610877059\n",
            "negative precent : 34.852546916890084\n",
            "Neutral precent : 54.04059747223287\n",
            "total comment : 2611\n"
          ]
        }
      ],
      "source": [
        "length_array41=len(dataFram_Mirror_glass1)\n",
        "neg=dataFram_Mirror_glass1['label'].value_counts()['Negative']\n",
        "pos=dataFram_Mirror_glass1['label'].value_counts()['Positive']\n",
        "neu=dataFram_Mirror_glass1['label'].value_counts()['Neutral']\n",
        "pos41=pos/length_array41*100\n",
        "neg41=neg/length_array41*100\n",
        "neu41=neu/length_array41*100\n",
        "print(\"positive precent :\" , pos41)\n",
        "print(\"negative precent :\" , neg41)\n",
        "print(\"Neutral precent :\" , neu41)\n",
        "print(\"total comment :\",length_array41)"
      ]
    },
    {
      "cell_type": "markdown",
      "metadata": {
        "id": "-DA63nqPsG7J"
      },
      "source": [
        "آیینه"
      ]
    },
    {
      "cell_type": "code",
      "execution_count": null,
      "metadata": {
        "id": "AfuiarrisJwQ"
      },
      "outputs": [],
      "source": [
        "Mirror_glass2=[]\n",
        "matches=[\"آینه \",\"آیینه\",\"تاشو \",\"پاناروما\"]\n",
        "for sentence in text:\n",
        "   if any(x in sentence for x in matches):\n",
        "      Mirror_glass2.append(sentence)"
      ]
    },
    {
      "cell_type": "code",
      "execution_count": null,
      "metadata": {
        "id": "ftXFY13jsJwR"
      },
      "outputs": [],
      "source": [
        "import pandas as pd\n",
        "dataFram_Mirror_glass2=pd.DataFrame()\n",
        "batch_size=20\n",
        "for i in range(0, len(Mirror_glass2), batch_size):\n",
        "  ww=sa_model.sentiment_analysis_inference(Mirror_glass2[i:i+batch_size],device)\n",
        "  dataFram_Mirror_glass2=dataFram_Mirror_glass2.append(ww,ignore_index=True)\n",
        "  \n",
        "dataFram_Mirror_glass2.columns=['text','label']"
      ]
    },
    {
      "cell_type": "code",
      "execution_count": null,
      "metadata": {
        "colab": {
          "base_uri": "https://localhost:8080/"
        },
        "id": "qsTTwF4asJwS",
        "outputId": "d51dab7b-42cf-4413-b0fa-d14df516d573"
      },
      "outputs": [
        {
          "name": "stdout",
          "output_type": "stream",
          "text": [
            "positive precent : 16.39344262295082\n",
            "negative precent : 26.39344262295082\n",
            "Neutral precent : 57.213114754098356\n",
            "total comment : 610\n"
          ]
        }
      ],
      "source": [
        "length_array42=len(dataFram_Mirror_glass2)\n",
        "neg=dataFram_Mirror_glass2['label'].value_counts()['Negative']\n",
        "pos=dataFram_Mirror_glass2['label'].value_counts()['Positive']\n",
        "neu=dataFram_Mirror_glass2['label'].value_counts()['Neutral']\n",
        "pos42=pos/length_array42*100\n",
        "neg42=neg/length_array42*100\n",
        "neu42=neu/length_array42*100\n",
        "print(\"positive precent :\" , pos42)\n",
        "print(\"negative precent :\" , neg42)\n",
        "print(\"Neutral precent :\" , neu42)\n",
        "print(\"total comment :\",length_array42)"
      ]
    },
    {
      "cell_type": "markdown",
      "metadata": {
        "id": "vZCwQl2EqXQe"
      },
      "source": [
        "کلی"
      ]
    },
    {
      "cell_type": "code",
      "execution_count": null,
      "metadata": {
        "colab": {
          "base_uri": "https://localhost:8080/"
        },
        "id": "DkFSVygCBRed",
        "outputId": "a864c46c-6241-446a-db0e-a2da99eab00f"
      },
      "outputs": [
        {
          "name": "stdout",
          "output_type": "stream",
          "text": [
            "positive precent : 13.750149116913938\n",
            "negative precent : 30.622994769920453\n",
            "Neutral precent : 55.626856113165616\n",
            "total comment : 3221\n"
          ]
        }
      ],
      "source": [
        "import statistics\n",
        "pos_41_42 = statistics.mean([pos41,pos42])\n",
        "neg_41_42=statistics.mean([neg41,neg42])\n",
        "neu_41_42=statistics.mean([neu41,neu42])\n",
        "sum_41_42=sum([length_array41,length_array42])\n",
        "print(\"positive precent :\" , pos_41_42)\n",
        "print(\"negative precent :\" , neg_41_42)\n",
        "print(\"Neutral precent :\" , neu_41_42)\n",
        "print(\"total comment :\",sum_41_42)"
      ]
    },
    {
      "cell_type": "markdown",
      "metadata": {
        "id": "Y--XqizssVaR"
      },
      "source": [
        "**مشخصات ظاهری**"
      ]
    },
    {
      "cell_type": "markdown",
      "metadata": {
        "id": "sVTmd8zfsX7m"
      },
      "source": [
        "رنگ"
      ]
    },
    {
      "cell_type": "code",
      "execution_count": null,
      "metadata": {
        "id": "sUKMwZHbsd41"
      },
      "outputs": [],
      "source": [
        "Appearance_characteristics1=[]\n",
        "matches=[\"رنگ\",\"کهکشانی\",\"زنگ\",\"دو پوسته\",\"متالیک\"]\n",
        "for sentence in text:\n",
        "   if any(x in sentence for x in matches):\n",
        "      Appearance_characteristics1.append(sentence)"
      ]
    },
    {
      "cell_type": "code",
      "execution_count": null,
      "metadata": {
        "id": "-s5xCFJHsd41"
      },
      "outputs": [],
      "source": [
        "import pandas as pd\n",
        "dataFram_Appearance_characteristics1=pd.DataFrame()\n",
        "batch_size=20\n",
        "for i in range(0, len(Appearance_characteristics1), batch_size):\n",
        "  ww=sa_model.sentiment_analysis_inference(Appearance_characteristics1[i:i+batch_size],device)\n",
        "  dataFram_Appearance_characteristics1=dataFram_Appearance_characteristics1.append(ww,ignore_index=True)\n",
        "  \n",
        "dataFram_Appearance_characteristics1.columns=['text','label']"
      ]
    },
    {
      "cell_type": "code",
      "execution_count": null,
      "metadata": {
        "colab": {
          "base_uri": "https://localhost:8080/"
        },
        "id": "3LRkh6Vhsd43",
        "outputId": "e5cff1ed-1376-420a-bbb2-91274c751b15"
      },
      "outputs": [
        {
          "name": "stdout",
          "output_type": "stream",
          "text": [
            "positive precent : 9.521476400457292\n",
            "negative precent : 36.24040503021394\n",
            "Neutral precent : 54.23811856932876\n",
            "total comment : 6123\n"
          ]
        }
      ],
      "source": [
        "length_array43=len(dataFram_Appearance_characteristics1)\n",
        "neg=dataFram_Appearance_characteristics1['label'].value_counts()['Negative']\n",
        "pos=dataFram_Appearance_characteristics1['label'].value_counts()['Positive']\n",
        "neu=dataFram_Appearance_characteristics1['label'].value_counts()['Neutral']\n",
        "pos43=pos/length_array43*100\n",
        "neg43=neg/length_array43*100\n",
        "neu43=neu/length_array43*100\n",
        "print(\"positive precent :\" , pos43)\n",
        "print(\"negative precent :\" , neg43)\n",
        "print(\"Neutral precent :\" , neu43)\n",
        "print(\"total comment :\",length_array43)"
      ]
    },
    {
      "cell_type": "markdown",
      "metadata": {
        "id": "9qFc9BGNssPG"
      },
      "source": [
        "اسپورت"
      ]
    },
    {
      "cell_type": "code",
      "execution_count": null,
      "metadata": {
        "id": "LgYyEF6osvbT"
      },
      "outputs": [],
      "source": [
        "Appearance_characteristics2=[]\n",
        "matches=[\"اسپورت\",\"کوسه ای\",\"انتن\",\"دفیوزر\",\"رکاب\",\"رینگ\",\"لوتوس\",\"قاب\",\"لگو\"]\n",
        "for sentence in text:\n",
        "   if any(x in sentence for x in matches):\n",
        "      Appearance_characteristics2.append(sentence)"
      ]
    },
    {
      "cell_type": "code",
      "execution_count": null,
      "metadata": {
        "id": "gL9W6nlhsvbU"
      },
      "outputs": [],
      "source": [
        "import pandas as pd\n",
        "dataFram_Appearance_characteristics2=pd.DataFrame()\n",
        "batch_size=20\n",
        "for i in range(0, len(Appearance_characteristics2), batch_size):\n",
        "  ww=sa_model.sentiment_analysis_inference(Appearance_characteristics2[i:i+batch_size],device)\n",
        "  dataFram_Appearance_characteristics2=dataFram_Appearance_characteristics2.append(ww,ignore_index=True)\n",
        "  \n",
        "dataFram_Appearance_characteristics2.columns=['text','label']"
      ]
    },
    {
      "cell_type": "code",
      "execution_count": null,
      "metadata": {
        "colab": {
          "base_uri": "https://localhost:8080/"
        },
        "id": "emZ8GTxpsvbV",
        "outputId": "baf124e7-618a-4e6b-90f4-fde6c7a39fd5"
      },
      "outputs": [
        {
          "name": "stdout",
          "output_type": "stream",
          "text": [
            "positive precent : 11.637253188886948\n",
            "negative precent : 32.657697012056616\n",
            "Neutral precent : 55.70504979905644\n",
            "total comment : 5723\n"
          ]
        }
      ],
      "source": [
        "length_array44=len(dataFram_Appearance_characteristics2)\n",
        "neg=dataFram_Appearance_characteristics2['label'].value_counts()['Negative']\n",
        "pos=dataFram_Appearance_characteristics2['label'].value_counts()['Positive']\n",
        "neu=dataFram_Appearance_characteristics2['label'].value_counts()['Neutral']\n",
        "pos44=pos/length_array44*100\n",
        "neg44=neg/length_array44*100\n",
        "neu44=neu/length_array44*100\n",
        "print(\"positive precent :\" , pos44)\n",
        "print(\"negative precent :\" , neg44)\n",
        "print(\"Neutral precent :\" , neu44)\n",
        "print(\"total comment :\",length_array44)"
      ]
    },
    {
      "cell_type": "markdown",
      "metadata": {
        "id": "fZq1xkVitF2i"
      },
      "source": [
        "بدنه"
      ]
    },
    {
      "cell_type": "code",
      "execution_count": null,
      "metadata": {
        "id": "UlhFpAKBtI3y"
      },
      "outputs": [],
      "source": [
        "Appearance_characteristics3=[]\n",
        "matches=[\"بدنه\",\"گلگیر\",\"سپر\",\"کاپوت\",\"برف پاکن\",\"شلگیر\",\"دستگیره\",\"پلاک\"]\n",
        "for sentence in text:\n",
        "   if any(x in sentence for x in matches):\n",
        "      Appearance_characteristics3.append(sentence)"
      ]
    },
    {
      "cell_type": "code",
      "execution_count": null,
      "metadata": {
        "id": "cH_Le2LStI3z"
      },
      "outputs": [],
      "source": [
        "import pandas as pd\n",
        "dataFram_Appearance_characteristics3=pd.DataFrame()\n",
        "batch_size=20\n",
        "for i in range(0, len(Appearance_characteristics3), batch_size):\n",
        "  ww=sa_model.sentiment_analysis_inference(Appearance_characteristics3[i:i+batch_size],device)\n",
        "  dataFram_Appearance_characteristics3=dataFram_Appearance_characteristics3.append(ww,ignore_index=True)\n",
        "  \n",
        "dataFram_Appearance_characteristics3.columns=['text','label']"
      ]
    },
    {
      "cell_type": "code",
      "execution_count": null,
      "metadata": {
        "colab": {
          "base_uri": "https://localhost:8080/"
        },
        "id": "HRkHLJMWtI30",
        "outputId": "f487c110-292f-4f9e-9423-6e33979fe3b3"
      },
      "outputs": [
        {
          "name": "stdout",
          "output_type": "stream",
          "text": [
            "positive precent : 11.137884872824632\n",
            "negative precent : 33.45381526104418\n",
            "Neutral precent : 55.408299866131195\n",
            "total comment : 7470\n"
          ]
        }
      ],
      "source": [
        "length_array45=len(dataFram_Appearance_characteristics3)\n",
        "neg=dataFram_Appearance_characteristics3['label'].value_counts()['Negative']\n",
        "pos=dataFram_Appearance_characteristics3['label'].value_counts()['Positive']\n",
        "neu=dataFram_Appearance_characteristics3['label'].value_counts()['Neutral']\n",
        "pos45=pos/length_array45*100\n",
        "neg45=neg/length_array45*100\n",
        "neu45=neu/length_array45*100\n",
        "print(\"positive precent :\" , pos45)\n",
        "print(\"negative precent :\" , neg45)\n",
        "print(\"Neutral precent :\" , neu45)\n",
        "print(\"total comment :\",length_array45)"
      ]
    },
    {
      "cell_type": "markdown",
      "metadata": {
        "id": "ALtNURV90C1_"
      },
      "source": [
        "کلی"
      ]
    },
    {
      "cell_type": "code",
      "execution_count": null,
      "metadata": {
        "colab": {
          "base_uri": "https://localhost:8080/"
        },
        "id": "-r6DBDNu0EOe",
        "outputId": "16ec37b6-737e-4061-8339-2cc09e6c489c"
      },
      "outputs": [
        {
          "name": "stdout",
          "output_type": "stream",
          "text": [
            "positive precent : 10.76553815405629\n",
            "negative precent : 34.117305767771576\n",
            "Neutral precent : 55.11715607817213\n",
            "total comment : 19316\n"
          ]
        }
      ],
      "source": [
        "import statistics\n",
        "pos_43_45 = statistics.mean([pos43,pos44,pos45])\n",
        "neg_43_45=statistics.mean([neg43,neg44,neg45])\n",
        "neu_43_45=statistics.mean([neu43,neu44,neu45])\n",
        "sum_43_45=sum([length_array43,length_array44,length_array45])\n",
        "print(\"positive precent :\" , pos_43_45)\n",
        "print(\"negative precent :\" , neg_43_45)\n",
        "print(\"Neutral precent :\" , neu_43_45)\n",
        "print(\"total comment :\",sum_43_45)"
      ]
    },
    {
      "cell_type": "markdown",
      "metadata": {
        "id": "elGUzGxStd9R"
      },
      "source": [
        "**مولتی پلکس**"
      ]
    },
    {
      "cell_type": "markdown",
      "metadata": {
        "id": "AIXdGLAathQ9"
      },
      "source": [
        "آژیر"
      ]
    },
    {
      "cell_type": "code",
      "execution_count": null,
      "metadata": {
        "id": "1KeQwEJ2tj9C"
      },
      "outputs": [],
      "source": [
        "Muliti_Plex1=[]\n",
        "matches=[\"آژیر\"]\n",
        "for sentence in text:\n",
        "   if any(x in sentence for x in matches):\n",
        "      Muliti_Plex1.append(sentence)"
      ]
    },
    {
      "cell_type": "code",
      "execution_count": null,
      "metadata": {
        "id": "gOaBVcmctj9E"
      },
      "outputs": [],
      "source": [
        "import pandas as pd\n",
        "dataFram_Muliti_Plex1=pd.DataFrame()\n",
        "batch_size=20\n",
        "for i in range(0, len(Muliti_Plex1), batch_size):\n",
        "  ww=sa_model.sentiment_analysis_inference(Muliti_Plex1[i:i+batch_size],device)\n",
        "  dataFram_Muliti_Plex1=dataFram_Muliti_Plex1.append(ww,ignore_index=True)\n",
        "  \n",
        "dataFram_Muliti_Plex1.columns=['text','label']"
      ]
    },
    {
      "cell_type": "code",
      "execution_count": null,
      "metadata": {
        "colab": {
          "base_uri": "https://localhost:8080/"
        },
        "id": "Tl3N_CtEtj9E",
        "outputId": "fe28e6f5-5e0a-4836-8765-5ea58aadee2b"
      },
      "outputs": [
        {
          "name": "stdout",
          "output_type": "stream",
          "text": [
            "positive precent : 0.0\n",
            "negative precent : 57.14285714285714\n",
            "Neutral precent : 42.857142857142854\n",
            "total comment : 14\n"
          ]
        }
      ],
      "source": [
        "length_array46=len(dataFram_Muliti_Plex1)\n",
        "neg=len(dataFram_Muliti_Plex1[dataFram_Muliti_Plex1['label']=='Negative'])\n",
        "pos=len(dataFram_Muliti_Plex1[dataFram_Muliti_Plex1['label']=='Positive'])\n",
        "neu=len(dataFram_Muliti_Plex1[dataFram_Muliti_Plex1['label']=='Neutral'])\n",
        "pos46=pos/length_array46*100\n",
        "neg46=neg/length_array46*100\n",
        "neu46=neu/length_array46*100\n",
        "print(\"positive precent :\" , pos46)\n",
        "print(\"negative precent :\" , neg46)\n",
        "print(\"Neutral precent :\" , neu46)\n",
        "print(\"total comment :\",length_array46)"
      ]
    },
    {
      "cell_type": "markdown",
      "metadata": {
        "id": "PiKBeDZptuYo"
      },
      "source": [
        "آداپتور"
      ]
    },
    {
      "cell_type": "code",
      "execution_count": null,
      "metadata": {
        "id": "6VuUSNP-tyY7"
      },
      "outputs": [],
      "source": [
        "Muliti_Plex2=[]\n",
        "matches=[\"اداپتور\",\"باطری\",\"اتصال\",\"برق\",\"ارور\"]\n",
        "for sentence in text:\n",
        "   if any(x in sentence for x in matches):\n",
        "      Muliti_Plex2.append(sentence)"
      ]
    },
    {
      "cell_type": "code",
      "execution_count": null,
      "metadata": {
        "id": "q5JTc5xvtyY8"
      },
      "outputs": [],
      "source": [
        "import pandas as pd\n",
        "dataFram_Muliti_Plex2=pd.DataFrame()\n",
        "batch_size=20\n",
        "for i in range(0, len(Muliti_Plex2), batch_size):\n",
        "  ww=sa_model.sentiment_analysis_inference(Muliti_Plex2[i:i+batch_size],device)\n",
        "  dataFram_Muliti_Plex2=dataFram_Muliti_Plex2.append(ww,ignore_index=True)\n",
        "  \n",
        "dataFram_Muliti_Plex2.columns=['text','label']"
      ]
    },
    {
      "cell_type": "code",
      "execution_count": null,
      "metadata": {
        "colab": {
          "base_uri": "https://localhost:8080/"
        },
        "id": "HmtyrJbwtyY9",
        "outputId": "70da3d70-afbb-440f-d52b-57a09766c93d"
      },
      "outputs": [
        {
          "name": "stdout",
          "output_type": "stream",
          "text": [
            "positive precent : 9.778330225813134\n",
            "negative precent : 33.95483737310959\n",
            "Neutral precent : 56.266832401077274\n",
            "total comment : 4827\n"
          ]
        }
      ],
      "source": [
        "length_array47=len(dataFram_Muliti_Plex2)\n",
        "neg=dataFram_Muliti_Plex2['label'].value_counts()['Negative']\n",
        "pos=dataFram_Muliti_Plex2['label'].value_counts()['Positive']\n",
        "neu=dataFram_Muliti_Plex2['label'].value_counts()['Neutral']\n",
        "pos47=pos/length_array47*100\n",
        "neg47=neg/length_array47*100\n",
        "neu47=neu/length_array47*100\n",
        "print(\"positive precent :\" , pos47)\n",
        "print(\"negative precent :\" , neg47)\n",
        "print(\"Neutral precent :\" , neu47)\n",
        "print(\"total comment :\",length_array47)"
      ]
    },
    {
      "cell_type": "markdown",
      "metadata": {
        "id": "BNOGiWLzuGGQ"
      },
      "source": [
        "سنسور"
      ]
    },
    {
      "cell_type": "code",
      "execution_count": null,
      "metadata": {
        "id": "v0K7xr9AuJVj"
      },
      "outputs": [],
      "source": [
        "Muliti_Plex3=[]\n",
        "matches=[\"سنسور\"]\n",
        "for sentence in text:\n",
        "   if any(x in sentence for x in matches):\n",
        "      Muliti_Plex3.append(sentence)"
      ]
    },
    {
      "cell_type": "code",
      "execution_count": null,
      "metadata": {
        "id": "pSfFXlgRuJVk"
      },
      "outputs": [],
      "source": [
        "import pandas as pd\n",
        "dataFram_Muliti_Plex3=pd.DataFrame()\n",
        "batch_size=20\n",
        "for i in range(0, len(Muliti_Plex3), batch_size):\n",
        "  ww=sa_model.sentiment_analysis_inference(Muliti_Plex3[i:i+batch_size],device)\n",
        "  dataFram_Muliti_Plex3=dataFram_Muliti_Plex3.append(ww,ignore_index=True)\n",
        "  \n",
        "dataFram_Muliti_Plex3.columns=['text','label']"
      ]
    },
    {
      "cell_type": "code",
      "execution_count": null,
      "metadata": {
        "colab": {
          "base_uri": "https://localhost:8080/"
        },
        "id": "tUVuIz_vuJVl",
        "outputId": "ee91bb82-b084-4dc3-c565-abfbcfaf8f87"
      },
      "outputs": [
        {
          "name": "stdout",
          "output_type": "stream",
          "text": [
            "positive precent : 8.893414799728445\n",
            "negative precent : 28.649015614392397\n",
            "Neutral precent : 62.457569585879156\n",
            "total comment : 1473\n"
          ]
        }
      ],
      "source": [
        "length_array48=len(dataFram_Muliti_Plex3)\n",
        "neg=dataFram_Muliti_Plex3['label'].value_counts()['Negative']\n",
        "pos=dataFram_Muliti_Plex3['label'].value_counts()['Positive']\n",
        "neu=dataFram_Muliti_Plex3['label'].value_counts()['Neutral']\n",
        "pos48=pos/length_array48*100\n",
        "neg48=neg/length_array48*100\n",
        "neu48=neu/length_array48*100\n",
        "print(\"positive precent :\" , pos48)\n",
        "print(\"negative precent :\" , neg48)\n",
        "print(\"Neutral precent :\" , neu48)\n",
        "print(\"total comment :\",length_array48)"
      ]
    },
    {
      "cell_type": "markdown",
      "metadata": {
        "id": "UUtRquuHuYxA"
      },
      "source": [
        "آمپر"
      ]
    },
    {
      "cell_type": "code",
      "execution_count": null,
      "metadata": {
        "id": "44ykZEt6udvz"
      },
      "outputs": [],
      "source": [
        "Muliti_Plex4=[]\n",
        "matches=[\"آمپر\",\"امپر\"]\n",
        "for sentence in text:\n",
        "   if any(x in sentence for x in matches):\n",
        "      Muliti_Plex4.append(sentence)"
      ]
    },
    {
      "cell_type": "code",
      "execution_count": null,
      "metadata": {
        "id": "xaQnYvKUudv0"
      },
      "outputs": [],
      "source": [
        "import pandas as pd\n",
        "dataFram_Muliti_Plex4=pd.DataFrame()\n",
        "batch_size=20\n",
        "for i in range(0, len(Muliti_Plex4), batch_size):\n",
        "  ww=sa_model.sentiment_analysis_inference(Muliti_Plex4[i:i+batch_size],device)\n",
        "  dataFram_Muliti_Plex4=dataFram_Muliti_Plex4.append(ww,ignore_index=True)\n",
        "  \n",
        "dataFram_Muliti_Plex4.columns=['text','label']"
      ]
    },
    {
      "cell_type": "code",
      "execution_count": null,
      "metadata": {
        "colab": {
          "base_uri": "https://localhost:8080/"
        },
        "id": "E5gZTm3kudv0",
        "outputId": "208579c5-dc9a-4748-89fc-4708699ab3d4"
      },
      "outputs": [
        {
          "name": "stdout",
          "output_type": "stream",
          "text": [
            "positive precent : 9.65391621129326\n",
            "negative precent : 35.88342440801457\n",
            "Neutral precent : 54.462659380692166\n",
            "total comment : 1647\n"
          ]
        }
      ],
      "source": [
        "length_array49=len(dataFram_Muliti_Plex4)\n",
        "neg=dataFram_Muliti_Plex4['label'].value_counts()['Negative']\n",
        "pos=dataFram_Muliti_Plex4['label'].value_counts()['Positive']\n",
        "neu=dataFram_Muliti_Plex4['label'].value_counts()['Neutral']\n",
        "pos49=pos/length_array49*100\n",
        "neg49=neg/length_array49*100\n",
        "neu49=neu/length_array49*100\n",
        "print(\"positive precent :\" , pos49)\n",
        "print(\"negative precent :\" , neg49)\n",
        "print(\"Neutral precent :\" , neu49)\n",
        "print(\"total comment :\",length_array49)"
      ]
    },
    {
      "cell_type": "markdown",
      "metadata": {
        "id": "kVC31paqsJHC"
      },
      "source": [
        "کلی"
      ]
    },
    {
      "cell_type": "code",
      "execution_count": null,
      "metadata": {
        "colab": {
          "base_uri": "https://localhost:8080/"
        },
        "id": "RJswWwwnHTFR",
        "outputId": "29ad4d53-c7af-4e36-f835-d2b6074bba67"
      },
      "outputs": [
        {
          "name": "stdout",
          "output_type": "stream",
          "text": [
            "positive precent : 7.08141530920871\n",
            "negative precent : 38.90753363459342\n",
            "Neutral precent : 54.011051056197864\n",
            "total comment : 7961\n"
          ]
        }
      ],
      "source": [
        "import statistics\n",
        "pos_46_49 = statistics.mean([pos46,pos47,pos48,pos49])\n",
        "neg_46_49=statistics.mean([neg46,neg47,neg48,neg49])\n",
        "neu_46_49=statistics.mean([neu46,neu47,neu48,neu49])\n",
        "sum_46_49=sum([length_array46,length_array47,length_array48,length_array49])\n",
        "print(\"positive precent :\" , pos_46_49)\n",
        "print(\"negative precent :\" , neg_46_49)\n",
        "print(\"Neutral precent :\" , neu_46_49)\n",
        "print(\"total comment :\",sum_46_49)"
      ]
    },
    {
      "cell_type": "markdown",
      "metadata": {
        "id": "IEKOsSHRum1I"
      },
      "source": [
        "**تجهیزات جانبی**"
      ]
    },
    {
      "cell_type": "markdown",
      "metadata": {
        "id": "ZTJE1R3Ruq-Y"
      },
      "source": [
        "قفل فرمون"
      ]
    },
    {
      "cell_type": "code",
      "execution_count": null,
      "metadata": {
        "id": "Y5-t63ZevK5-"
      },
      "outputs": [],
      "source": [
        "Accessories1=[]\n",
        "matches=[\"قفل فرمون\"]\n",
        "for sentence in text:\n",
        "   if any(x in sentence for x in matches):\n",
        "      Accessories1.append(sentence)"
      ]
    },
    {
      "cell_type": "code",
      "execution_count": null,
      "metadata": {
        "id": "rCsfz0MrvK6A"
      },
      "outputs": [],
      "source": [
        "import pandas as pd\n",
        "dataFram_Accessories1=pd.DataFrame()\n",
        "batch_size=20\n",
        "for i in range(0, len(Accessories1), batch_size):\n",
        "  ww=sa_model.sentiment_analysis_inference(Accessories1[i:i+batch_size],device)\n",
        "  dataFram_Accessories1=dataFram_Accessories1.append(ww,ignore_index=True)\n",
        "  \n",
        "dataFram_Accessories1.columns=['text','label']"
      ]
    },
    {
      "cell_type": "code",
      "execution_count": null,
      "metadata": {
        "colab": {
          "base_uri": "https://localhost:8080/"
        },
        "id": "0gLZrwVvvK6B",
        "outputId": "c33afd7c-e4b8-417c-fdd2-cfa9f927b85c"
      },
      "outputs": [
        {
          "name": "stdout",
          "output_type": "stream",
          "text": [
            "positive precent : 14.634146341463413\n",
            "negative precent : 26.82926829268293\n",
            "Neutral precent : 58.536585365853654\n",
            "total comment : 41\n"
          ]
        }
      ],
      "source": [
        "length_array50=len(dataFram_Accessories1)\n",
        "neg=dataFram_Accessories1['label'].value_counts()['Negative']\n",
        "pos=dataFram_Accessories1['label'].value_counts()['Positive']\n",
        "neu=dataFram_Accessories1['label'].value_counts()['Neutral']\n",
        "pos50=pos/length_array50*100\n",
        "neg50=neg/length_array50*100\n",
        "neu50=neu/length_array50*100\n",
        "print(\"positive precent :\" , pos50)\n",
        "print(\"negative precent :\" , neg50)\n",
        "print(\"Neutral precent :\" , neu50)\n",
        "print(\"total comment :\",length_array50)"
      ]
    },
    {
      "cell_type": "markdown",
      "metadata": {
        "id": "L-5wfW5Muslr"
      },
      "source": [
        "زنجیر"
      ]
    },
    {
      "cell_type": "code",
      "execution_count": null,
      "metadata": {
        "id": "RfLuaNagvLjU"
      },
      "outputs": [],
      "source": [
        "Accessories2=[]\n",
        "matches=[\"زنجیر\"]\n",
        "for sentence in text:\n",
        "   if any(x in sentence for x in matches):\n",
        "      Accessories2.append(sentence)"
      ]
    },
    {
      "cell_type": "code",
      "execution_count": null,
      "metadata": {
        "id": "XhsUW4bSvLjV"
      },
      "outputs": [],
      "source": [
        "import pandas as pd\n",
        "dataFram_Accessories2=pd.DataFrame()\n",
        "batch_size=20\n",
        "for i in range(0, len(Accessories2), batch_size):\n",
        "  ww=sa_model.sentiment_analysis_inference(Accessories2[i:i+batch_size],device)\n",
        "  dataFram_Accessories2=dataFram_Accessories2.append(ww,ignore_index=True)\n",
        "  \n",
        "dataFram_Accessories2.columns=['text','label']"
      ]
    },
    {
      "cell_type": "code",
      "execution_count": null,
      "metadata": {
        "colab": {
          "base_uri": "https://localhost:8080/"
        },
        "id": "ghyM7juPvLjW",
        "outputId": "35a9a255-0ad9-40fb-944f-1dc9777d0a39"
      },
      "outputs": [
        {
          "name": "stdout",
          "output_type": "stream",
          "text": [
            "positive precent : 14.117647058823529\n",
            "negative precent : 35.88235294117647\n",
            "Neutral precent : 50.0\n",
            "total comment : 170\n"
          ]
        }
      ],
      "source": [
        "length_array51=len(dataFram_Accessories2)\n",
        "neg=dataFram_Accessories2['label'].value_counts()['Negative']\n",
        "pos=dataFram_Accessories2['label'].value_counts()['Positive']\n",
        "neu=dataFram_Accessories2['label'].value_counts()['Neutral']\n",
        "pos51=pos/length_array51*100\n",
        "neg51=neg/length_array51*100\n",
        "neu51=neu/length_array51*100\n",
        "print(\"positive precent :\" , pos51)\n",
        "print(\"negative precent :\" , neg51)\n",
        "print(\"Neutral precent :\" , neu51)\n",
        "print(\"total comment :\",length_array51)"
      ]
    },
    {
      "cell_type": "markdown",
      "metadata": {
        "id": "lrdaxavkusox"
      },
      "source": [
        "صندلی کودک"
      ]
    },
    {
      "cell_type": "code",
      "execution_count": null,
      "metadata": {
        "id": "FI5mQVHAvMF5"
      },
      "outputs": [],
      "source": [
        "Accessories3=[]\n",
        "matches=[\"صندلی کودک\"]\n",
        "for sentence in text:\n",
        "   if any(x in sentence for x in matches):\n",
        "      Accessories3.append(sentence)"
      ]
    },
    {
      "cell_type": "code",
      "execution_count": null,
      "metadata": {
        "id": "25jGYFDsvMF6"
      },
      "outputs": [],
      "source": [
        "import pandas as pd\n",
        "dataFram_Accessories3=pd.DataFrame()\n",
        "batch_size=20\n",
        "for i in range(0, len(Accessories3), batch_size):\n",
        "  ww=sa_model.sentiment_analysis_inference(Accessories3[i:i+batch_size],device)\n",
        "  dataFram_Accessories3=dataFram_Accessories3.append(ww,ignore_index=True)\n",
        "  \n",
        "dataFram_Accessories3.columns=['text','label']"
      ]
    },
    {
      "cell_type": "code",
      "execution_count": null,
      "metadata": {
        "colab": {
          "base_uri": "https://localhost:8080/"
        },
        "id": "Uy1mbP-vvMF7",
        "outputId": "3feff0bf-2a55-4e6b-82a1-665896f8056c"
      },
      "outputs": [
        {
          "name": "stdout",
          "output_type": "stream",
          "text": [
            "positive precent : 0.0\n",
            "negative precent : 33.33333333333333\n",
            "Neutral precent : 66.66666666666666\n",
            "total comment : 9\n"
          ]
        }
      ],
      "source": [
        "length_array52=len(dataFram_Accessories3)\n",
        "neg=len(dataFram_Accessories3[dataFram_Accessories3['label']=='Negative'])\n",
        "pos=len(dataFram_Accessories3[dataFram_Accessories3['label']=='Positive'])\n",
        "neu=len(dataFram_Accessories3[dataFram_Accessories3['label']=='Neutral'])\n",
        "pos52=pos/length_array52*100\n",
        "neg52=neg/length_array52*100\n",
        "neu52=neu/length_array52*100\n",
        "print(\"positive precent :\" , pos52)\n",
        "print(\"negative precent :\" , neg52)\n",
        "print(\"Neutral precent :\" , neu52)\n",
        "print(\"total comment :\",length_array52)"
      ]
    },
    {
      "cell_type": "markdown",
      "metadata": {
        "id": "kr8vkvxGustj"
      },
      "source": [
        "قفل پدال"
      ]
    },
    {
      "cell_type": "code",
      "execution_count": null,
      "metadata": {
        "id": "AOKEP7YRvMn5"
      },
      "outputs": [],
      "source": [
        "Accessories4=[]\n",
        "matches=[\"قفل پدال\"]\n",
        "for sentence in text:\n",
        "   if any(x in sentence for x in matches):\n",
        "      Accessories4.append(sentence)"
      ]
    },
    {
      "cell_type": "code",
      "execution_count": null,
      "metadata": {
        "id": "5n2licxcvMn6"
      },
      "outputs": [],
      "source": [
        "import pandas as pd\n",
        "dataFram_Accessories4=pd.DataFrame()\n",
        "batch_size=20\n",
        "for i in range(0, len(Accessories4), batch_size):\n",
        "  ww=sa_model.sentiment_analysis_inference(Accessories4[i:i+batch_size],device)\n",
        "  dataFram_Accessories4=dataFram_Accessories4.append(ww,ignore_index=True)\n",
        "  \n",
        "dataFram_Accessories4.columns=['text','label']"
      ]
    },
    {
      "cell_type": "code",
      "execution_count": null,
      "metadata": {
        "colab": {
          "base_uri": "https://localhost:8080/"
        },
        "id": "-QDDF3P-vMn6",
        "outputId": "7b122220-edc0-4262-ae3f-34eedd8842c1"
      },
      "outputs": [
        {
          "name": "stdout",
          "output_type": "stream",
          "text": [
            "positive precent : 9.782608695652174\n",
            "negative precent : 22.82608695652174\n",
            "Neutral precent : 67.3913043478261\n",
            "total comment : 92\n"
          ]
        }
      ],
      "source": [
        "length_array53=len(dataFram_Accessories4)\n",
        "neg=dataFram_Accessories4['label'].value_counts()['Negative']\n",
        "pos=dataFram_Accessories4['label'].value_counts()['Positive']\n",
        "neu=dataFram_Accessories4['label'].value_counts()['Neutral']\n",
        "pos53=pos/length_array53*100\n",
        "neg53=neg/length_array53*100\n",
        "neu53=neu/length_array53*100\n",
        "print(\"positive precent :\" , pos53)\n",
        "print(\"negative precent :\" , neg53)\n",
        "print(\"Neutral precent :\" , neu53)\n",
        "print(\"total comment :\",length_array53)"
      ]
    },
    {
      "cell_type": "markdown",
      "metadata": {
        "id": "LZkLYjkMuswU"
      },
      "source": [
        "اچار"
      ]
    },
    {
      "cell_type": "code",
      "execution_count": null,
      "metadata": {
        "id": "JRfNWid6vNHP"
      },
      "outputs": [],
      "source": [
        "Accessories5=[]\n",
        "matches=[\"آچار\",\"اچار\"]\n",
        "for sentence in text:\n",
        "   if any(x in sentence for x in matches):\n",
        "      Accessories5.append(sentence)"
      ]
    },
    {
      "cell_type": "code",
      "execution_count": null,
      "metadata": {
        "id": "H0bB_v2UvNHP"
      },
      "outputs": [],
      "source": [
        "import pandas as pd\n",
        "dataFram_Accessories5=pd.DataFrame()\n",
        "batch_size=20\n",
        "for i in range(0, len(Accessories5), batch_size):\n",
        "  ww=sa_model.sentiment_analysis_inference(Accessories5[i:i+batch_size],device)\n",
        "  dataFram_Accessories5=dataFram_Accessories5.append(ww,ignore_index=True)\n",
        "  \n",
        "dataFram_Accessories5.columns=['text','label']"
      ]
    },
    {
      "cell_type": "code",
      "execution_count": null,
      "metadata": {
        "colab": {
          "base_uri": "https://localhost:8080/"
        },
        "id": "2_p6-lqjvNHQ",
        "outputId": "e52b6078-8af5-43e9-b299-24ad6f8317bc"
      },
      "outputs": [
        {
          "name": "stdout",
          "output_type": "stream",
          "text": [
            "positive precent : 14.347202295552366\n",
            "negative precent : 37.87661406025825\n",
            "Neutral precent : 47.77618364418939\n",
            "total comment : 697\n"
          ]
        }
      ],
      "source": [
        "length_array54=len(dataFram_Accessories5)\n",
        "neg=dataFram_Accessories5['label'].value_counts()['Negative']\n",
        "pos=dataFram_Accessories5['label'].value_counts()['Positive']\n",
        "neu=dataFram_Accessories5['label'].value_counts()['Neutral']\n",
        "pos54=pos/length_array54*100\n",
        "neg54=neg/length_array54*100\n",
        "neu54=neu/length_array54*100\n",
        "print(\"positive precent :\" , pos54)\n",
        "print(\"negative precent :\" , neg54)\n",
        "print(\"Neutral precent :\" , neu54)\n",
        "print(\"total comment :\",length_array54)"
      ]
    },
    {
      "cell_type": "markdown",
      "metadata": {
        "id": "vMQcVUbquszn"
      },
      "source": [
        "کمک های اولیه"
      ]
    },
    {
      "cell_type": "code",
      "execution_count": null,
      "metadata": {
        "id": "tA9uUHXovNlp"
      },
      "outputs": [],
      "source": [
        "Accessories6=[]\n",
        "matches=[\"کمک\",\"جعبه کمک\",\"اولیه\"]\n",
        "for sentence in text:\n",
        "   if any(x in sentence for x in matches):\n",
        "      Accessories6.append(sentence)"
      ]
    },
    {
      "cell_type": "code",
      "execution_count": null,
      "metadata": {
        "id": "8FAbdrJZvNlp"
      },
      "outputs": [],
      "source": [
        "import pandas as pd\n",
        "dataFram_Accessories6=pd.DataFrame()\n",
        "batch_size=20\n",
        "for i in range(0, len(Accessories6), batch_size):\n",
        "  ww=sa_model.sentiment_analysis_inference(Accessories6[i:i+batch_size],device)\n",
        "  dataFram_Accessories6=dataFram_Accessories6.append(ww,ignore_index=True)\n",
        "  \n",
        "dataFram_Accessories6.columns=['text','label']"
      ]
    },
    {
      "cell_type": "code",
      "execution_count": null,
      "metadata": {
        "colab": {
          "base_uri": "https://localhost:8080/"
        },
        "id": "hK5rT0uZvNlq",
        "outputId": "44e5b021-4e4c-4d79-8e87-5cd9d2902fc0"
      },
      "outputs": [
        {
          "name": "stdout",
          "output_type": "stream",
          "text": [
            "positive precent : 23.52941176470588\n",
            "negative precent : 26.285479226655696\n",
            "Neutral precent : 50.18510900863842\n",
            "total comment : 2431\n"
          ]
        }
      ],
      "source": [
        "length_array55=len(dataFram_Accessories6)\n",
        "neg=dataFram_Accessories6['label'].value_counts()['Negative']\n",
        "pos=dataFram_Accessories6['label'].value_counts()['Positive']\n",
        "neu=dataFram_Accessories6['label'].value_counts()['Neutral']\n",
        "pos55=pos/length_array55*100\n",
        "neg55=neg/length_array55*100\n",
        "neu55=neu/length_array55*100\n",
        "print(\"positive precent :\" , pos55)\n",
        "print(\"negative precent :\" , neg55)\n",
        "print(\"Neutral precent :\" , neu55)\n",
        "print(\"total comment :\",length_array55)"
      ]
    },
    {
      "cell_type": "markdown",
      "metadata": {
        "id": "0BJf-GjWu3w8"
      },
      "source": [
        "جک"
      ]
    },
    {
      "cell_type": "code",
      "execution_count": null,
      "metadata": {
        "id": "L17b-QWEvOJA"
      },
      "outputs": [],
      "source": [
        "Accessories7=[]\n",
        "matches=[\"جک\"]\n",
        "for sentence in text:\n",
        "   if any(x in sentence for x in matches):\n",
        "      Accessories7.append(sentence)"
      ]
    },
    {
      "cell_type": "code",
      "execution_count": null,
      "metadata": {
        "colab": {
          "background_save": true
        },
        "id": "ZC2LnMZevOJB"
      },
      "outputs": [],
      "source": [
        "import pandas as pd\n",
        "dataFram_Accessories7=pd.DataFrame()\n",
        "batch_size=20\n",
        "for i in range(0, len(Accessories7), batch_size):\n",
        "  ww=sa_model.sentiment_analysis_inference(Accessories7[i:i+batch_size],device)\n",
        "  dataFram_Accessories7=dataFram_Accessories7.append(ww,ignore_index=True)\n",
        "  \n",
        "dataFram_Accessories7.columns=['text','label']"
      ]
    },
    {
      "cell_type": "code",
      "execution_count": null,
      "metadata": {
        "colab": {
          "background_save": true
        },
        "id": "o96Wmjc7vOJB",
        "outputId": "a6cfb297-a41a-4993-dabc-994ff10d2d6c"
      },
      "outputs": [
        {
          "name": "stdout",
          "output_type": "stream",
          "text": [
            "positive precent : 17.67881241565452\n",
            "negative precent : 32.523616734143054\n",
            "Neutral precent : 49.797570850202426\n",
            "total comment : 741\n"
          ]
        }
      ],
      "source": [
        "length_array56=len(dataFram_Accessories7)\n",
        "neg=dataFram_Accessories7['label'].value_counts()['Negative']\n",
        "pos=dataFram_Accessories7['label'].value_counts()['Positive']\n",
        "neu=dataFram_Accessories7['label'].value_counts()['Neutral']\n",
        "pos56=pos/length_array56*100\n",
        "neg56=neg/length_array56*100\n",
        "neu56=neu/length_array56*100\n",
        "print(\"positive precent :\" , pos56)\n",
        "print(\"negative precent :\" , neg56)\n",
        "print(\"Neutral precent :\" , neu56)\n",
        "print(\"total comment :\",length_array56)"
      ]
    },
    {
      "cell_type": "markdown",
      "metadata": {
        "id": "gZcWxigDu31I"
      },
      "source": [
        "بکسل"
      ]
    },
    {
      "cell_type": "code",
      "execution_count": null,
      "metadata": {
        "colab": {
          "background_save": true
        },
        "id": "mjneEfCxvOsu"
      },
      "outputs": [],
      "source": [
        "Accessories8=[]\n",
        "matches=[\"یدکش\",\"بکسل\"]\n",
        "for sentence in text:\n",
        "   if any(x in sentence for x in matches):\n",
        "      Accessories8.append(sentence)"
      ]
    },
    {
      "cell_type": "code",
      "execution_count": null,
      "metadata": {
        "colab": {
          "background_save": true
        },
        "id": "H3pohNT-vOsv"
      },
      "outputs": [],
      "source": [
        "import pandas as pd\n",
        "dataFram_Accessories8=pd.DataFrame()\n",
        "batch_size=20\n",
        "for i in range(0, len(Accessories8), batch_size):\n",
        "  ww=sa_model.sentiment_analysis_inference(Accessories8[i:i+batch_size],device)\n",
        "  dataFram_Accessories8=dataFram_Accessories8.append(ww,ignore_index=True)\n",
        "  \n",
        "dataFram_Accessories8.columns=['text','label']"
      ]
    },
    {
      "cell_type": "code",
      "execution_count": null,
      "metadata": {
        "colab": {
          "background_save": true
        },
        "id": "4U4WenzwvOsv",
        "outputId": "aa5632f5-16b8-41b1-f9bd-dc3cc9073f32"
      },
      "outputs": [
        {
          "name": "stdout",
          "output_type": "stream",
          "text": [
            "positive precent : 16.666666666666664\n",
            "negative precent : 29.48717948717949\n",
            "Neutral precent : 53.84615384615385\n",
            "total comment : 78\n"
          ]
        }
      ],
      "source": [
        "length_array57=len(dataFram_Accessories8)\n",
        "neg=dataFram_Accessories8['label'].value_counts()['Negative']\n",
        "pos=dataFram_Accessories8['label'].value_counts()['Positive']\n",
        "neu=dataFram_Accessories8['label'].value_counts()['Neutral']\n",
        "pos57=pos/length_array57*100\n",
        "neg57=neg/length_array57*100\n",
        "neu57=neu/length_array57*100\n",
        "print(\"positive precent :\" , pos57)\n",
        "print(\"negative precent :\" , neg57)\n",
        "print(\"Neutral precent :\" , neu57)\n",
        "print(\"total comment :\",length_array57)"
      ]
    },
    {
      "cell_type": "markdown",
      "metadata": {
        "id": "0RPi5_N3vG8V"
      },
      "source": [
        "زاپاس"
      ]
    },
    {
      "cell_type": "code",
      "execution_count": null,
      "metadata": {
        "colab": {
          "background_save": true
        },
        "id": "fRVyvw3_vPL5"
      },
      "outputs": [],
      "source": [
        "Accessories9=[]\n",
        "matches=[\"زاپاس\"]\n",
        "for sentence in text:\n",
        "   if any(x in sentence for x in matches):\n",
        "      Accessories9.append(sentence)"
      ]
    },
    {
      "cell_type": "code",
      "execution_count": null,
      "metadata": {
        "colab": {
          "background_save": true
        },
        "id": "G_jC3wg5vPL6"
      },
      "outputs": [],
      "source": [
        "import pandas as pd\n",
        "dataFram_Accessories9=pd.DataFrame()\n",
        "batch_size=20\n",
        "for i in range(0, len(Accessories9), batch_size):\n",
        "  ww=sa_model.sentiment_analysis_inference(Accessories9[i:i+batch_size],device)\n",
        "  dataFram_Accessories9=dataFram_Accessories9.append(ww,ignore_index=True)\n",
        "  \n",
        "dataFram_Accessories9.columns=['text','label']"
      ]
    },
    {
      "cell_type": "code",
      "execution_count": null,
      "metadata": {
        "colab": {
          "background_save": true
        },
        "id": "l7H3N3RPvPL6",
        "outputId": "31621e9a-09e8-44a7-9956-55dc2fb2aec7"
      },
      "outputs": [
        {
          "name": "stdout",
          "output_type": "stream",
          "text": [
            "positive precent : 12.109375\n",
            "negative precent : 28.90625\n",
            "Neutral precent : 58.984375\n",
            "total comment : 256\n"
          ]
        }
      ],
      "source": [
        "length_array58=len(dataFram_Accessories9)\n",
        "neg=dataFram_Accessories9['label'].value_counts()['Negative']\n",
        "pos=dataFram_Accessories9['label'].value_counts()['Positive']\n",
        "neu=dataFram_Accessories9['label'].value_counts()['Neutral']\n",
        "pos58=pos/length_array58*100\n",
        "neg58=neg/length_array58*100\n",
        "neu58=neu/length_array58*100\n",
        "print(\"positive precent :\" , pos58)\n",
        "print(\"negative precent :\" , neg58)\n",
        "print(\"Neutral precent :\" , neu58)\n",
        "print(\"total comment :\",length_array58)"
      ]
    },
    {
      "cell_type": "markdown",
      "metadata": {
        "id": "WsEZWF5uvshW"
      },
      "source": [
        "کلی"
      ]
    },
    {
      "cell_type": "code",
      "execution_count": null,
      "metadata": {
        "colab": {
          "background_save": true
        },
        "id": "KsE136GuK5qa",
        "outputId": "51e85e62-4fe0-49bb-8dc3-f7f3b464101e"
      },
      "outputs": [
        {
          "name": "stdout",
          "output_type": "stream",
          "text": [
            "positive precent : 13.651763359835394\n",
            "negative precent : 30.438909003550105\n",
            "Neutral precent : 56.62485496511151\n",
            "total comment : 4515\n"
          ]
        }
      ],
      "source": [
        "import statistics\n",
        "pos_50_58 = statistics.mean([pos50,pos51,pos52,pos53,pos54,pos55,pos56,pos57,pos58])\n",
        "neg_50_58=statistics.mean([neg50,neg51,neg52,neg53,neg54,neg55,neg56,neg57,neg58])\n",
        "neu_50_58=statistics.mean([neu50,neu51,neu52,neu53,neu54,neu56,neu57,neu58])\n",
        "sum_50_58=sum([length_array50,length_array51,length_array52,length_array53,length_array54,length_array55,length_array56,length_array57,length_array58])\n",
        "print(\"positive precent :\" , pos_50_58)\n",
        "print(\"negative precent :\" , neg_50_58)\n",
        "print(\"Neutral precent :\" , neu_50_58)\n",
        "print(\"total comment :\",sum_50_58)"
      ]
    },
    {
      "cell_type": "markdown",
      "metadata": {
        "id": "xb8gs4T4wW68"
      },
      "source": [
        "**خدمات**"
      ]
    },
    {
      "cell_type": "markdown",
      "metadata": {
        "id": "UGloRWVIwZPq"
      },
      "source": [
        "امداد خودرو"
      ]
    },
    {
      "cell_type": "code",
      "execution_count": null,
      "metadata": {
        "colab": {
          "background_save": true
        },
        "id": "q_xm-HqfwjOI"
      },
      "outputs": [],
      "source": [
        "Services1=[]\n",
        "matches=[\"امداد خودرو\"]\n",
        "for sentence in text:\n",
        "   if any(x in sentence for x in matches):\n",
        "      Services1.append(sentence)"
      ]
    },
    {
      "cell_type": "code",
      "execution_count": null,
      "metadata": {
        "colab": {
          "background_save": true
        },
        "id": "eQYQh46iwjOJ"
      },
      "outputs": [],
      "source": [
        "import pandas as pd\n",
        "dataFram_Services1=pd.DataFrame()\n",
        "batch_size=20\n",
        "for i in range(0, len(Services1), batch_size):\n",
        "  ww=sa_model.sentiment_analysis_inference(Services1[i:i+batch_size],device)\n",
        "  dataFram_Services1=dataFram_Services1.append(ww,ignore_index=True)\n",
        "  \n",
        "dataFram_Services1.columns=['text','label']"
      ]
    },
    {
      "cell_type": "code",
      "execution_count": null,
      "metadata": {
        "colab": {
          "background_save": true
        },
        "id": "Jx_MBSgGwjOK",
        "outputId": "fcf57b67-0841-4b24-b30e-0e1884002a80"
      },
      "outputs": [
        {
          "name": "stdout",
          "output_type": "stream",
          "text": [
            "positive precent : 9.523809523809524\n",
            "negative precent : 42.857142857142854\n",
            "Neutral precent : 47.61904761904761\n",
            "total comment : 42\n"
          ]
        }
      ],
      "source": [
        "length_array59=len(dataFram_Services1)\n",
        "neg=dataFram_Services1['label'].value_counts()['Negative']\n",
        "pos=dataFram_Services1['label'].value_counts()['Positive']\n",
        "neu=dataFram_Services1['label'].value_counts()['Neutral']\n",
        "pos59=pos/length_array59*100\n",
        "neg59=neg/length_array59*100\n",
        "neu59=neu/length_array59*100\n",
        "print(\"positive precent :\" , pos59)\n",
        "print(\"negative precent :\" , neg59)\n",
        "print(\"Neutral precent :\" , neu59)\n",
        "print(\"total comment :\",length_array59)"
      ]
    },
    {
      "cell_type": "markdown",
      "metadata": {
        "id": "9sasYOBuwZUg"
      },
      "source": [
        "نمایندگی"
      ]
    },
    {
      "cell_type": "code",
      "execution_count": null,
      "metadata": {
        "colab": {
          "background_save": true
        },
        "id": "EfwezCqUwj6P"
      },
      "outputs": [],
      "source": [
        "Services2=[]\n",
        "matches=[\"نمایندگی\"]\n",
        "for sentence in text:\n",
        "   if any(x in sentence for x in matches):\n",
        "      Services2.append(sentence)"
      ]
    },
    {
      "cell_type": "code",
      "execution_count": null,
      "metadata": {
        "colab": {
          "background_save": true
        },
        "id": "jwBVd02hwj6P"
      },
      "outputs": [],
      "source": [
        "import pandas as pd\n",
        "dataFram_Services2=pd.DataFrame()\n",
        "batch_size=20\n",
        "for i in range(0, len(Services2), batch_size):\n",
        "  ww=sa_model.sentiment_analysis_inference(Services2[i:i+batch_size],device)\n",
        "  dataFram_Services2=dataFram_Services2.append(ww,ignore_index=True)\n",
        "  \n",
        "dataFram_Services2.columns=['text','label']"
      ]
    },
    {
      "cell_type": "code",
      "execution_count": null,
      "metadata": {
        "colab": {
          "background_save": true
        },
        "id": "HgD9luO3wj6Q",
        "outputId": "3ddd6622-5cbc-46f1-e61e-eea5298fbf78"
      },
      "outputs": [
        {
          "name": "stdout",
          "output_type": "stream",
          "text": [
            "positive precent : 20.411222959948596\n",
            "negative precent : 38.93767402013279\n",
            "Neutral precent : 40.65110301991861\n",
            "total comment : 4669\n"
          ]
        }
      ],
      "source": [
        "length_array60=len(dataFram_Services2)\n",
        "neg=dataFram_Services2['label'].value_counts()['Negative']\n",
        "pos=dataFram_Services2['label'].value_counts()['Positive']\n",
        "neu=dataFram_Services2['label'].value_counts()['Neutral']\n",
        "pos60=pos/length_array60*100\n",
        "neg60=neg/length_array60*100\n",
        "neu60=neu/length_array60*100\n",
        "print(\"positive precent :\" , pos60)\n",
        "print(\"negative precent :\" , neg60)\n",
        "print(\"Neutral precent :\" , neu60)\n",
        "print(\"total comment :\",length_array60)"
      ]
    },
    {
      "cell_type": "markdown",
      "metadata": {
        "id": "jg25KlqYwZim"
      },
      "source": [
        "تعمیرگاه"
      ]
    },
    {
      "cell_type": "code",
      "execution_count": null,
      "metadata": {
        "colab": {
          "background_save": true
        },
        "id": "HUxNCjUewkXg"
      },
      "outputs": [],
      "source": [
        "Services3=[]\n",
        "matches=[\"تعمیرگاه\"]\n",
        "for sentence in text:\n",
        "   if any(x in sentence for x in matches):\n",
        "      Services3.append(sentence)"
      ]
    },
    {
      "cell_type": "code",
      "execution_count": null,
      "metadata": {
        "colab": {
          "background_save": true
        },
        "id": "DTQ6R8pSwkXh"
      },
      "outputs": [],
      "source": [
        "import pandas as pd\n",
        "dataFram_Services3=pd.DataFrame()\n",
        "batch_size=20\n",
        "for i in range(0, len(Services3), batch_size):\n",
        "  ww=sa_model.sentiment_analysis_inference(Services3[i:i+batch_size],device)\n",
        "  dataFram_Services3=dataFram_Services3.append(ww,ignore_index=True)\n",
        "  \n",
        "dataFram_Services3.columns=['text','label']"
      ]
    },
    {
      "cell_type": "code",
      "execution_count": null,
      "metadata": {
        "colab": {
          "background_save": true
        },
        "id": "9xlbGkgKwkXh",
        "outputId": "516a3f84-7b12-4fc7-94b2-a5ffe9ac8452"
      },
      "outputs": [
        {
          "name": "stdout",
          "output_type": "stream",
          "text": [
            "positive precent : 15.96244131455399\n",
            "negative precent : 41.31455399061033\n",
            "Neutral precent : 42.72300469483568\n",
            "total comment : 639\n"
          ]
        }
      ],
      "source": [
        "length_array61=len(dataFram_Services3)\n",
        "neg=dataFram_Services3['label'].value_counts()['Negative']\n",
        "pos=dataFram_Services3['label'].value_counts()['Positive']\n",
        "neu=dataFram_Services3['label'].value_counts()['Neutral']\n",
        "pos61=pos/length_array61*100\n",
        "neg61=neg/length_array61*100\n",
        "neu61=neu/length_array61*100\n",
        "print(\"positive precent :\" , pos61)\n",
        "print(\"negative precent :\" , neg61)\n",
        "print(\"Neutral precent :\" , neu61)\n",
        "print(\"total comment :\",length_array61)"
      ]
    },
    {
      "cell_type": "markdown",
      "metadata": {
        "id": "nl-q9w-FwZZo"
      },
      "source": [
        "کارخانه"
      ]
    },
    {
      "cell_type": "code",
      "execution_count": null,
      "metadata": {
        "colab": {
          "background_save": true
        },
        "id": "9oZB-E4owk3B"
      },
      "outputs": [],
      "source": [
        "Services4=[]\n",
        "matches=[\"کارخونه\",\"کارخانه\"]\n",
        "for sentence in text:\n",
        "   if any(x in sentence for x in matches):\n",
        "      Services4.append(sentence)"
      ]
    },
    {
      "cell_type": "code",
      "execution_count": null,
      "metadata": {
        "id": "OjDYoEScwk3C"
      },
      "outputs": [],
      "source": [
        "import pandas as pd\n",
        "dataFram_Services4=pd.DataFrame()\n",
        "batch_size=20\n",
        "for i in range(0, len(Services4), batch_size):\n",
        "  ww=sa_model.sentiment_analysis_inference(Services4[i:i+batch_size],device)\n",
        "  dataFram_Services4=dataFram_Services4.append(ww,ignore_index=True)\n",
        "  \n",
        "dataFram_Services4.columns=['text','label']"
      ]
    },
    {
      "cell_type": "code",
      "execution_count": null,
      "metadata": {
        "id": "cWPG54DNwk3D"
      },
      "outputs": [],
      "source": [
        "length_array62=len(dataFram_Services4)\n",
        "neg=dataFram_Services4['label'].value_counts()['Negative']\n",
        "pos=dataFram_Services4['label'].value_counts()['Positive']\n",
        "neu=dataFram_Services4['label'].value_counts()['Neutral']\n",
        "pos62=pos/length_array62*100\n",
        "neg62=neg/length_array62*100\n",
        "neu62=neu/length_array62*100\n",
        "print(\"positive precent :\" , pos62)\n",
        "print(\"negative precent :\" , neg62)\n",
        "print(\"Neutral precent :\" , neu62)\n",
        "print(\"total comment :\",length_array62)"
      ]
    },
    {
      "cell_type": "markdown",
      "metadata": {
        "id": "Dd5fMFgfxscW"
      },
      "source": [
        "کلی"
      ]
    },
    {
      "cell_type": "code",
      "execution_count": null,
      "metadata": {
        "id": "pv3MwerzPEEq"
      },
      "outputs": [],
      "source": [
        "import statistics\n",
        "pos_59_62 = statistics.mean([pos59,pos60,pos61,pos62])\n",
        "neg_59_62=statistics.mean([neg59,neg60,neg61,neg62])\n",
        "neu_59_62=statistics.mean([neu59,neu60,neu61,neu62])\n",
        "sum_59_62=sum([length_array59,length_array60,length_array61,length_array62])\n",
        "print(\"positive precent :\" , pos_59_62)\n",
        "print(\"negative precent :\" , neg_59_62)\n",
        "print(\"Neutral precent :\" , neu_59_62)\n",
        "print(\"total comment :\",sum_59_62)"
      ]
    }
  ],
  "metadata": {
    "colab": {
      "collapsed_sections": [],
      "provenance": []
    },
    "gpuClass": "standard",
    "kernelspec": {
      "display_name": "Python 3",
      "name": "python3"
    },
    "language_info": {
      "name": "python"
    },
    "widgets": {
      "application/vnd.jupyter.widget-state+json": {
        "085be35c9d6a464eaa0e8a68a2e5115d": {
          "model_module": "@jupyter-widgets/controls",
          "model_module_version": "1.5.0",
          "model_name": "HTMLModel",
          "state": {
            "_dom_classes": [],
            "_model_module": "@jupyter-widgets/controls",
            "_model_module_version": "1.5.0",
            "_model_name": "HTMLModel",
            "_view_count": null,
            "_view_module": "@jupyter-widgets/controls",
            "_view_module_version": "1.5.0",
            "_view_name": "HTMLView",
            "description": "",
            "description_tooltip": null,
            "layout": "IPY_MODEL_9055d5ba29f647eeb552fcc3ee2fb558",
            "placeholder": "​",
            "style": "IPY_MODEL_8fd77f3cc7ed48ad87de1a40a37c9fc2",
            "value": " 898/898 [00:00&lt;00:00, 14.3kB/s]"
          }
        },
        "091e15ac47ba4fabb7a92cd01418ea6c": {
          "model_module": "@jupyter-widgets/controls",
          "model_module_version": "1.5.0",
          "model_name": "HTMLModel",
          "state": {
            "_dom_classes": [],
            "_model_module": "@jupyter-widgets/controls",
            "_model_module_version": "1.5.0",
            "_model_name": "HTMLModel",
            "_view_count": null,
            "_view_module": "@jupyter-widgets/controls",
            "_view_module_version": "1.5.0",
            "_view_name": "HTMLView",
            "description": "",
            "description_tooltip": null,
            "layout": "IPY_MODEL_7cf80fcce341412fbab5d05d3057066e",
            "placeholder": "​",
            "style": "IPY_MODEL_1c4361b3cc5e4a388e1eecbd179a7401",
            "value": "Downloading: 100%"
          }
        },
        "0d11927ae6644b9aa127fe887db29d9e": {
          "model_module": "@jupyter-widgets/controls",
          "model_module_version": "1.5.0",
          "model_name": "DescriptionStyleModel",
          "state": {
            "_model_module": "@jupyter-widgets/controls",
            "_model_module_version": "1.5.0",
            "_model_name": "DescriptionStyleModel",
            "_view_count": null,
            "_view_module": "@jupyter-widgets/base",
            "_view_module_version": "1.2.0",
            "_view_name": "StyleView",
            "description_width": ""
          }
        },
        "159e196599cf43db94b8a16db8a75da8": {
          "model_module": "@jupyter-widgets/base",
          "model_module_version": "1.2.0",
          "model_name": "LayoutModel",
          "state": {
            "_model_module": "@jupyter-widgets/base",
            "_model_module_version": "1.2.0",
            "_model_name": "LayoutModel",
            "_view_count": null,
            "_view_module": "@jupyter-widgets/base",
            "_view_module_version": "1.2.0",
            "_view_name": "LayoutView",
            "align_content": null,
            "align_items": null,
            "align_self": null,
            "border": null,
            "bottom": null,
            "display": null,
            "flex": null,
            "flex_flow": null,
            "grid_area": null,
            "grid_auto_columns": null,
            "grid_auto_flow": null,
            "grid_auto_rows": null,
            "grid_column": null,
            "grid_gap": null,
            "grid_row": null,
            "grid_template_areas": null,
            "grid_template_columns": null,
            "grid_template_rows": null,
            "height": null,
            "justify_content": null,
            "justify_items": null,
            "left": null,
            "margin": null,
            "max_height": null,
            "max_width": null,
            "min_height": null,
            "min_width": null,
            "object_fit": null,
            "object_position": null,
            "order": null,
            "overflow": null,
            "overflow_x": null,
            "overflow_y": null,
            "padding": null,
            "right": null,
            "top": null,
            "visibility": null,
            "width": null
          }
        },
        "1c4361b3cc5e4a388e1eecbd179a7401": {
          "model_module": "@jupyter-widgets/controls",
          "model_module_version": "1.5.0",
          "model_name": "DescriptionStyleModel",
          "state": {
            "_model_module": "@jupyter-widgets/controls",
            "_model_module_version": "1.5.0",
            "_model_name": "DescriptionStyleModel",
            "_view_count": null,
            "_view_module": "@jupyter-widgets/base",
            "_view_module_version": "1.2.0",
            "_view_name": "StyleView",
            "description_width": ""
          }
        },
        "1cf14ef73ba046948f4b66f74f77bcba": {
          "model_module": "@jupyter-widgets/controls",
          "model_module_version": "1.5.0",
          "model_name": "ProgressStyleModel",
          "state": {
            "_model_module": "@jupyter-widgets/controls",
            "_model_module_version": "1.5.0",
            "_model_name": "ProgressStyleModel",
            "_view_count": null,
            "_view_module": "@jupyter-widgets/base",
            "_view_module_version": "1.2.0",
            "_view_name": "StyleView",
            "bar_color": null,
            "description_width": ""
          }
        },
        "1e89f82fec2b4436be1b3d16733b66bd": {
          "model_module": "@jupyter-widgets/controls",
          "model_module_version": "1.5.0",
          "model_name": "HTMLModel",
          "state": {
            "_dom_classes": [],
            "_model_module": "@jupyter-widgets/controls",
            "_model_module_version": "1.5.0",
            "_model_name": "HTMLModel",
            "_view_count": null,
            "_view_module": "@jupyter-widgets/controls",
            "_view_module_version": "1.5.0",
            "_view_name": "HTMLView",
            "description": "",
            "description_tooltip": null,
            "layout": "IPY_MODEL_a0d5bb32c53d4ec3b7f33b87d6242b76",
            "placeholder": "​",
            "style": "IPY_MODEL_aa8cc16febb04a0784f86fca0dba0808",
            "value": " 1.88M/1.88M [00:00&lt;00:00, 2.48MB/s]"
          }
        },
        "20c7d892f7814150ba3e5953879317d1": {
          "model_module": "@jupyter-widgets/controls",
          "model_module_version": "1.5.0",
          "model_name": "HTMLModel",
          "state": {
            "_dom_classes": [],
            "_model_module": "@jupyter-widgets/controls",
            "_model_module_version": "1.5.0",
            "_model_name": "HTMLModel",
            "_view_count": null,
            "_view_module": "@jupyter-widgets/controls",
            "_view_module_version": "1.5.0",
            "_view_name": "HTMLView",
            "description": "",
            "description_tooltip": null,
            "layout": "IPY_MODEL_a767f155968247538814a61a9721e6dd",
            "placeholder": "​",
            "style": "IPY_MODEL_c5139a490ce24aecb9a72979e48d2924",
            "value": " 62.0/62.0 [00:00&lt;00:00, 1.67kB/s]"
          }
        },
        "243f068048ae4ec9858f066d9c5b4574": {
          "model_module": "@jupyter-widgets/controls",
          "model_module_version": "1.5.0",
          "model_name": "HTMLModel",
          "state": {
            "_dom_classes": [],
            "_model_module": "@jupyter-widgets/controls",
            "_model_module_version": "1.5.0",
            "_model_name": "HTMLModel",
            "_view_count": null,
            "_view_module": "@jupyter-widgets/controls",
            "_view_module_version": "1.5.0",
            "_view_name": "HTMLView",
            "description": "",
            "description_tooltip": null,
            "layout": "IPY_MODEL_7985a8036ec74b5f85f8fc1b6179bdaf",
            "placeholder": "​",
            "style": "IPY_MODEL_49484a5b675241d4b11e6ec29d2872af",
            "value": "Downloading: 100%"
          }
        },
        "29ebf9da666b4d80b835d70c192aa9e3": {
          "model_module": "@jupyter-widgets/base",
          "model_module_version": "1.2.0",
          "model_name": "LayoutModel",
          "state": {
            "_model_module": "@jupyter-widgets/base",
            "_model_module_version": "1.2.0",
            "_model_name": "LayoutModel",
            "_view_count": null,
            "_view_module": "@jupyter-widgets/base",
            "_view_module_version": "1.2.0",
            "_view_name": "LayoutView",
            "align_content": null,
            "align_items": null,
            "align_self": null,
            "border": null,
            "bottom": null,
            "display": null,
            "flex": null,
            "flex_flow": null,
            "grid_area": null,
            "grid_auto_columns": null,
            "grid_auto_flow": null,
            "grid_auto_rows": null,
            "grid_column": null,
            "grid_gap": null,
            "grid_row": null,
            "grid_template_areas": null,
            "grid_template_columns": null,
            "grid_template_rows": null,
            "height": null,
            "justify_content": null,
            "justify_items": null,
            "left": null,
            "margin": null,
            "max_height": null,
            "max_width": null,
            "min_height": null,
            "min_width": null,
            "object_fit": null,
            "object_position": null,
            "order": null,
            "overflow": null,
            "overflow_x": null,
            "overflow_y": null,
            "padding": null,
            "right": null,
            "top": null,
            "visibility": null,
            "width": null
          }
        },
        "32aaa2c61b3b449484e7d4a7e9caf993": {
          "model_module": "@jupyter-widgets/controls",
          "model_module_version": "1.5.0",
          "model_name": "ProgressStyleModel",
          "state": {
            "_model_module": "@jupyter-widgets/controls",
            "_model_module_version": "1.5.0",
            "_model_name": "ProgressStyleModel",
            "_view_count": null,
            "_view_module": "@jupyter-widgets/base",
            "_view_module_version": "1.2.0",
            "_view_name": "StyleView",
            "bar_color": null,
            "description_width": ""
          }
        },
        "49484a5b675241d4b11e6ec29d2872af": {
          "model_module": "@jupyter-widgets/controls",
          "model_module_version": "1.5.0",
          "model_name": "DescriptionStyleModel",
          "state": {
            "_model_module": "@jupyter-widgets/controls",
            "_model_module_version": "1.5.0",
            "_model_name": "DescriptionStyleModel",
            "_view_count": null,
            "_view_module": "@jupyter-widgets/base",
            "_view_module_version": "1.2.0",
            "_view_name": "StyleView",
            "description_width": ""
          }
        },
        "4f134ee604b349af8765f091434dbf62": {
          "model_module": "@jupyter-widgets/controls",
          "model_module_version": "1.5.0",
          "model_name": "DescriptionStyleModel",
          "state": {
            "_model_module": "@jupyter-widgets/controls",
            "_model_module_version": "1.5.0",
            "_model_name": "DescriptionStyleModel",
            "_view_count": null,
            "_view_module": "@jupyter-widgets/base",
            "_view_module_version": "1.2.0",
            "_view_name": "StyleView",
            "description_width": ""
          }
        },
        "577c0868a35b4dd9a0d8e6547e83241b": {
          "model_module": "@jupyter-widgets/controls",
          "model_module_version": "1.5.0",
          "model_name": "ProgressStyleModel",
          "state": {
            "_model_module": "@jupyter-widgets/controls",
            "_model_module_version": "1.5.0",
            "_model_name": "ProgressStyleModel",
            "_view_count": null,
            "_view_module": "@jupyter-widgets/base",
            "_view_module_version": "1.2.0",
            "_view_name": "StyleView",
            "bar_color": null,
            "description_width": ""
          }
        },
        "5e395df71e0a444db77a7da2a61ec563": {
          "model_module": "@jupyter-widgets/controls",
          "model_module_version": "1.5.0",
          "model_name": "HBoxModel",
          "state": {
            "_dom_classes": [],
            "_model_module": "@jupyter-widgets/controls",
            "_model_module_version": "1.5.0",
            "_model_name": "HBoxModel",
            "_view_count": null,
            "_view_module": "@jupyter-widgets/controls",
            "_view_module_version": "1.5.0",
            "_view_name": "HBoxView",
            "box_style": "",
            "children": [
              "IPY_MODEL_091e15ac47ba4fabb7a92cd01418ea6c",
              "IPY_MODEL_61537a358c614186801e631c2c4d5824",
              "IPY_MODEL_6c82027510884cfeb6d67a885a54e98a"
            ],
            "layout": "IPY_MODEL_cdd8de286ec34bfd9ebdfe4d1cec5da4"
          }
        },
        "61537a358c614186801e631c2c4d5824": {
          "model_module": "@jupyter-widgets/controls",
          "model_module_version": "1.5.0",
          "model_name": "FloatProgressModel",
          "state": {
            "_dom_classes": [],
            "_model_module": "@jupyter-widgets/controls",
            "_model_module_version": "1.5.0",
            "_model_name": "FloatProgressModel",
            "_view_count": null,
            "_view_module": "@jupyter-widgets/controls",
            "_view_module_version": "1.5.0",
            "_view_name": "ProgressView",
            "bar_style": "success",
            "description": "",
            "description_tooltip": null,
            "layout": "IPY_MODEL_87e71d50a17f463687996353fb1f9a6a",
            "max": 156,
            "min": 0,
            "orientation": "horizontal",
            "style": "IPY_MODEL_577c0868a35b4dd9a0d8e6547e83241b",
            "value": 156
          }
        },
        "6158c75d35ba4055bd885ceac5f6e33e": {
          "model_module": "@jupyter-widgets/controls",
          "model_module_version": "1.5.0",
          "model_name": "HTMLModel",
          "state": {
            "_dom_classes": [],
            "_model_module": "@jupyter-widgets/controls",
            "_model_module_version": "1.5.0",
            "_model_name": "HTMLModel",
            "_view_count": null,
            "_view_module": "@jupyter-widgets/controls",
            "_view_module_version": "1.5.0",
            "_view_name": "HTMLView",
            "description": "",
            "description_tooltip": null,
            "layout": "IPY_MODEL_96b34565073f4b8992e33708236ff869",
            "placeholder": "​",
            "style": "IPY_MODEL_4f134ee604b349af8765f091434dbf62",
            "value": "Downloading: 100%"
          }
        },
        "6c3760defb9f4853b43aeacb423d56df": {
          "model_module": "@jupyter-widgets/controls",
          "model_module_version": "1.5.0",
          "model_name": "DescriptionStyleModel",
          "state": {
            "_model_module": "@jupyter-widgets/controls",
            "_model_module_version": "1.5.0",
            "_model_name": "DescriptionStyleModel",
            "_view_count": null,
            "_view_module": "@jupyter-widgets/base",
            "_view_module_version": "1.2.0",
            "_view_name": "StyleView",
            "description_width": ""
          }
        },
        "6c82027510884cfeb6d67a885a54e98a": {
          "model_module": "@jupyter-widgets/controls",
          "model_module_version": "1.5.0",
          "model_name": "HTMLModel",
          "state": {
            "_dom_classes": [],
            "_model_module": "@jupyter-widgets/controls",
            "_model_module_version": "1.5.0",
            "_model_name": "HTMLModel",
            "_view_count": null,
            "_view_module": "@jupyter-widgets/controls",
            "_view_module_version": "1.5.0",
            "_view_name": "HTMLView",
            "description": "",
            "description_tooltip": null,
            "layout": "IPY_MODEL_bb32cef1da1947c1aaeb2340380102c6",
            "placeholder": "​",
            "style": "IPY_MODEL_d8701f09e97549e89a96541f8f872033",
            "value": " 156/156 [00:00&lt;00:00, 4.25kB/s]"
          }
        },
        "75ed973cf8fa43c899202656c950b552": {
          "model_module": "@jupyter-widgets/base",
          "model_module_version": "1.2.0",
          "model_name": "LayoutModel",
          "state": {
            "_model_module": "@jupyter-widgets/base",
            "_model_module_version": "1.2.0",
            "_model_name": "LayoutModel",
            "_view_count": null,
            "_view_module": "@jupyter-widgets/base",
            "_view_module_version": "1.2.0",
            "_view_name": "LayoutView",
            "align_content": null,
            "align_items": null,
            "align_self": null,
            "border": null,
            "bottom": null,
            "display": null,
            "flex": null,
            "flex_flow": null,
            "grid_area": null,
            "grid_auto_columns": null,
            "grid_auto_flow": null,
            "grid_auto_rows": null,
            "grid_column": null,
            "grid_gap": null,
            "grid_row": null,
            "grid_template_areas": null,
            "grid_template_columns": null,
            "grid_template_rows": null,
            "height": null,
            "justify_content": null,
            "justify_items": null,
            "left": null,
            "margin": null,
            "max_height": null,
            "max_width": null,
            "min_height": null,
            "min_width": null,
            "object_fit": null,
            "object_position": null,
            "order": null,
            "overflow": null,
            "overflow_x": null,
            "overflow_y": null,
            "padding": null,
            "right": null,
            "top": null,
            "visibility": null,
            "width": null
          }
        },
        "75f05a131c0a4b0abda1409628e7940a": {
          "model_module": "@jupyter-widgets/controls",
          "model_module_version": "1.5.0",
          "model_name": "ProgressStyleModel",
          "state": {
            "_model_module": "@jupyter-widgets/controls",
            "_model_module_version": "1.5.0",
            "_model_name": "ProgressStyleModel",
            "_view_count": null,
            "_view_module": "@jupyter-widgets/base",
            "_view_module_version": "1.2.0",
            "_view_name": "StyleView",
            "bar_color": null,
            "description_width": ""
          }
        },
        "76ad3478550c4aa18c25ee6821445217": {
          "model_module": "@jupyter-widgets/base",
          "model_module_version": "1.2.0",
          "model_name": "LayoutModel",
          "state": {
            "_model_module": "@jupyter-widgets/base",
            "_model_module_version": "1.2.0",
            "_model_name": "LayoutModel",
            "_view_count": null,
            "_view_module": "@jupyter-widgets/base",
            "_view_module_version": "1.2.0",
            "_view_name": "LayoutView",
            "align_content": null,
            "align_items": null,
            "align_self": null,
            "border": null,
            "bottom": null,
            "display": null,
            "flex": null,
            "flex_flow": null,
            "grid_area": null,
            "grid_auto_columns": null,
            "grid_auto_flow": null,
            "grid_auto_rows": null,
            "grid_column": null,
            "grid_gap": null,
            "grid_row": null,
            "grid_template_areas": null,
            "grid_template_columns": null,
            "grid_template_rows": null,
            "height": null,
            "justify_content": null,
            "justify_items": null,
            "left": null,
            "margin": null,
            "max_height": null,
            "max_width": null,
            "min_height": null,
            "min_width": null,
            "object_fit": null,
            "object_position": null,
            "order": null,
            "overflow": null,
            "overflow_x": null,
            "overflow_y": null,
            "padding": null,
            "right": null,
            "top": null,
            "visibility": null,
            "width": null
          }
        },
        "7985a8036ec74b5f85f8fc1b6179bdaf": {
          "model_module": "@jupyter-widgets/base",
          "model_module_version": "1.2.0",
          "model_name": "LayoutModel",
          "state": {
            "_model_module": "@jupyter-widgets/base",
            "_model_module_version": "1.2.0",
            "_model_name": "LayoutModel",
            "_view_count": null,
            "_view_module": "@jupyter-widgets/base",
            "_view_module_version": "1.2.0",
            "_view_name": "LayoutView",
            "align_content": null,
            "align_items": null,
            "align_self": null,
            "border": null,
            "bottom": null,
            "display": null,
            "flex": null,
            "flex_flow": null,
            "grid_area": null,
            "grid_auto_columns": null,
            "grid_auto_flow": null,
            "grid_auto_rows": null,
            "grid_column": null,
            "grid_gap": null,
            "grid_row": null,
            "grid_template_areas": null,
            "grid_template_columns": null,
            "grid_template_rows": null,
            "height": null,
            "justify_content": null,
            "justify_items": null,
            "left": null,
            "margin": null,
            "max_height": null,
            "max_width": null,
            "min_height": null,
            "min_width": null,
            "object_fit": null,
            "object_position": null,
            "order": null,
            "overflow": null,
            "overflow_x": null,
            "overflow_y": null,
            "padding": null,
            "right": null,
            "top": null,
            "visibility": null,
            "width": null
          }
        },
        "7cf80fcce341412fbab5d05d3057066e": {
          "model_module": "@jupyter-widgets/base",
          "model_module_version": "1.2.0",
          "model_name": "LayoutModel",
          "state": {
            "_model_module": "@jupyter-widgets/base",
            "_model_module_version": "1.2.0",
            "_model_name": "LayoutModel",
            "_view_count": null,
            "_view_module": "@jupyter-widgets/base",
            "_view_module_version": "1.2.0",
            "_view_name": "LayoutView",
            "align_content": null,
            "align_items": null,
            "align_self": null,
            "border": null,
            "bottom": null,
            "display": null,
            "flex": null,
            "flex_flow": null,
            "grid_area": null,
            "grid_auto_columns": null,
            "grid_auto_flow": null,
            "grid_auto_rows": null,
            "grid_column": null,
            "grid_gap": null,
            "grid_row": null,
            "grid_template_areas": null,
            "grid_template_columns": null,
            "grid_template_rows": null,
            "height": null,
            "justify_content": null,
            "justify_items": null,
            "left": null,
            "margin": null,
            "max_height": null,
            "max_width": null,
            "min_height": null,
            "min_width": null,
            "object_fit": null,
            "object_position": null,
            "order": null,
            "overflow": null,
            "overflow_x": null,
            "overflow_y": null,
            "padding": null,
            "right": null,
            "top": null,
            "visibility": null,
            "width": null
          }
        },
        "84f171d74f034a8ead2434d69df7d3e0": {
          "model_module": "@jupyter-widgets/controls",
          "model_module_version": "1.5.0",
          "model_name": "DescriptionStyleModel",
          "state": {
            "_model_module": "@jupyter-widgets/controls",
            "_model_module_version": "1.5.0",
            "_model_name": "DescriptionStyleModel",
            "_view_count": null,
            "_view_module": "@jupyter-widgets/base",
            "_view_module_version": "1.2.0",
            "_view_name": "StyleView",
            "description_width": ""
          }
        },
        "84f5023aadd14093954fe189be9b1bec": {
          "model_module": "@jupyter-widgets/base",
          "model_module_version": "1.2.0",
          "model_name": "LayoutModel",
          "state": {
            "_model_module": "@jupyter-widgets/base",
            "_model_module_version": "1.2.0",
            "_model_name": "LayoutModel",
            "_view_count": null,
            "_view_module": "@jupyter-widgets/base",
            "_view_module_version": "1.2.0",
            "_view_name": "LayoutView",
            "align_content": null,
            "align_items": null,
            "align_self": null,
            "border": null,
            "bottom": null,
            "display": null,
            "flex": null,
            "flex_flow": null,
            "grid_area": null,
            "grid_auto_columns": null,
            "grid_auto_flow": null,
            "grid_auto_rows": null,
            "grid_column": null,
            "grid_gap": null,
            "grid_row": null,
            "grid_template_areas": null,
            "grid_template_columns": null,
            "grid_template_rows": null,
            "height": null,
            "justify_content": null,
            "justify_items": null,
            "left": null,
            "margin": null,
            "max_height": null,
            "max_width": null,
            "min_height": null,
            "min_width": null,
            "object_fit": null,
            "object_position": null,
            "order": null,
            "overflow": null,
            "overflow_x": null,
            "overflow_y": null,
            "padding": null,
            "right": null,
            "top": null,
            "visibility": null,
            "width": null
          }
        },
        "87e71d50a17f463687996353fb1f9a6a": {
          "model_module": "@jupyter-widgets/base",
          "model_module_version": "1.2.0",
          "model_name": "LayoutModel",
          "state": {
            "_model_module": "@jupyter-widgets/base",
            "_model_module_version": "1.2.0",
            "_model_name": "LayoutModel",
            "_view_count": null,
            "_view_module": "@jupyter-widgets/base",
            "_view_module_version": "1.2.0",
            "_view_name": "LayoutView",
            "align_content": null,
            "align_items": null,
            "align_self": null,
            "border": null,
            "bottom": null,
            "display": null,
            "flex": null,
            "flex_flow": null,
            "grid_area": null,
            "grid_auto_columns": null,
            "grid_auto_flow": null,
            "grid_auto_rows": null,
            "grid_column": null,
            "grid_gap": null,
            "grid_row": null,
            "grid_template_areas": null,
            "grid_template_columns": null,
            "grid_template_rows": null,
            "height": null,
            "justify_content": null,
            "justify_items": null,
            "left": null,
            "margin": null,
            "max_height": null,
            "max_width": null,
            "min_height": null,
            "min_width": null,
            "object_fit": null,
            "object_position": null,
            "order": null,
            "overflow": null,
            "overflow_x": null,
            "overflow_y": null,
            "padding": null,
            "right": null,
            "top": null,
            "visibility": null,
            "width": null
          }
        },
        "8fd77f3cc7ed48ad87de1a40a37c9fc2": {
          "model_module": "@jupyter-widgets/controls",
          "model_module_version": "1.5.0",
          "model_name": "DescriptionStyleModel",
          "state": {
            "_model_module": "@jupyter-widgets/controls",
            "_model_module_version": "1.5.0",
            "_model_name": "DescriptionStyleModel",
            "_view_count": null,
            "_view_module": "@jupyter-widgets/base",
            "_view_module_version": "1.2.0",
            "_view_name": "StyleView",
            "description_width": ""
          }
        },
        "9055d5ba29f647eeb552fcc3ee2fb558": {
          "model_module": "@jupyter-widgets/base",
          "model_module_version": "1.2.0",
          "model_name": "LayoutModel",
          "state": {
            "_model_module": "@jupyter-widgets/base",
            "_model_module_version": "1.2.0",
            "_model_name": "LayoutModel",
            "_view_count": null,
            "_view_module": "@jupyter-widgets/base",
            "_view_module_version": "1.2.0",
            "_view_name": "LayoutView",
            "align_content": null,
            "align_items": null,
            "align_self": null,
            "border": null,
            "bottom": null,
            "display": null,
            "flex": null,
            "flex_flow": null,
            "grid_area": null,
            "grid_auto_columns": null,
            "grid_auto_flow": null,
            "grid_auto_rows": null,
            "grid_column": null,
            "grid_gap": null,
            "grid_row": null,
            "grid_template_areas": null,
            "grid_template_columns": null,
            "grid_template_rows": null,
            "height": null,
            "justify_content": null,
            "justify_items": null,
            "left": null,
            "margin": null,
            "max_height": null,
            "max_width": null,
            "min_height": null,
            "min_width": null,
            "object_fit": null,
            "object_position": null,
            "order": null,
            "overflow": null,
            "overflow_x": null,
            "overflow_y": null,
            "padding": null,
            "right": null,
            "top": null,
            "visibility": null,
            "width": null
          }
        },
        "96b34565073f4b8992e33708236ff869": {
          "model_module": "@jupyter-widgets/base",
          "model_module_version": "1.2.0",
          "model_name": "LayoutModel",
          "state": {
            "_model_module": "@jupyter-widgets/base",
            "_model_module_version": "1.2.0",
            "_model_name": "LayoutModel",
            "_view_count": null,
            "_view_module": "@jupyter-widgets/base",
            "_view_module_version": "1.2.0",
            "_view_name": "LayoutView",
            "align_content": null,
            "align_items": null,
            "align_self": null,
            "border": null,
            "bottom": null,
            "display": null,
            "flex": null,
            "flex_flow": null,
            "grid_area": null,
            "grid_auto_columns": null,
            "grid_auto_flow": null,
            "grid_auto_rows": null,
            "grid_column": null,
            "grid_gap": null,
            "grid_row": null,
            "grid_template_areas": null,
            "grid_template_columns": null,
            "grid_template_rows": null,
            "height": null,
            "justify_content": null,
            "justify_items": null,
            "left": null,
            "margin": null,
            "max_height": null,
            "max_width": null,
            "min_height": null,
            "min_width": null,
            "object_fit": null,
            "object_position": null,
            "order": null,
            "overflow": null,
            "overflow_x": null,
            "overflow_y": null,
            "padding": null,
            "right": null,
            "top": null,
            "visibility": null,
            "width": null
          }
        },
        "977c265b99564608be1d810464997868": {
          "model_module": "@jupyter-widgets/controls",
          "model_module_version": "1.5.0",
          "model_name": "HTMLModel",
          "state": {
            "_dom_classes": [],
            "_model_module": "@jupyter-widgets/controls",
            "_model_module_version": "1.5.0",
            "_model_name": "HTMLModel",
            "_view_count": null,
            "_view_module": "@jupyter-widgets/controls",
            "_view_module_version": "1.5.0",
            "_view_name": "HTMLView",
            "description": "",
            "description_tooltip": null,
            "layout": "IPY_MODEL_a2ac93f9488940e9b4df9c2104e9cba9",
            "placeholder": "​",
            "style": "IPY_MODEL_6c3760defb9f4853b43aeacb423d56df",
            "value": "Downloading: 100%"
          }
        },
        "9c0026c3971d453db041b24a5e35b6d0": {
          "model_module": "@jupyter-widgets/base",
          "model_module_version": "1.2.0",
          "model_name": "LayoutModel",
          "state": {
            "_model_module": "@jupyter-widgets/base",
            "_model_module_version": "1.2.0",
            "_model_name": "LayoutModel",
            "_view_count": null,
            "_view_module": "@jupyter-widgets/base",
            "_view_module_version": "1.2.0",
            "_view_name": "LayoutView",
            "align_content": null,
            "align_items": null,
            "align_self": null,
            "border": null,
            "bottom": null,
            "display": null,
            "flex": null,
            "flex_flow": null,
            "grid_area": null,
            "grid_auto_columns": null,
            "grid_auto_flow": null,
            "grid_auto_rows": null,
            "grid_column": null,
            "grid_gap": null,
            "grid_row": null,
            "grid_template_areas": null,
            "grid_template_columns": null,
            "grid_template_rows": null,
            "height": null,
            "justify_content": null,
            "justify_items": null,
            "left": null,
            "margin": null,
            "max_height": null,
            "max_width": null,
            "min_height": null,
            "min_width": null,
            "object_fit": null,
            "object_position": null,
            "order": null,
            "overflow": null,
            "overflow_x": null,
            "overflow_y": null,
            "padding": null,
            "right": null,
            "top": null,
            "visibility": null,
            "width": null
          }
        },
        "9ced7242c39440f591fe2f0295eb2583": {
          "model_module": "@jupyter-widgets/controls",
          "model_module_version": "1.5.0",
          "model_name": "FloatProgressModel",
          "state": {
            "_dom_classes": [],
            "_model_module": "@jupyter-widgets/controls",
            "_model_module_version": "1.5.0",
            "_model_name": "FloatProgressModel",
            "_view_count": null,
            "_view_module": "@jupyter-widgets/controls",
            "_view_module_version": "1.5.0",
            "_view_name": "ProgressView",
            "bar_style": "success",
            "description": "",
            "description_tooltip": null,
            "layout": "IPY_MODEL_84f5023aadd14093954fe189be9b1bec",
            "max": 72349964,
            "min": 0,
            "orientation": "horizontal",
            "style": "IPY_MODEL_32aaa2c61b3b449484e7d4a7e9caf993",
            "value": 72349964
          }
        },
        "9ee9a572e32d4b9282770675ae1bed79": {
          "model_module": "@jupyter-widgets/controls",
          "model_module_version": "1.5.0",
          "model_name": "FloatProgressModel",
          "state": {
            "_dom_classes": [],
            "_model_module": "@jupyter-widgets/controls",
            "_model_module_version": "1.5.0",
            "_model_name": "FloatProgressModel",
            "_view_count": null,
            "_view_module": "@jupyter-widgets/controls",
            "_view_module_version": "1.5.0",
            "_view_name": "ProgressView",
            "bar_style": "success",
            "description": "",
            "description_tooltip": null,
            "layout": "IPY_MODEL_af771759d67d431bbdda7c552e5a699b",
            "max": 898,
            "min": 0,
            "orientation": "horizontal",
            "style": "IPY_MODEL_1cf14ef73ba046948f4b66f74f77bcba",
            "value": 898
          }
        },
        "a0d5bb32c53d4ec3b7f33b87d6242b76": {
          "model_module": "@jupyter-widgets/base",
          "model_module_version": "1.2.0",
          "model_name": "LayoutModel",
          "state": {
            "_model_module": "@jupyter-widgets/base",
            "_model_module_version": "1.2.0",
            "_model_name": "LayoutModel",
            "_view_count": null,
            "_view_module": "@jupyter-widgets/base",
            "_view_module_version": "1.2.0",
            "_view_name": "LayoutView",
            "align_content": null,
            "align_items": null,
            "align_self": null,
            "border": null,
            "bottom": null,
            "display": null,
            "flex": null,
            "flex_flow": null,
            "grid_area": null,
            "grid_auto_columns": null,
            "grid_auto_flow": null,
            "grid_auto_rows": null,
            "grid_column": null,
            "grid_gap": null,
            "grid_row": null,
            "grid_template_areas": null,
            "grid_template_columns": null,
            "grid_template_rows": null,
            "height": null,
            "justify_content": null,
            "justify_items": null,
            "left": null,
            "margin": null,
            "max_height": null,
            "max_width": null,
            "min_height": null,
            "min_width": null,
            "object_fit": null,
            "object_position": null,
            "order": null,
            "overflow": null,
            "overflow_x": null,
            "overflow_y": null,
            "padding": null,
            "right": null,
            "top": null,
            "visibility": null,
            "width": null
          }
        },
        "a2ac93f9488940e9b4df9c2104e9cba9": {
          "model_module": "@jupyter-widgets/base",
          "model_module_version": "1.2.0",
          "model_name": "LayoutModel",
          "state": {
            "_model_module": "@jupyter-widgets/base",
            "_model_module_version": "1.2.0",
            "_model_name": "LayoutModel",
            "_view_count": null,
            "_view_module": "@jupyter-widgets/base",
            "_view_module_version": "1.2.0",
            "_view_name": "LayoutView",
            "align_content": null,
            "align_items": null,
            "align_self": null,
            "border": null,
            "bottom": null,
            "display": null,
            "flex": null,
            "flex_flow": null,
            "grid_area": null,
            "grid_auto_columns": null,
            "grid_auto_flow": null,
            "grid_auto_rows": null,
            "grid_column": null,
            "grid_gap": null,
            "grid_row": null,
            "grid_template_areas": null,
            "grid_template_columns": null,
            "grid_template_rows": null,
            "height": null,
            "justify_content": null,
            "justify_items": null,
            "left": null,
            "margin": null,
            "max_height": null,
            "max_width": null,
            "min_height": null,
            "min_width": null,
            "object_fit": null,
            "object_position": null,
            "order": null,
            "overflow": null,
            "overflow_x": null,
            "overflow_y": null,
            "padding": null,
            "right": null,
            "top": null,
            "visibility": null,
            "width": null
          }
        },
        "a477c96929a14363b5830e9d8124c2b9": {
          "model_module": "@jupyter-widgets/base",
          "model_module_version": "1.2.0",
          "model_name": "LayoutModel",
          "state": {
            "_model_module": "@jupyter-widgets/base",
            "_model_module_version": "1.2.0",
            "_model_name": "LayoutModel",
            "_view_count": null,
            "_view_module": "@jupyter-widgets/base",
            "_view_module_version": "1.2.0",
            "_view_name": "LayoutView",
            "align_content": null,
            "align_items": null,
            "align_self": null,
            "border": null,
            "bottom": null,
            "display": null,
            "flex": null,
            "flex_flow": null,
            "grid_area": null,
            "grid_auto_columns": null,
            "grid_auto_flow": null,
            "grid_auto_rows": null,
            "grid_column": null,
            "grid_gap": null,
            "grid_row": null,
            "grid_template_areas": null,
            "grid_template_columns": null,
            "grid_template_rows": null,
            "height": null,
            "justify_content": null,
            "justify_items": null,
            "left": null,
            "margin": null,
            "max_height": null,
            "max_width": null,
            "min_height": null,
            "min_width": null,
            "object_fit": null,
            "object_position": null,
            "order": null,
            "overflow": null,
            "overflow_x": null,
            "overflow_y": null,
            "padding": null,
            "right": null,
            "top": null,
            "visibility": null,
            "width": null
          }
        },
        "a767f155968247538814a61a9721e6dd": {
          "model_module": "@jupyter-widgets/base",
          "model_module_version": "1.2.0",
          "model_name": "LayoutModel",
          "state": {
            "_model_module": "@jupyter-widgets/base",
            "_model_module_version": "1.2.0",
            "_model_name": "LayoutModel",
            "_view_count": null,
            "_view_module": "@jupyter-widgets/base",
            "_view_module_version": "1.2.0",
            "_view_name": "LayoutView",
            "align_content": null,
            "align_items": null,
            "align_self": null,
            "border": null,
            "bottom": null,
            "display": null,
            "flex": null,
            "flex_flow": null,
            "grid_area": null,
            "grid_auto_columns": null,
            "grid_auto_flow": null,
            "grid_auto_rows": null,
            "grid_column": null,
            "grid_gap": null,
            "grid_row": null,
            "grid_template_areas": null,
            "grid_template_columns": null,
            "grid_template_rows": null,
            "height": null,
            "justify_content": null,
            "justify_items": null,
            "left": null,
            "margin": null,
            "max_height": null,
            "max_width": null,
            "min_height": null,
            "min_width": null,
            "object_fit": null,
            "object_position": null,
            "order": null,
            "overflow": null,
            "overflow_x": null,
            "overflow_y": null,
            "padding": null,
            "right": null,
            "top": null,
            "visibility": null,
            "width": null
          }
        },
        "aa34995449bc434d839ddc5ff08bc020": {
          "model_module": "@jupyter-widgets/controls",
          "model_module_version": "1.5.0",
          "model_name": "FloatProgressModel",
          "state": {
            "_dom_classes": [],
            "_model_module": "@jupyter-widgets/controls",
            "_model_module_version": "1.5.0",
            "_model_name": "FloatProgressModel",
            "_view_count": null,
            "_view_module": "@jupyter-widgets/controls",
            "_view_module_version": "1.5.0",
            "_view_name": "ProgressView",
            "bar_style": "success",
            "description": "",
            "description_tooltip": null,
            "layout": "IPY_MODEL_75ed973cf8fa43c899202656c950b552",
            "max": 62,
            "min": 0,
            "orientation": "horizontal",
            "style": "IPY_MODEL_f838bec235a2415e96101c2ca9cdb3ad",
            "value": 62
          }
        },
        "aa8cc16febb04a0784f86fca0dba0808": {
          "model_module": "@jupyter-widgets/controls",
          "model_module_version": "1.5.0",
          "model_name": "DescriptionStyleModel",
          "state": {
            "_model_module": "@jupyter-widgets/controls",
            "_model_module_version": "1.5.0",
            "_model_name": "DescriptionStyleModel",
            "_view_count": null,
            "_view_module": "@jupyter-widgets/base",
            "_view_module_version": "1.2.0",
            "_view_name": "StyleView",
            "description_width": ""
          }
        },
        "af771759d67d431bbdda7c552e5a699b": {
          "model_module": "@jupyter-widgets/base",
          "model_module_version": "1.2.0",
          "model_name": "LayoutModel",
          "state": {
            "_model_module": "@jupyter-widgets/base",
            "_model_module_version": "1.2.0",
            "_model_name": "LayoutModel",
            "_view_count": null,
            "_view_module": "@jupyter-widgets/base",
            "_view_module_version": "1.2.0",
            "_view_name": "LayoutView",
            "align_content": null,
            "align_items": null,
            "align_self": null,
            "border": null,
            "bottom": null,
            "display": null,
            "flex": null,
            "flex_flow": null,
            "grid_area": null,
            "grid_auto_columns": null,
            "grid_auto_flow": null,
            "grid_auto_rows": null,
            "grid_column": null,
            "grid_gap": null,
            "grid_row": null,
            "grid_template_areas": null,
            "grid_template_columns": null,
            "grid_template_rows": null,
            "height": null,
            "justify_content": null,
            "justify_items": null,
            "left": null,
            "margin": null,
            "max_height": null,
            "max_width": null,
            "min_height": null,
            "min_width": null,
            "object_fit": null,
            "object_position": null,
            "order": null,
            "overflow": null,
            "overflow_x": null,
            "overflow_y": null,
            "padding": null,
            "right": null,
            "top": null,
            "visibility": null,
            "width": null
          }
        },
        "bb32cef1da1947c1aaeb2340380102c6": {
          "model_module": "@jupyter-widgets/base",
          "model_module_version": "1.2.0",
          "model_name": "LayoutModel",
          "state": {
            "_model_module": "@jupyter-widgets/base",
            "_model_module_version": "1.2.0",
            "_model_name": "LayoutModel",
            "_view_count": null,
            "_view_module": "@jupyter-widgets/base",
            "_view_module_version": "1.2.0",
            "_view_name": "LayoutView",
            "align_content": null,
            "align_items": null,
            "align_self": null,
            "border": null,
            "bottom": null,
            "display": null,
            "flex": null,
            "flex_flow": null,
            "grid_area": null,
            "grid_auto_columns": null,
            "grid_auto_flow": null,
            "grid_auto_rows": null,
            "grid_column": null,
            "grid_gap": null,
            "grid_row": null,
            "grid_template_areas": null,
            "grid_template_columns": null,
            "grid_template_rows": null,
            "height": null,
            "justify_content": null,
            "justify_items": null,
            "left": null,
            "margin": null,
            "max_height": null,
            "max_width": null,
            "min_height": null,
            "min_width": null,
            "object_fit": null,
            "object_position": null,
            "order": null,
            "overflow": null,
            "overflow_x": null,
            "overflow_y": null,
            "padding": null,
            "right": null,
            "top": null,
            "visibility": null,
            "width": null
          }
        },
        "c5139a490ce24aecb9a72979e48d2924": {
          "model_module": "@jupyter-widgets/controls",
          "model_module_version": "1.5.0",
          "model_name": "DescriptionStyleModel",
          "state": {
            "_model_module": "@jupyter-widgets/controls",
            "_model_module_version": "1.5.0",
            "_model_name": "DescriptionStyleModel",
            "_view_count": null,
            "_view_module": "@jupyter-widgets/base",
            "_view_module_version": "1.2.0",
            "_view_name": "StyleView",
            "description_width": ""
          }
        },
        "c5594b794e144a93883b4f88980b6db9": {
          "model_module": "@jupyter-widgets/controls",
          "model_module_version": "1.5.0",
          "model_name": "HTMLModel",
          "state": {
            "_dom_classes": [],
            "_model_module": "@jupyter-widgets/controls",
            "_model_module_version": "1.5.0",
            "_model_name": "HTMLModel",
            "_view_count": null,
            "_view_module": "@jupyter-widgets/controls",
            "_view_module_version": "1.5.0",
            "_view_name": "HTMLView",
            "description": "",
            "description_tooltip": null,
            "layout": "IPY_MODEL_9c0026c3971d453db041b24a5e35b6d0",
            "placeholder": "​",
            "style": "IPY_MODEL_0d11927ae6644b9aa127fe887db29d9e",
            "value": " 72.3M/72.3M [00:02&lt;00:00, 48.3MB/s]"
          }
        },
        "cae3b70c53e241d5814536440db20c5a": {
          "model_module": "@jupyter-widgets/base",
          "model_module_version": "1.2.0",
          "model_name": "LayoutModel",
          "state": {
            "_model_module": "@jupyter-widgets/base",
            "_model_module_version": "1.2.0",
            "_model_name": "LayoutModel",
            "_view_count": null,
            "_view_module": "@jupyter-widgets/base",
            "_view_module_version": "1.2.0",
            "_view_name": "LayoutView",
            "align_content": null,
            "align_items": null,
            "align_self": null,
            "border": null,
            "bottom": null,
            "display": null,
            "flex": null,
            "flex_flow": null,
            "grid_area": null,
            "grid_auto_columns": null,
            "grid_auto_flow": null,
            "grid_auto_rows": null,
            "grid_column": null,
            "grid_gap": null,
            "grid_row": null,
            "grid_template_areas": null,
            "grid_template_columns": null,
            "grid_template_rows": null,
            "height": null,
            "justify_content": null,
            "justify_items": null,
            "left": null,
            "margin": null,
            "max_height": null,
            "max_width": null,
            "min_height": null,
            "min_width": null,
            "object_fit": null,
            "object_position": null,
            "order": null,
            "overflow": null,
            "overflow_x": null,
            "overflow_y": null,
            "padding": null,
            "right": null,
            "top": null,
            "visibility": null,
            "width": null
          }
        },
        "cdd8de286ec34bfd9ebdfe4d1cec5da4": {
          "model_module": "@jupyter-widgets/base",
          "model_module_version": "1.2.0",
          "model_name": "LayoutModel",
          "state": {
            "_model_module": "@jupyter-widgets/base",
            "_model_module_version": "1.2.0",
            "_model_name": "LayoutModel",
            "_view_count": null,
            "_view_module": "@jupyter-widgets/base",
            "_view_module_version": "1.2.0",
            "_view_name": "LayoutView",
            "align_content": null,
            "align_items": null,
            "align_self": null,
            "border": null,
            "bottom": null,
            "display": null,
            "flex": null,
            "flex_flow": null,
            "grid_area": null,
            "grid_auto_columns": null,
            "grid_auto_flow": null,
            "grid_auto_rows": null,
            "grid_column": null,
            "grid_gap": null,
            "grid_row": null,
            "grid_template_areas": null,
            "grid_template_columns": null,
            "grid_template_rows": null,
            "height": null,
            "justify_content": null,
            "justify_items": null,
            "left": null,
            "margin": null,
            "max_height": null,
            "max_width": null,
            "min_height": null,
            "min_width": null,
            "object_fit": null,
            "object_position": null,
            "order": null,
            "overflow": null,
            "overflow_x": null,
            "overflow_y": null,
            "padding": null,
            "right": null,
            "top": null,
            "visibility": null,
            "width": null
          }
        },
        "d8701f09e97549e89a96541f8f872033": {
          "model_module": "@jupyter-widgets/controls",
          "model_module_version": "1.5.0",
          "model_name": "DescriptionStyleModel",
          "state": {
            "_model_module": "@jupyter-widgets/controls",
            "_model_module_version": "1.5.0",
            "_model_name": "DescriptionStyleModel",
            "_view_count": null,
            "_view_module": "@jupyter-widgets/base",
            "_view_module_version": "1.2.0",
            "_view_name": "StyleView",
            "description_width": ""
          }
        },
        "f0982c0597c646889fe7bbc88d2f2b0d": {
          "model_module": "@jupyter-widgets/controls",
          "model_module_version": "1.5.0",
          "model_name": "HBoxModel",
          "state": {
            "_dom_classes": [],
            "_model_module": "@jupyter-widgets/controls",
            "_model_module_version": "1.5.0",
            "_model_name": "HBoxModel",
            "_view_count": null,
            "_view_module": "@jupyter-widgets/controls",
            "_view_module_version": "1.5.0",
            "_view_name": "HBoxView",
            "box_style": "",
            "children": [
              "IPY_MODEL_243f068048ae4ec9858f066d9c5b4574",
              "IPY_MODEL_f987e113972446938881701154a3080f",
              "IPY_MODEL_1e89f82fec2b4436be1b3d16733b66bd"
            ],
            "layout": "IPY_MODEL_29ebf9da666b4d80b835d70c192aa9e3"
          }
        },
        "f838bec235a2415e96101c2ca9cdb3ad": {
          "model_module": "@jupyter-widgets/controls",
          "model_module_version": "1.5.0",
          "model_name": "ProgressStyleModel",
          "state": {
            "_model_module": "@jupyter-widgets/controls",
            "_model_module_version": "1.5.0",
            "_model_name": "ProgressStyleModel",
            "_view_count": null,
            "_view_module": "@jupyter-widgets/base",
            "_view_module_version": "1.2.0",
            "_view_name": "StyleView",
            "bar_color": null,
            "description_width": ""
          }
        },
        "f89aa3a40f954565835531b2d5d8d61b": {
          "model_module": "@jupyter-widgets/base",
          "model_module_version": "1.2.0",
          "model_name": "LayoutModel",
          "state": {
            "_model_module": "@jupyter-widgets/base",
            "_model_module_version": "1.2.0",
            "_model_name": "LayoutModel",
            "_view_count": null,
            "_view_module": "@jupyter-widgets/base",
            "_view_module_version": "1.2.0",
            "_view_name": "LayoutView",
            "align_content": null,
            "align_items": null,
            "align_self": null,
            "border": null,
            "bottom": null,
            "display": null,
            "flex": null,
            "flex_flow": null,
            "grid_area": null,
            "grid_auto_columns": null,
            "grid_auto_flow": null,
            "grid_auto_rows": null,
            "grid_column": null,
            "grid_gap": null,
            "grid_row": null,
            "grid_template_areas": null,
            "grid_template_columns": null,
            "grid_template_rows": null,
            "height": null,
            "justify_content": null,
            "justify_items": null,
            "left": null,
            "margin": null,
            "max_height": null,
            "max_width": null,
            "min_height": null,
            "min_width": null,
            "object_fit": null,
            "object_position": null,
            "order": null,
            "overflow": null,
            "overflow_x": null,
            "overflow_y": null,
            "padding": null,
            "right": null,
            "top": null,
            "visibility": null,
            "width": null
          }
        },
        "f987e113972446938881701154a3080f": {
          "model_module": "@jupyter-widgets/controls",
          "model_module_version": "1.5.0",
          "model_name": "FloatProgressModel",
          "state": {
            "_dom_classes": [],
            "_model_module": "@jupyter-widgets/controls",
            "_model_module_version": "1.5.0",
            "_model_name": "FloatProgressModel",
            "_view_count": null,
            "_view_module": "@jupyter-widgets/controls",
            "_view_module_version": "1.5.0",
            "_view_name": "ProgressView",
            "bar_style": "success",
            "description": "",
            "description_tooltip": null,
            "layout": "IPY_MODEL_a477c96929a14363b5830e9d8124c2b9",
            "max": 1882978,
            "min": 0,
            "orientation": "horizontal",
            "style": "IPY_MODEL_75f05a131c0a4b0abda1409628e7940a",
            "value": 1882978
          }
        },
        "fade928be8b74a2387589db2c4ea95f1": {
          "model_module": "@jupyter-widgets/controls",
          "model_module_version": "1.5.0",
          "model_name": "HBoxModel",
          "state": {
            "_dom_classes": [],
            "_model_module": "@jupyter-widgets/controls",
            "_model_module_version": "1.5.0",
            "_model_name": "HBoxModel",
            "_view_count": null,
            "_view_module": "@jupyter-widgets/controls",
            "_view_module_version": "1.5.0",
            "_view_name": "HBoxView",
            "box_style": "",
            "children": [
              "IPY_MODEL_977c265b99564608be1d810464997868",
              "IPY_MODEL_9ced7242c39440f591fe2f0295eb2583",
              "IPY_MODEL_c5594b794e144a93883b4f88980b6db9"
            ],
            "layout": "IPY_MODEL_cae3b70c53e241d5814536440db20c5a"
          }
        },
        "faeb8a37bf2540bb9abff0be8e3df41b": {
          "model_module": "@jupyter-widgets/controls",
          "model_module_version": "1.5.0",
          "model_name": "HBoxModel",
          "state": {
            "_dom_classes": [],
            "_model_module": "@jupyter-widgets/controls",
            "_model_module_version": "1.5.0",
            "_model_name": "HBoxModel",
            "_view_count": null,
            "_view_module": "@jupyter-widgets/controls",
            "_view_module_version": "1.5.0",
            "_view_name": "HBoxView",
            "box_style": "",
            "children": [
              "IPY_MODEL_fb974c4ac4084f018ea67fff78a12e3d",
              "IPY_MODEL_aa34995449bc434d839ddc5ff08bc020",
              "IPY_MODEL_20c7d892f7814150ba3e5953879317d1"
            ],
            "layout": "IPY_MODEL_f89aa3a40f954565835531b2d5d8d61b"
          }
        },
        "fb974c4ac4084f018ea67fff78a12e3d": {
          "model_module": "@jupyter-widgets/controls",
          "model_module_version": "1.5.0",
          "model_name": "HTMLModel",
          "state": {
            "_dom_classes": [],
            "_model_module": "@jupyter-widgets/controls",
            "_model_module_version": "1.5.0",
            "_model_name": "HTMLModel",
            "_view_count": null,
            "_view_module": "@jupyter-widgets/controls",
            "_view_module_version": "1.5.0",
            "_view_name": "HTMLView",
            "description": "",
            "description_tooltip": null,
            "layout": "IPY_MODEL_159e196599cf43db94b8a16db8a75da8",
            "placeholder": "​",
            "style": "IPY_MODEL_84f171d74f034a8ead2434d69df7d3e0",
            "value": "Downloading: 100%"
          }
        },
        "fd628daff77c4f82a220b370d903d28a": {
          "model_module": "@jupyter-widgets/controls",
          "model_module_version": "1.5.0",
          "model_name": "HBoxModel",
          "state": {
            "_dom_classes": [],
            "_model_module": "@jupyter-widgets/controls",
            "_model_module_version": "1.5.0",
            "_model_name": "HBoxModel",
            "_view_count": null,
            "_view_module": "@jupyter-widgets/controls",
            "_view_module_version": "1.5.0",
            "_view_name": "HBoxView",
            "box_style": "",
            "children": [
              "IPY_MODEL_6158c75d35ba4055bd885ceac5f6e33e",
              "IPY_MODEL_9ee9a572e32d4b9282770675ae1bed79",
              "IPY_MODEL_085be35c9d6a464eaa0e8a68a2e5115d"
            ],
            "layout": "IPY_MODEL_76ad3478550c4aa18c25ee6821445217"
          }
        }
      }
    }
  },
  "nbformat": 4,
  "nbformat_minor": 0
}