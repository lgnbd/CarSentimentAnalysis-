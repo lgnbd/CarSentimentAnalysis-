{
  "nbformat": 4,
  "nbformat_minor": 0,
  "metadata": {
    "colab": {
      "provenance": [],
      "collapsed_sections": []
    },
    "kernelspec": {
      "name": "python3",
      "display_name": "Python 3"
    },
    "language_info": {
      "name": "python"
    }
  },
  "cells": [
    {
      "cell_type": "code",
      "execution_count": null,
      "metadata": {
        "colab": {
          "base_uri": "https://localhost:8080/"
        },
        "id": "Za4MGmBN2GXC",
        "outputId": "2cce9129-02f3-4ae2-b8e6-f5f5f09a9f27"
      },
      "outputs": [
        {
          "output_type": "stream",
          "name": "stdout",
          "text": [
            "Looking in indexes: https://pypi.org/simple, https://us-python.pkg.dev/colab-wheels/public/simple/\n",
            "Requirement already satisfied: hazm in /usr/local/lib/python3.7/dist-packages (0.7.0)\n",
            "Requirement already satisfied: nltk==3.3 in /usr/local/lib/python3.7/dist-packages (from hazm) (3.3)\n",
            "Requirement already satisfied: libwapiti>=0.2.1 in /usr/local/lib/python3.7/dist-packages (from hazm) (0.2.1)\n",
            "Requirement already satisfied: six in /usr/local/lib/python3.7/dist-packages (from nltk==3.3->hazm) (1.15.0)\n"
          ]
        }
      ],
      "source": [
        "!pip install hazm"
      ]
    },
    {
      "cell_type": "code",
      "source": [
        "# Install required packages\n",
        "\n",
        "!pip install -q transformers\n",
        "!pip install -q hazm\n",
        "!pip install -q clean-text[gpl]"
      ],
      "metadata": {
        "id": "fV3_bS5h3X5C",
        "colab": {
          "base_uri": "https://localhost:8080/"
        },
        "outputId": "0288025e-9065-437f-d8ba-b95cb376993c"
      },
      "execution_count": null,
      "outputs": [
        {
          "output_type": "stream",
          "name": "stdout",
          "text": [
            "\u001b[K     |████████████████████████████████| 4.9 MB 19.0 MB/s \n",
            "\u001b[K     |████████████████████████████████| 163 kB 49.1 MB/s \n",
            "\u001b[K     |████████████████████████████████| 6.6 MB 39.4 MB/s \n",
            "\u001b[K     |████████████████████████████████| 53 kB 760 kB/s \n",
            "\u001b[K     |████████████████████████████████| 175 kB 11.3 MB/s \n",
            "\u001b[K     |████████████████████████████████| 235 kB 44.6 MB/s \n",
            "\u001b[?25h  Building wheel for emoji (setup.py) ... \u001b[?25l\u001b[?25hdone\n"
          ]
        }
      ]
    },
    {
      "cell_type": "code",
      "source": [
        "!pip install pyyaml==5.4.1"
      ],
      "metadata": {
        "colab": {
          "base_uri": "https://localhost:8080/"
        },
        "id": "vPe3ffbE3X9G",
        "outputId": "ffc8d9ad-56c2-46e4-b6a3-9762a172d111"
      },
      "execution_count": null,
      "outputs": [
        {
          "output_type": "stream",
          "name": "stdout",
          "text": [
            "Looking in indexes: https://pypi.org/simple, https://us-python.pkg.dev/colab-wheels/public/simple/\n",
            "Collecting pyyaml==5.4.1\n",
            "  Downloading PyYAML-5.4.1-cp37-cp37m-manylinux1_x86_64.whl (636 kB)\n",
            "\u001b[K     |████████████████████████████████| 636 kB 28.2 MB/s \n",
            "\u001b[?25hInstalling collected packages: pyyaml\n",
            "  Attempting uninstall: pyyaml\n",
            "    Found existing installation: PyYAML 6.0\n",
            "    Uninstalling PyYAML-6.0:\n",
            "      Successfully uninstalled PyYAML-6.0\n",
            "Successfully installed pyyaml-5.4.1\n"
          ]
        }
      ]
    },
    {
      "cell_type": "code",
      "source": [
        "# Import required packages\n",
        "\n",
        "import numpy as np\n",
        "import pandas as pd\n",
        "\n",
        "from sklearn.model_selection import train_test_split\n",
        "from sklearn.metrics import classification_report\n",
        "from sklearn.metrics import f1_score\n",
        "from sklearn.utils import shuffle\n",
        "\n",
        "import hazm\n",
        "from cleantext import clean\n",
        "\n",
        "import plotly.express as px\n",
        "import plotly.graph_objects as go\n",
        "\n",
        "from tqdm.notebook import tqdm\n",
        "\n",
        "import os\n",
        "import re\n",
        "import json\n",
        "import copy\n",
        "import collections"
      ],
      "metadata": {
        "id": "0W0vaPy-3X_m"
      },
      "execution_count": null,
      "outputs": []
    },
    {
      "cell_type": "code",
      "source": [
        "import json\n",
        "f = open('/content/drive/MyDrive/car_data/tondar90.json' , encoding='utf-8', errors='ignore')\n",
        "import subprocess as sp\n",
        "from pandas.core.common import flatten\n",
        "\n",
        "data = json.load(f)\n",
        "s1=[]\n",
        "for i in range(0,len(data['messages'])):\n",
        "  if len(data['messages'][i]['text']) >= 1 :\n",
        "    \n",
        "    if len(data['messages'][i]['text'][0]) == 1 :\n",
        "       s1.append(data['messages'][i]['text'])\n",
        "      \n",
        "\n",
        "  \n",
        "\n",
        "\n",
        " \n",
        "\n",
        "\n",
        "s0=list(flatten(s1))\n"
      ],
      "metadata": {
        "id": "_Xeph6Z03YB-"
      },
      "execution_count": null,
      "outputs": []
    },
    {
      "cell_type": "code",
      "source": [],
      "metadata": {
        "id": "TelC6mLzdk9u"
      },
      "execution_count": null,
      "outputs": []
    },
    {
      "cell_type": "code",
      "source": [
        "mydict={\n",
        "    \"اصتحلاک\" :\"اصطکاک\"\n",
        "    ,\n",
        "    \"اصتحهلاک\": \"استهلاک\"\n",
        "    ,\n",
        "    \"اصحلاک\" : \"استهلاک\"\n",
        "    ,\n",
        "    \"اصطحلاک\" :\"استهلاک\"\n",
        "    ,\n",
        "    \"اصطلاک\":\"استهلاک\"\n",
        "    ,\n",
        "    \"اصطکاک\":\"اصطکاک\"\n",
        "    ,\n",
        "    \"انزکتور\": \"انژکتور\"\n",
        "    ,\n",
        "    \"بربرینگ\":\"بربلینگ\"\n",
        "    ,\n",
        "    \"دفرانسیل\":\"دیفرانسیل\"\n",
        "    ,\n",
        "    \"میکن\":\"میگن\"\n",
        "    ,\n",
        "    \"یسری\":\"یه سری\"\n",
        "  \n",
        "    \n",
        "\n",
        "}"
      ],
      "metadata": {
        "id": "v4pi4XH9O-Cl"
      },
      "execution_count": null,
      "outputs": []
    },
    {
      "cell_type": "code",
      "source": [
        "sentences=[]\n",
        "for sentence in s0:\n",
        "  for word in mydict:\n",
        "     sentence=sentence.replace(word,mydict[word])\n",
        "  sentences.append(sentence)\n",
        "\n"
      ],
      "metadata": {
        "id": "K4oJ5nhMZ7W1"
      },
      "execution_count": null,
      "outputs": []
    },
    {
      "cell_type": "code",
      "source": [
        "s0=sentences"
      ],
      "metadata": {
        "id": "hqxaa7X9eYV4"
      },
      "execution_count": null,
      "outputs": []
    },
    {
      "cell_type": "code",
      "source": [
        "len(s0)"
      ],
      "metadata": {
        "colab": {
          "base_uri": "https://localhost:8080/"
        },
        "id": "nEtJ_2syBWiD",
        "outputId": "e7fe66db-b692-4fcd-ae9e-3755b9a48d7e"
      },
      "execution_count": null,
      "outputs": [
        {
          "output_type": "execute_result",
          "data": {
            "text/plain": [
              "480874"
            ]
          },
          "metadata": {},
          "execution_count": 172
        }
      ]
    },
    {
      "cell_type": "code",
      "source": [
        "from __future__ import unicode_literals\n",
        "from hazm import *\n",
        "import re\n",
        "t=[]\n",
        "charRe =  re.compile(\"[.;:!\\'?,\\\"()\\[\\]]\")\n",
        "charRe1 =  re.compile(\"(<br\\s*/><br\\s*/>)|(\\-)|(\\/)\")\n",
        "i=0\n",
        "qq=[]\n",
        "for index,item in enumerate(s0): \n",
        "  d1 = re.sub('[%�.()-=+*/,!]', '', item)\n",
        "  t.append(d1)\n",
        "\n",
        "m=[\"?\",\"؟\"]\n",
        "for s in s0:\n",
        "   if (any(x in s for x in m)==False):\n",
        "      qq.append(s)\n",
        "\n",
        "for index,item in enumerate(qq): \n",
        "  charRe.match(item)\n",
        "  charRe1.match(item)\n",
        "\n",
        "t=qq\n",
        "   "
      ],
      "metadata": {
        "id": "lPJCE5db3YEO"
      },
      "execution_count": null,
      "outputs": []
    },
    {
      "cell_type": "code",
      "source": [
        "def cleanhtml(raw_html):\n",
        "    cleanr = re.compile('<.*?>')\n",
        "    cleantext = re.sub(cleanr, '', raw_html)\n",
        "    return cleantext\n",
        "\n",
        "\n",
        "def cleaning(text):\n",
        "    text = text.strip()\n",
        "    \n",
        "    # regular cleaning\n",
        "    text = clean(text,\n",
        "        fix_unicode=True,\n",
        "        to_ascii=False,\n",
        "        lower=True,\n",
        "        no_line_breaks=True,\n",
        "        no_urls=True,\n",
        "        no_emails=True,\n",
        "        no_phone_numbers=True,\n",
        "        no_numbers=False,\n",
        "        no_digits=False,\n",
        "        no_currency_symbols=True,\n",
        "        no_punct=False,\n",
        "        replace_with_url=\"\",\n",
        "        replace_with_email=\"\",\n",
        "        replace_with_phone_number=\"\",\n",
        "        replace_with_number=\"\",\n",
        "        replace_with_digit=\"0\",\n",
        "        replace_with_currency_symbol=\"\",\n",
        "    )\n",
        "\n",
        "    # cleaning htmls\n",
        "    text = cleanhtml(text)\n",
        "    \n",
        "    # normalizing\n",
        "    normalizer = hazm.Normalizer()\n",
        "    text = normalizer.normalize(text)\n",
        "    \n",
        "    # removing wierd patterns\n",
        "    wierd_pattern = re.compile(\"[\"\n",
        "        u\"\\U0001F600-\\U0001F64F\"  # emoticons\n",
        "        u\"\\U0001F300-\\U0001F5FF\"  # symbols & pictographs\n",
        "        u\"\\U0001F680-\\U0001F6FF\"  # transport & map symbols\n",
        "        u\"\\U0001F1E0-\\U0001F1FF\"  # flags (iOS)\n",
        "        u\"\\U00002702-\\U000027B0\"\n",
        "        u\"\\U000024C2-\\U0001F251\"\n",
        "        u\"\\U0001f926-\\U0001f937\"\n",
        "        u'\\U00010000-\\U0010ffff'\n",
        "        u\"\\u200d\"\n",
        "        u\"\\u2640-\\u2642\"\n",
        "        u\"\\u2600-\\u2B55\"\n",
        "        u\"\\u23cf\"\n",
        "        u\"\\u23e9\"\n",
        "        u\"\\u231a\"\n",
        "        u\"\\u3030\"\n",
        "        u\"\\ufe0f\"\n",
        "        u\"\\u2069\"\n",
        "        u\"\\u2066\"\n",
        "        # u\"\\u200c\"\n",
        "        u\"\\u2068\"\n",
        "        u\"\\u2067\"\n",
        "        \"]+\", flags=re.UNICODE)\n",
        "    \n",
        "    text = wierd_pattern.sub(r'', text)\n",
        "    \n",
        "    # removing extra spaces, hashtags\n",
        "    text = re.sub(\"#\", \"\", text)\n",
        "    text = re.sub(\"\\s+\", \" \", text)\n",
        "    \n",
        "    return text"
      ],
      "metadata": {
        "id": "GeXRKigL3YHv"
      },
      "execution_count": null,
      "outputs": []
    },
    {
      "cell_type": "code",
      "source": [
        "import pandas as pd\n",
        "\n",
        "data1 = pd.DataFrame (qq, columns = ['comment'])"
      ],
      "metadata": {
        "id": "sZt7ZCXU4_c7"
      },
      "execution_count": null,
      "outputs": []
    },
    {
      "cell_type": "code",
      "source": [
        "data1['cleaned_comment'] = data1['comment'].apply(cleaning)"
      ],
      "metadata": {
        "id": "LRNA3NaZ4_fE"
      },
      "execution_count": null,
      "outputs": []
    },
    {
      "cell_type": "code",
      "source": [
        "# print data information\n",
        "print('data information')\n",
        "print(data1.info(), '\\n')\n",
        "\n",
        "# print missing values information\n",
        "print('missing values stats')\n",
        "print(data1.isnull().sum(), '\\n')\n",
        "\n"
      ],
      "metadata": {
        "colab": {
          "base_uri": "https://localhost:8080/"
        },
        "id": "EfeHeW-84_hI",
        "outputId": "717454b0-9a28-469d-d4b4-6b74478061d9"
      },
      "execution_count": null,
      "outputs": [
        {
          "output_type": "stream",
          "name": "stdout",
          "text": [
            "data information\n",
            "<class 'pandas.core.frame.DataFrame'>\n",
            "RangeIndex: 390732 entries, 0 to 390731\n",
            "Data columns (total 2 columns):\n",
            " #   Column           Non-Null Count   Dtype \n",
            "---  ------           --------------   ----- \n",
            " 0   comment          390732 non-null  object\n",
            " 1   cleaned_comment  390732 non-null  object\n",
            "dtypes: object(2)\n",
            "memory usage: 6.0+ MB\n",
            "None \n",
            "\n",
            "missing values stats\n",
            "comment            0\n",
            "cleaned_comment    0\n",
            "dtype: int64 \n",
            "\n"
          ]
        }
      ]
    },
    {
      "cell_type": "code",
      "source": [
        "# handle some conflicts with the dataset structure\n",
        "# you can find a reliable solution, for the sake of the simplicity\n",
        "# I just remove these bad combinations!\n",
        "\n",
        "data1 = data1.dropna(subset=['cleaned_comment'])\n",
        "data1 = data1.drop_duplicates(subset=['cleaned_comment'], keep='first')\n",
        "data1 = data1.reset_index(drop=True)\n",
        "\n",
        "\n",
        "# previous information after solving the conflicts\n",
        "\n",
        "# print data information\n",
        "print('data information')\n",
        "print(data1.info(), '\\n')\n",
        "\n",
        "# print missing values information\n",
        "print('missing values stats')\n",
        "print(data1.isnull().sum(), '\\n')\n"
      ],
      "metadata": {
        "colab": {
          "base_uri": "https://localhost:8080/"
        },
        "id": "OVTRKfhJ5SZS",
        "outputId": "a517b2eb-a62c-4998-b14f-a77d367e7a67"
      },
      "execution_count": null,
      "outputs": [
        {
          "output_type": "stream",
          "name": "stdout",
          "text": [
            "data information\n",
            "<class 'pandas.core.frame.DataFrame'>\n",
            "RangeIndex: 325780 entries, 0 to 325779\n",
            "Data columns (total 2 columns):\n",
            " #   Column           Non-Null Count   Dtype \n",
            "---  ------           --------------   ----- \n",
            " 0   comment          325780 non-null  object\n",
            " 1   cleaned_comment  325780 non-null  object\n",
            "dtypes: object(2)\n",
            "memory usage: 5.0+ MB\n",
            "None \n",
            "\n",
            "missing values stats\n",
            "comment            0\n",
            "cleaned_comment    0\n",
            "dtype: int64 \n",
            "\n"
          ]
        }
      ]
    },
    {
      "cell_type": "code",
      "source": [
        "dd=[]\n",
        "matches=[\"گیربکس\",\"دیفرانسیل\",\"دفرانسیل\",\"بلبرینگ\",\"توربو\",\"ابروغن\",\"گیج \",\"میل لنگ\",\"تسمه تایم\",\"سوپاپ\",\"سیلندر\",\"شمع\",\"وایر\",\"جرقه\",\"احتراق\",\"کمپرسور\",\"پروانه\",\"بازویی\",\"دمنده\",\"رادیاات\",\"موتور\",\"سوپاپ\",\"اسب بخار\",\"اسببخار\",\"گشتاور\",\"سرعت\",\"سرعت\",\"اگزوز\",\"قدرت\",\"نیوتون \",\"شتاب \",\"مصرف ترکیبی\",\"روغن \",\"ابرادیاتور \",\"اب رادیاتور\",\"فیلتر \",\"اتیلن \",\"کاتالیزور \",\"گاز \",\"مقطر \",\"روغن هیدرولیک \",\"بدنه\",\"شاسی\",\"اتاق\",\"محور\",\"باک\",\"لاستیک\",\"ارتفاع\",\"عرض\",\"طول\",\"وزن\",\"سنگین\",\"سبک\",\"سدان\",\"یکپارچه\",\"مستقل \",\"حجم\",\"عقب \",\"جلو\",\"استپ\",\"ایستایی\",\"سربالایی\",\"سرازیری\",\"کشش\",\"پایداری\",\"کنترل \",\"تطبیقی\",\"سرعت\",\"واژگونی\",\"ضد قفل\",\"ای بی اس\",\"چرخ\",\"تایر\",\"ترمز\",\"ترمز دستی\",\"پدال\",\"برف\",\"باران\",\"بارون\",\"بارندگی\",\"توزیع \",\"نیرو \",\"اسفالت \",\"کاسه نمد \",\"دیسک \",\"استهلاک \",\"اصطکاک\",\"استحکام\",\"چراغ ترمز\",\"مه شکن\",\"نوربالا\",\"چراغ جلو\",\"پرژکتور\",\"دی لایت\",\"چراغ\",\"فرمان\",\"نیرو\",\"کمکی\",\"صوتی\",\"صدا \",\"بلند گو\",\"ضبط \",\"اهنگ\",\"کیسه هوا\",\"ایربگ\",\"کمربند\",\"تهویه\",\"کولر\",\"بخاری\",\"خنک کننده\",\"ترموستات\",\"فن\",\"صندلی\",\"پارچه\",\"چرم\",\"روکش\",\"نمد\",\"ابشن \",\"سیگار\",\"فندک\",\"داشبورد\",\"کنسول\",\"چراغ مطالعه\",\"داشبرد\",\"شیشه\",\"سانروف\",\"دودی\",\"شیشه شور\",\"آینه \",\"آیینه\",\"تاشو \",\"پاناروما\",\"رنگ\",\"کهکشانی\",\"زنگ\",\"دو پوسته\",\"متالیک\",\"اسپورت\",\"کوسه ای\",\"انتن\",\"دفیوزر\",\"رکاب\",\"رینگ\",\"لوتوس\",\"قاب\",\"لگو\",\"بدنه\",\"گلگیر\",\"سپر\",\"کاپوت\",\"برف پاکن\",\"شلگیر\",\"دستگیره\",\"پلاک\",\"آژیر\",\"اداپتور\",\"باطری\",\"اتصال\",\"برق\",\"ارور\",\"سنسور\",\"آمپر\",\"امپر\",\"قفل فرمون\",\"زنجیر\",\"صندلی کودک\",\"قفل پدال\",\"آچار\",\"اچار\",\"کمک\",\"جعبه کمک\",\"اولیه\",\"جک\",\"یدکش\",\"بکسل\",\"زاپاس\",\"امداد خودرو\",\"نمایندگی\",\"تعمیرگاه\",\"کارخونه\",\"کارخانه\",]\n",
        "for sentence in data1.cleaned_comment:\n",
        "   if any(x in sentence for x in matches):\n",
        "      dd.append(sentence)"
      ],
      "metadata": {
        "id": "zBpUL0XU4_kl"
      },
      "execution_count": null,
      "outputs": []
    },
    {
      "cell_type": "code",
      "source": [
        "import pandas as pd\n",
        "\n",
        "Main_data = pd.DataFrame (dd, columns = ['comment'])\n",
        "Main_data"
      ],
      "metadata": {
        "colab": {
          "base_uri": "https://localhost:8080/",
          "height": 424
        },
        "id": "ROAaebOl5Zg1",
        "outputId": "ff0dc5ed-4411-4aab-8bf5-063505234552"
      },
      "execution_count": null,
      "outputs": [
        {
          "output_type": "execute_result",
          "data": {
            "text/plain": [
              "                                                  comment\n",
              "0       عوضش لاستیک ژاپنی تا حداقل ۵ سال خیالت راحت با...\n",
              "1       ۲۰۵ فرمان پذیری رو کم می‌کنه و فرمون سفت. می ش...\n",
              "2       ظاهر بیرونی ۲۰۷ که همون ۲۰۶ تکراریه. استپ خیلی...\n",
              "3                       بابا استپ سالاره قاطی مرغا نزنیدش\n",
              "4       از ۹۱ تا الان ۲۰۵ زیرشه آخ نگفته از ۱۸۵ هم واق...\n",
              "...                                                   ...\n",
              "107363  والا نمیدونم، اگه اصل باشه هر ۲خوبن، trw دیسک ...\n",
              "107364                                این که عکس روغن منه\n",
              "107365  ماه پیش trw اصلی را با لنت رنو فابریک بستم، لا...\n",
              "107366  سلام دوستان من الان خودم تهرانم ولی برام پیامک...\n",
              "107367                        زنگ بزن ۱۱۰ راهنماییت میگنه\n",
              "\n",
              "[107368 rows x 1 columns]"
            ],
            "text/html": [
              "\n",
              "  <div id=\"df-4606ef25-adca-43b5-b8f8-d662646db34d\">\n",
              "    <div class=\"colab-df-container\">\n",
              "      <div>\n",
              "<style scoped>\n",
              "    .dataframe tbody tr th:only-of-type {\n",
              "        vertical-align: middle;\n",
              "    }\n",
              "\n",
              "    .dataframe tbody tr th {\n",
              "        vertical-align: top;\n",
              "    }\n",
              "\n",
              "    .dataframe thead th {\n",
              "        text-align: right;\n",
              "    }\n",
              "</style>\n",
              "<table border=\"1\" class=\"dataframe\">\n",
              "  <thead>\n",
              "    <tr style=\"text-align: right;\">\n",
              "      <th></th>\n",
              "      <th>comment</th>\n",
              "    </tr>\n",
              "  </thead>\n",
              "  <tbody>\n",
              "    <tr>\n",
              "      <th>0</th>\n",
              "      <td>عوضش لاستیک ژاپنی تا حداقل ۵ سال خیالت راحت با...</td>\n",
              "    </tr>\n",
              "    <tr>\n",
              "      <th>1</th>\n",
              "      <td>۲۰۵ فرمان پذیری رو کم می‌کنه و فرمون سفت. می ش...</td>\n",
              "    </tr>\n",
              "    <tr>\n",
              "      <th>2</th>\n",
              "      <td>ظاهر بیرونی ۲۰۷ که همون ۲۰۶ تکراریه. استپ خیلی...</td>\n",
              "    </tr>\n",
              "    <tr>\n",
              "      <th>3</th>\n",
              "      <td>بابا استپ سالاره قاطی مرغا نزنیدش</td>\n",
              "    </tr>\n",
              "    <tr>\n",
              "      <th>4</th>\n",
              "      <td>از ۹۱ تا الان ۲۰۵ زیرشه آخ نگفته از ۱۸۵ هم واق...</td>\n",
              "    </tr>\n",
              "    <tr>\n",
              "      <th>...</th>\n",
              "      <td>...</td>\n",
              "    </tr>\n",
              "    <tr>\n",
              "      <th>107363</th>\n",
              "      <td>والا نمیدونم، اگه اصل باشه هر ۲خوبن، trw دیسک ...</td>\n",
              "    </tr>\n",
              "    <tr>\n",
              "      <th>107364</th>\n",
              "      <td>این که عکس روغن منه</td>\n",
              "    </tr>\n",
              "    <tr>\n",
              "      <th>107365</th>\n",
              "      <td>ماه پیش trw اصلی را با لنت رنو فابریک بستم، لا...</td>\n",
              "    </tr>\n",
              "    <tr>\n",
              "      <th>107366</th>\n",
              "      <td>سلام دوستان من الان خودم تهرانم ولی برام پیامک...</td>\n",
              "    </tr>\n",
              "    <tr>\n",
              "      <th>107367</th>\n",
              "      <td>زنگ بزن ۱۱۰ راهنماییت میگنه</td>\n",
              "    </tr>\n",
              "  </tbody>\n",
              "</table>\n",
              "<p>107368 rows × 1 columns</p>\n",
              "</div>\n",
              "      <button class=\"colab-df-convert\" onclick=\"convertToInteractive('df-4606ef25-adca-43b5-b8f8-d662646db34d')\"\n",
              "              title=\"Convert this dataframe to an interactive table.\"\n",
              "              style=\"display:none;\">\n",
              "        \n",
              "  <svg xmlns=\"http://www.w3.org/2000/svg\" height=\"24px\"viewBox=\"0 0 24 24\"\n",
              "       width=\"24px\">\n",
              "    <path d=\"M0 0h24v24H0V0z\" fill=\"none\"/>\n",
              "    <path d=\"M18.56 5.44l.94 2.06.94-2.06 2.06-.94-2.06-.94-.94-2.06-.94 2.06-2.06.94zm-11 1L8.5 8.5l.94-2.06 2.06-.94-2.06-.94L8.5 2.5l-.94 2.06-2.06.94zm10 10l.94 2.06.94-2.06 2.06-.94-2.06-.94-.94-2.06-.94 2.06-2.06.94z\"/><path d=\"M17.41 7.96l-1.37-1.37c-.4-.4-.92-.59-1.43-.59-.52 0-1.04.2-1.43.59L10.3 9.45l-7.72 7.72c-.78.78-.78 2.05 0 2.83L4 21.41c.39.39.9.59 1.41.59.51 0 1.02-.2 1.41-.59l7.78-7.78 2.81-2.81c.8-.78.8-2.07 0-2.86zM5.41 20L4 18.59l7.72-7.72 1.47 1.35L5.41 20z\"/>\n",
              "  </svg>\n",
              "      </button>\n",
              "      \n",
              "  <style>\n",
              "    .colab-df-container {\n",
              "      display:flex;\n",
              "      flex-wrap:wrap;\n",
              "      gap: 12px;\n",
              "    }\n",
              "\n",
              "    .colab-df-convert {\n",
              "      background-color: #E8F0FE;\n",
              "      border: none;\n",
              "      border-radius: 50%;\n",
              "      cursor: pointer;\n",
              "      display: none;\n",
              "      fill: #1967D2;\n",
              "      height: 32px;\n",
              "      padding: 0 0 0 0;\n",
              "      width: 32px;\n",
              "    }\n",
              "\n",
              "    .colab-df-convert:hover {\n",
              "      background-color: #E2EBFA;\n",
              "      box-shadow: 0px 1px 2px rgba(60, 64, 67, 0.3), 0px 1px 3px 1px rgba(60, 64, 67, 0.15);\n",
              "      fill: #174EA6;\n",
              "    }\n",
              "\n",
              "    [theme=dark] .colab-df-convert {\n",
              "      background-color: #3B4455;\n",
              "      fill: #D2E3FC;\n",
              "    }\n",
              "\n",
              "    [theme=dark] .colab-df-convert:hover {\n",
              "      background-color: #434B5C;\n",
              "      box-shadow: 0px 1px 3px 1px rgba(0, 0, 0, 0.15);\n",
              "      filter: drop-shadow(0px 1px 2px rgba(0, 0, 0, 0.3));\n",
              "      fill: #FFFFFF;\n",
              "    }\n",
              "  </style>\n",
              "\n",
              "      <script>\n",
              "        const buttonEl =\n",
              "          document.querySelector('#df-4606ef25-adca-43b5-b8f8-d662646db34d button.colab-df-convert');\n",
              "        buttonEl.style.display =\n",
              "          google.colab.kernel.accessAllowed ? 'block' : 'none';\n",
              "\n",
              "        async function convertToInteractive(key) {\n",
              "          const element = document.querySelector('#df-4606ef25-adca-43b5-b8f8-d662646db34d');\n",
              "          const dataTable =\n",
              "            await google.colab.kernel.invokeFunction('convertToInteractive',\n",
              "                                                     [key], {});\n",
              "          if (!dataTable) return;\n",
              "\n",
              "          const docLinkHtml = 'Like what you see? Visit the ' +\n",
              "            '<a target=\"_blank\" href=https://colab.research.google.com/notebooks/data_table.ipynb>data table notebook</a>'\n",
              "            + ' to learn more about interactive tables.';\n",
              "          element.innerHTML = '';\n",
              "          dataTable['output_type'] = 'display_data';\n",
              "          await google.colab.output.renderOutput(dataTable, element);\n",
              "          const docLink = document.createElement('div');\n",
              "          docLink.innerHTML = docLinkHtml;\n",
              "          element.appendChild(docLink);\n",
              "        }\n",
              "      </script>\n",
              "    </div>\n",
              "  </div>\n",
              "  "
            ]
          },
          "metadata": {},
          "execution_count": 180
        }
      ]
    },
    {
      "cell_type": "code",
      "source": [
        "qq=[]\n",
        "m=[\"چه جوری\",\"چی \",\"چطوره\",\"چطوریه\",\"برای چی\",\"به چه علت\",\"چرا \",\"چیه\",\"چجوری\"]\n",
        "for s in Main_data.comment:\n",
        "   if (any(x in s for x in m)==False):\n",
        "      qq.append(s)"
      ],
      "metadata": {
        "id": "1m-v2H3552S4"
      },
      "execution_count": null,
      "outputs": []
    },
    {
      "cell_type": "code",
      "source": [
        "import pandas as pd\n",
        "\n",
        "Main_data2 = pd.DataFrame (qq, columns = ['cleaned_comment'])\n",
        "Main_data2\n"
      ],
      "metadata": {
        "colab": {
          "base_uri": "https://localhost:8080/",
          "height": 424
        },
        "id": "hIGrjeMi5_IQ",
        "outputId": "3c52c8e0-3670-45f0-ddb3-fe9a793e438c"
      },
      "execution_count": null,
      "outputs": [
        {
          "output_type": "execute_result",
          "data": {
            "text/plain": [
              "                                          cleaned_comment\n",
              "0       عوضش لاستیک ژاپنی تا حداقل ۵ سال خیالت راحت با...\n",
              "1       ۲۰۵ فرمان پذیری رو کم می‌کنه و فرمون سفت. می ش...\n",
              "2       ظاهر بیرونی ۲۰۷ که همون ۲۰۶ تکراریه. استپ خیلی...\n",
              "3                       بابا استپ سالاره قاطی مرغا نزنیدش\n",
              "4       از ۹۱ تا الان ۲۰۵ زیرشه آخ نگفته از ۱۸۵ هم واق...\n",
              "...                                                   ...\n",
              "101400  والا نمیدونم، اگه اصل باشه هر ۲خوبن، trw دیسک ...\n",
              "101401                                این که عکس روغن منه\n",
              "101402  ماه پیش trw اصلی را با لنت رنو فابریک بستم، لا...\n",
              "101403  سلام دوستان من الان خودم تهرانم ولی برام پیامک...\n",
              "101404                        زنگ بزن ۱۱۰ راهنماییت میگنه\n",
              "\n",
              "[101405 rows x 1 columns]"
            ],
            "text/html": [
              "\n",
              "  <div id=\"df-6fdad29a-43a8-43d6-bfbe-895c0e8775be\">\n",
              "    <div class=\"colab-df-container\">\n",
              "      <div>\n",
              "<style scoped>\n",
              "    .dataframe tbody tr th:only-of-type {\n",
              "        vertical-align: middle;\n",
              "    }\n",
              "\n",
              "    .dataframe tbody tr th {\n",
              "        vertical-align: top;\n",
              "    }\n",
              "\n",
              "    .dataframe thead th {\n",
              "        text-align: right;\n",
              "    }\n",
              "</style>\n",
              "<table border=\"1\" class=\"dataframe\">\n",
              "  <thead>\n",
              "    <tr style=\"text-align: right;\">\n",
              "      <th></th>\n",
              "      <th>cleaned_comment</th>\n",
              "    </tr>\n",
              "  </thead>\n",
              "  <tbody>\n",
              "    <tr>\n",
              "      <th>0</th>\n",
              "      <td>عوضش لاستیک ژاپنی تا حداقل ۵ سال خیالت راحت با...</td>\n",
              "    </tr>\n",
              "    <tr>\n",
              "      <th>1</th>\n",
              "      <td>۲۰۵ فرمان پذیری رو کم می‌کنه و فرمون سفت. می ش...</td>\n",
              "    </tr>\n",
              "    <tr>\n",
              "      <th>2</th>\n",
              "      <td>ظاهر بیرونی ۲۰۷ که همون ۲۰۶ تکراریه. استپ خیلی...</td>\n",
              "    </tr>\n",
              "    <tr>\n",
              "      <th>3</th>\n",
              "      <td>بابا استپ سالاره قاطی مرغا نزنیدش</td>\n",
              "    </tr>\n",
              "    <tr>\n",
              "      <th>4</th>\n",
              "      <td>از ۹۱ تا الان ۲۰۵ زیرشه آخ نگفته از ۱۸۵ هم واق...</td>\n",
              "    </tr>\n",
              "    <tr>\n",
              "      <th>...</th>\n",
              "      <td>...</td>\n",
              "    </tr>\n",
              "    <tr>\n",
              "      <th>101400</th>\n",
              "      <td>والا نمیدونم، اگه اصل باشه هر ۲خوبن، trw دیسک ...</td>\n",
              "    </tr>\n",
              "    <tr>\n",
              "      <th>101401</th>\n",
              "      <td>این که عکس روغن منه</td>\n",
              "    </tr>\n",
              "    <tr>\n",
              "      <th>101402</th>\n",
              "      <td>ماه پیش trw اصلی را با لنت رنو فابریک بستم، لا...</td>\n",
              "    </tr>\n",
              "    <tr>\n",
              "      <th>101403</th>\n",
              "      <td>سلام دوستان من الان خودم تهرانم ولی برام پیامک...</td>\n",
              "    </tr>\n",
              "    <tr>\n",
              "      <th>101404</th>\n",
              "      <td>زنگ بزن ۱۱۰ راهنماییت میگنه</td>\n",
              "    </tr>\n",
              "  </tbody>\n",
              "</table>\n",
              "<p>101405 rows × 1 columns</p>\n",
              "</div>\n",
              "      <button class=\"colab-df-convert\" onclick=\"convertToInteractive('df-6fdad29a-43a8-43d6-bfbe-895c0e8775be')\"\n",
              "              title=\"Convert this dataframe to an interactive table.\"\n",
              "              style=\"display:none;\">\n",
              "        \n",
              "  <svg xmlns=\"http://www.w3.org/2000/svg\" height=\"24px\"viewBox=\"0 0 24 24\"\n",
              "       width=\"24px\">\n",
              "    <path d=\"M0 0h24v24H0V0z\" fill=\"none\"/>\n",
              "    <path d=\"M18.56 5.44l.94 2.06.94-2.06 2.06-.94-2.06-.94-.94-2.06-.94 2.06-2.06.94zm-11 1L8.5 8.5l.94-2.06 2.06-.94-2.06-.94L8.5 2.5l-.94 2.06-2.06.94zm10 10l.94 2.06.94-2.06 2.06-.94-2.06-.94-.94-2.06-.94 2.06-2.06.94z\"/><path d=\"M17.41 7.96l-1.37-1.37c-.4-.4-.92-.59-1.43-.59-.52 0-1.04.2-1.43.59L10.3 9.45l-7.72 7.72c-.78.78-.78 2.05 0 2.83L4 21.41c.39.39.9.59 1.41.59.51 0 1.02-.2 1.41-.59l7.78-7.78 2.81-2.81c.8-.78.8-2.07 0-2.86zM5.41 20L4 18.59l7.72-7.72 1.47 1.35L5.41 20z\"/>\n",
              "  </svg>\n",
              "      </button>\n",
              "      \n",
              "  <style>\n",
              "    .colab-df-container {\n",
              "      display:flex;\n",
              "      flex-wrap:wrap;\n",
              "      gap: 12px;\n",
              "    }\n",
              "\n",
              "    .colab-df-convert {\n",
              "      background-color: #E8F0FE;\n",
              "      border: none;\n",
              "      border-radius: 50%;\n",
              "      cursor: pointer;\n",
              "      display: none;\n",
              "      fill: #1967D2;\n",
              "      height: 32px;\n",
              "      padding: 0 0 0 0;\n",
              "      width: 32px;\n",
              "    }\n",
              "\n",
              "    .colab-df-convert:hover {\n",
              "      background-color: #E2EBFA;\n",
              "      box-shadow: 0px 1px 2px rgba(60, 64, 67, 0.3), 0px 1px 3px 1px rgba(60, 64, 67, 0.15);\n",
              "      fill: #174EA6;\n",
              "    }\n",
              "\n",
              "    [theme=dark] .colab-df-convert {\n",
              "      background-color: #3B4455;\n",
              "      fill: #D2E3FC;\n",
              "    }\n",
              "\n",
              "    [theme=dark] .colab-df-convert:hover {\n",
              "      background-color: #434B5C;\n",
              "      box-shadow: 0px 1px 3px 1px rgba(0, 0, 0, 0.15);\n",
              "      filter: drop-shadow(0px 1px 2px rgba(0, 0, 0, 0.3));\n",
              "      fill: #FFFFFF;\n",
              "    }\n",
              "  </style>\n",
              "\n",
              "      <script>\n",
              "        const buttonEl =\n",
              "          document.querySelector('#df-6fdad29a-43a8-43d6-bfbe-895c0e8775be button.colab-df-convert');\n",
              "        buttonEl.style.display =\n",
              "          google.colab.kernel.accessAllowed ? 'block' : 'none';\n",
              "\n",
              "        async function convertToInteractive(key) {\n",
              "          const element = document.querySelector('#df-6fdad29a-43a8-43d6-bfbe-895c0e8775be');\n",
              "          const dataTable =\n",
              "            await google.colab.kernel.invokeFunction('convertToInteractive',\n",
              "                                                     [key], {});\n",
              "          if (!dataTable) return;\n",
              "\n",
              "          const docLinkHtml = 'Like what you see? Visit the ' +\n",
              "            '<a target=\"_blank\" href=https://colab.research.google.com/notebooks/data_table.ipynb>data table notebook</a>'\n",
              "            + ' to learn more about interactive tables.';\n",
              "          element.innerHTML = '';\n",
              "          dataTable['output_type'] = 'display_data';\n",
              "          await google.colab.output.renderOutput(dataTable, element);\n",
              "          const docLink = document.createElement('div');\n",
              "          docLink.innerHTML = docLinkHtml;\n",
              "          element.appendChild(docLink);\n",
              "        }\n",
              "      </script>\n",
              "    </div>\n",
              "  </div>\n",
              "  "
            ]
          },
          "metadata": {},
          "execution_count": 182
        }
      ]
    },
    {
      "cell_type": "code",
      "source": [
        " Main_data2.sample(n=100)"
      ],
      "metadata": {
        "colab": {
          "base_uri": "https://localhost:8080/",
          "height": 424
        },
        "id": "qDuIv6NKacFx",
        "outputId": "e7cc914e-fa6f-4410-c9b0-a6cdb33565cd"
      },
      "execution_count": null,
      "outputs": [
        {
          "output_type": "execute_result",
          "data": {
            "text/plain": [
              "                                         cleaned_comment\n",
              "83408     یه دیاگ بزن بگو شمع ماشین رو هم تو دیاگ چک کنه\n",
              "61746           پلاستیکی احتمال تقلبی بودنش بالاست، همین\n",
              "13520  سلام. منم ۱/۷۰۰سودتاخیرگرفتم. بایدهرردزبزنگی ب...\n",
              "63930  به جز اینا سمند یکی از همکاران سوییچ مونده بود...\n",
              "21268  منظورم این بود.. اگزوز رو عوض نکردن.. هی روغن ...\n",
              "...                                                  ...\n",
              "65365  دیروز ادینول از نمایندگی رفتم شخصا خریدم ۴لیتر...\n",
              "60521  نه بابا همون لوله‌ای که گیج میره داخلش رو باز ...\n",
              "20975             یبار پشت فرمونش بشینید …گاز خورش عالیه\n",
              "28662                    داشبورد تندر مثل داشبورد پرایده\n",
              "95140  اگر اینطوریه بر اساس تجربه س منم تجربه کار ۱۰ ...\n",
              "\n",
              "[100 rows x 1 columns]"
            ],
            "text/html": [
              "\n",
              "  <div id=\"df-a6451d47-99be-438d-896a-413ddbcc7c0e\">\n",
              "    <div class=\"colab-df-container\">\n",
              "      <div>\n",
              "<style scoped>\n",
              "    .dataframe tbody tr th:only-of-type {\n",
              "        vertical-align: middle;\n",
              "    }\n",
              "\n",
              "    .dataframe tbody tr th {\n",
              "        vertical-align: top;\n",
              "    }\n",
              "\n",
              "    .dataframe thead th {\n",
              "        text-align: right;\n",
              "    }\n",
              "</style>\n",
              "<table border=\"1\" class=\"dataframe\">\n",
              "  <thead>\n",
              "    <tr style=\"text-align: right;\">\n",
              "      <th></th>\n",
              "      <th>cleaned_comment</th>\n",
              "    </tr>\n",
              "  </thead>\n",
              "  <tbody>\n",
              "    <tr>\n",
              "      <th>83408</th>\n",
              "      <td>یه دیاگ بزن بگو شمع ماشین رو هم تو دیاگ چک کنه</td>\n",
              "    </tr>\n",
              "    <tr>\n",
              "      <th>61746</th>\n",
              "      <td>پلاستیکی احتمال تقلبی بودنش بالاست، همین</td>\n",
              "    </tr>\n",
              "    <tr>\n",
              "      <th>13520</th>\n",
              "      <td>سلام. منم ۱/۷۰۰سودتاخیرگرفتم. بایدهرردزبزنگی ب...</td>\n",
              "    </tr>\n",
              "    <tr>\n",
              "      <th>63930</th>\n",
              "      <td>به جز اینا سمند یکی از همکاران سوییچ مونده بود...</td>\n",
              "    </tr>\n",
              "    <tr>\n",
              "      <th>21268</th>\n",
              "      <td>منظورم این بود.. اگزوز رو عوض نکردن.. هی روغن ...</td>\n",
              "    </tr>\n",
              "    <tr>\n",
              "      <th>...</th>\n",
              "      <td>...</td>\n",
              "    </tr>\n",
              "    <tr>\n",
              "      <th>65365</th>\n",
              "      <td>دیروز ادینول از نمایندگی رفتم شخصا خریدم ۴لیتر...</td>\n",
              "    </tr>\n",
              "    <tr>\n",
              "      <th>60521</th>\n",
              "      <td>نه بابا همون لوله‌ای که گیج میره داخلش رو باز ...</td>\n",
              "    </tr>\n",
              "    <tr>\n",
              "      <th>20975</th>\n",
              "      <td>یبار پشت فرمونش بشینید …گاز خورش عالیه</td>\n",
              "    </tr>\n",
              "    <tr>\n",
              "      <th>28662</th>\n",
              "      <td>داشبورد تندر مثل داشبورد پرایده</td>\n",
              "    </tr>\n",
              "    <tr>\n",
              "      <th>95140</th>\n",
              "      <td>اگر اینطوریه بر اساس تجربه س منم تجربه کار ۱۰ ...</td>\n",
              "    </tr>\n",
              "  </tbody>\n",
              "</table>\n",
              "<p>100 rows × 1 columns</p>\n",
              "</div>\n",
              "      <button class=\"colab-df-convert\" onclick=\"convertToInteractive('df-a6451d47-99be-438d-896a-413ddbcc7c0e')\"\n",
              "              title=\"Convert this dataframe to an interactive table.\"\n",
              "              style=\"display:none;\">\n",
              "        \n",
              "  <svg xmlns=\"http://www.w3.org/2000/svg\" height=\"24px\"viewBox=\"0 0 24 24\"\n",
              "       width=\"24px\">\n",
              "    <path d=\"M0 0h24v24H0V0z\" fill=\"none\"/>\n",
              "    <path d=\"M18.56 5.44l.94 2.06.94-2.06 2.06-.94-2.06-.94-.94-2.06-.94 2.06-2.06.94zm-11 1L8.5 8.5l.94-2.06 2.06-.94-2.06-.94L8.5 2.5l-.94 2.06-2.06.94zm10 10l.94 2.06.94-2.06 2.06-.94-2.06-.94-.94-2.06-.94 2.06-2.06.94z\"/><path d=\"M17.41 7.96l-1.37-1.37c-.4-.4-.92-.59-1.43-.59-.52 0-1.04.2-1.43.59L10.3 9.45l-7.72 7.72c-.78.78-.78 2.05 0 2.83L4 21.41c.39.39.9.59 1.41.59.51 0 1.02-.2 1.41-.59l7.78-7.78 2.81-2.81c.8-.78.8-2.07 0-2.86zM5.41 20L4 18.59l7.72-7.72 1.47 1.35L5.41 20z\"/>\n",
              "  </svg>\n",
              "      </button>\n",
              "      \n",
              "  <style>\n",
              "    .colab-df-container {\n",
              "      display:flex;\n",
              "      flex-wrap:wrap;\n",
              "      gap: 12px;\n",
              "    }\n",
              "\n",
              "    .colab-df-convert {\n",
              "      background-color: #E8F0FE;\n",
              "      border: none;\n",
              "      border-radius: 50%;\n",
              "      cursor: pointer;\n",
              "      display: none;\n",
              "      fill: #1967D2;\n",
              "      height: 32px;\n",
              "      padding: 0 0 0 0;\n",
              "      width: 32px;\n",
              "    }\n",
              "\n",
              "    .colab-df-convert:hover {\n",
              "      background-color: #E2EBFA;\n",
              "      box-shadow: 0px 1px 2px rgba(60, 64, 67, 0.3), 0px 1px 3px 1px rgba(60, 64, 67, 0.15);\n",
              "      fill: #174EA6;\n",
              "    }\n",
              "\n",
              "    [theme=dark] .colab-df-convert {\n",
              "      background-color: #3B4455;\n",
              "      fill: #D2E3FC;\n",
              "    }\n",
              "\n",
              "    [theme=dark] .colab-df-convert:hover {\n",
              "      background-color: #434B5C;\n",
              "      box-shadow: 0px 1px 3px 1px rgba(0, 0, 0, 0.15);\n",
              "      filter: drop-shadow(0px 1px 2px rgba(0, 0, 0, 0.3));\n",
              "      fill: #FFFFFF;\n",
              "    }\n",
              "  </style>\n",
              "\n",
              "      <script>\n",
              "        const buttonEl =\n",
              "          document.querySelector('#df-a6451d47-99be-438d-896a-413ddbcc7c0e button.colab-df-convert');\n",
              "        buttonEl.style.display =\n",
              "          google.colab.kernel.accessAllowed ? 'block' : 'none';\n",
              "\n",
              "        async function convertToInteractive(key) {\n",
              "          const element = document.querySelector('#df-a6451d47-99be-438d-896a-413ddbcc7c0e');\n",
              "          const dataTable =\n",
              "            await google.colab.kernel.invokeFunction('convertToInteractive',\n",
              "                                                     [key], {});\n",
              "          if (!dataTable) return;\n",
              "\n",
              "          const docLinkHtml = 'Like what you see? Visit the ' +\n",
              "            '<a target=\"_blank\" href=https://colab.research.google.com/notebooks/data_table.ipynb>data table notebook</a>'\n",
              "            + ' to learn more about interactive tables.';\n",
              "          element.innerHTML = '';\n",
              "          dataTable['output_type'] = 'display_data';\n",
              "          await google.colab.output.renderOutput(dataTable, element);\n",
              "          const docLink = document.createElement('div');\n",
              "          docLink.innerHTML = docLinkHtml;\n",
              "          element.appendChild(docLink);\n",
              "        }\n",
              "      </script>\n",
              "    </div>\n",
              "  </div>\n",
              "  "
            ]
          },
          "metadata": {},
          "execution_count": 183
        }
      ]
    },
    {
      "cell_type": "code",
      "source": [
        "len(Main_data2)"
      ],
      "metadata": {
        "colab": {
          "base_uri": "https://localhost:8080/"
        },
        "id": "xqbofwbOBe16",
        "outputId": "d87c57c5-7528-4160-87f3-012b6213e955"
      },
      "execution_count": null,
      "outputs": [
        {
          "output_type": "execute_result",
          "data": {
            "text/plain": [
              "101405"
            ]
          },
          "metadata": {},
          "execution_count": 184
        }
      ]
    },
    {
      "cell_type": "code",
      "source": [
        "import pickle \n",
        "with open('/content/drive/MyDrive/pickle file/tondar90.pkl', 'wb') as handle:\n",
        "    pickle.dump(Main_data2, handle, protocol=pickle.HIGHEST_PROTOCOL)"
      ],
      "metadata": {
        "id": "StBowqCn6ErY"
      },
      "execution_count": null,
      "outputs": []
    }
  ]
}